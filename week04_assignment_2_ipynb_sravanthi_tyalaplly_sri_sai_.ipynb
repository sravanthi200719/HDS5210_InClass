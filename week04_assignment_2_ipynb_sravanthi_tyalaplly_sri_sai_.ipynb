{
  "cells": [
    {
      "cell_type": "markdown",
      "metadata": {
        "id": "view-in-github",
        "colab_type": "text"
      },
      "source": [
        "<a href=\"https://colab.research.google.com/github/sravanthi200719/HDS5210_InClass/blob/master/week04_assignment_2_ipynb_sravanthi_tyalaplly_sri_sai_.ipynb\" target=\"_parent\"><img src=\"https://colab.research.google.com/assets/colab-badge.svg\" alt=\"Open In Colab\"/></a>"
      ]
    },
    {
      "cell_type": "markdown",
      "metadata": {
        "nbgrader": {
          "grade": false,
          "grade_id": "intro",
          "locked": true,
          "schema_version": 1,
          "solution": false
        },
        "id": "OsnbXPo5pB2K"
      },
      "source": [
        "# Week 4 Assignment\n",
        "\n",
        "See: _McKinney 3.1_ and [Python Documentation](https://docs.python.org/3/tutorial/datastructures.html) section 5 on data structures.\n",
        "\n",
        "Modules 13 through 15 have all been about different built-in data types that can be used to create larger and more complex data structures.  We learned about tuples, lists, dictionaries, and how to access and process that data in new ways.\n",
        "\n",
        "**At the begining of the semester, all of the workshop programming exercises will be structured a specific way to make it easier to verify for yourself that you're on the right track as well as easier for me to do a first pass on automated grading.  The structure of each question will require you to write a function using Python code. Don't worry that we haven't talked about functions yet. Just edit the code between** `### BEGIN SOLUTION` and `### END SOLUTION` **as shown in the example below.**\n"
      ]
    },
    {
      "cell_type": "markdown",
      "metadata": {
        "id": "BzdK3u9FpB2M"
      },
      "source": [
        "**WHAT I PROVIDE:**\n",
        "```\n",
        "def some_function(parameter1, parameter2):\n",
        "\n",
        "   ### BEGIN SOLUTION\n",
        "   x = -1\n",
        "   ### END SOLUTION\n",
        "   \n",
        "   return x\n",
        "```\n",
        "\n",
        "**WHAT YOU SHOULD DO:** Just change the parameter names (if you feel you need to) and the calculations between `### BEGIN SOLUTION` and `### END SOLUTION`.  This is just a made up example.\n",
        "```\n",
        "def some_function(a, b):\n",
        "\n",
        "   ### BEGIN SOLUTION\n",
        "   temp = a + b\n",
        "   x = temp / a * b\n",
        "   ### END SOLUTION\n",
        "   \n",
        "   return x\n",
        "```\n"
      ]
    },
    {
      "cell_type": "markdown",
      "metadata": {
        "id": "WsijeaaEpB2N"
      },
      "source": [
        "---\n",
        "---\n",
        "\n",
        "**Below each programming exercise are some tests (`assertions`) that verify your code is working correctly.  If any assertions fail, you know that something isnt' right with your code, but having all assertions pass doesn't necessarily mean your code is perfect, yet. You should also create your own tests to make sure your code is correct.**\n",
        "\n",
        "**For now, please don't change any function names**"
      ]
    },
    {
      "cell_type": "markdown",
      "metadata": {
        "id": "v4UtnFlmpB2N"
      },
      "source": [
        "### 15.1 Create a sorted list of names\n",
        "\n",
        "Take the list of names below (some are first and last, others are first, middle, and last) and produce a final list of full names.\n",
        "\n",
        "```\n",
        "sort_names([\n",
        "  ['Adam', 'Doyle'],\n",
        "  ['Kermit','the','Frog'],\n",
        "  ['Donald','Duck']])\n",
        "\n",
        "['Adam Doyle', 'Donald Duck', 'Kermit the Frog']\n",
        "```"
      ]
    },
    {
      "cell_type": "code",
      "source": [
        "def name_sorter(name_list):\n",
        "    # Combine first, middle (if present), and last names into full names\n",
        "    full_names = [' '.join(name) for name in name_list]\n",
        "\n",
        "    # Sort the names alphabetically based on the first name\n",
        "    full_names.sort()\n",
        "\n",
        "    return full_names\n",
        "\n",
        "# Test cases\n",
        "names = [['Adam', 'Doyle'],\n",
        "         ['Kermit', 'the', 'Frog'],\n",
        "         ['Donald', 'Duck']]\n",
        "\n",
        "assert name_sorter(names) == ['Adam Doyle', 'Donald Duck', 'Kermit the Frog']\n"
      ],
      "metadata": {
        "id": "6VWqWt9op1eD"
      },
      "execution_count": 1,
      "outputs": []
    },
    {
      "cell_type": "code",
      "source": [
        "def name_sorter(name_list):\n",
        "    # Combine first, middle (if present), and last names into full names\n",
        "    full_names = [' '.join(name) for name in name_list]\n",
        "\n",
        "    # Sort the names alphabetically based on the first name\n",
        "    # The lambda function splits each full name into words (name parts) and sorts based on the first part (first name)\n",
        "    full_names.sort(key=lambda x: x.split()[0])\n",
        "\n",
        "    return full_names\n",
        "\n",
        "\n"
      ],
      "metadata": {
        "id": "sPMlAivQqd72"
      },
      "execution_count": 2,
      "outputs": []
    },
    {
      "cell_type": "code",
      "source": [
        "names = [['Adam', 'Doyle'],\n",
        "         ['Kermit', 'the', 'Frog'],\n",
        "         ['Donald', 'Duck']]\n",
        "sorted_names = name_sorter(names)\n",
        "print(sorted_names)\n",
        "assert name_sorter(names) == ['Adam Doyle', 'Donald Duck', 'Kermit the Frog']"
      ],
      "metadata": {
        "id": "TqYiGu9I7SDU",
        "colab": {
          "base_uri": "https://localhost:8080/"
        },
        "outputId": "840e19d8-3a99-464c-8b6c-78a4eed47751"
      },
      "execution_count": 3,
      "outputs": [
        {
          "output_type": "stream",
          "name": "stdout",
          "text": [
            "['Adam Doyle', 'Donald Duck', 'Kermit the Frog']\n"
          ]
        }
      ]
    },
    {
      "cell_type": "code",
      "source": [
        "#MY TESTCASE-1\n",
        "names = [['sravanthi', 'tyalapally'],\n",
        "         ['sri', 'sai', 'sravanthi'],\n",
        "         ['saint', 'louis']]\n",
        "sorted_names = name_sorter(names)\n",
        "print(sorted_names)\n",
        "\n",
        "assert name_sorter(names) == ['saint louis','sravanthi tyalapally','sri sai sravanthi']"
      ],
      "metadata": {
        "id": "FF1EkWb87jyB",
        "colab": {
          "base_uri": "https://localhost:8080/"
        },
        "outputId": "dd9542e2-8a44-44ee-86ae-64d658102d6e"
      },
      "execution_count": 4,
      "outputs": [
        {
          "output_type": "stream",
          "name": "stdout",
          "text": [
            "['saint louis', 'sravanthi tyalapally', 'sri sai sravanthi']\n"
          ]
        }
      ]
    },
    {
      "cell_type": "code",
      "source": [
        "names_test_case = [\n",
        "    ['kumar', 'rajan'],\n",
        "    ['anil', 'krishna', 'ravi'],\n",
        "    ['padma', 'sri', 'lakshmi'],\n",
        "    ['venkat', 'subramanian'],\n",
        "    ['swathi', 'chandra', 'priya']\n",
        "]\n",
        "sorted_names = name_sorter(names_test_case)\n",
        "print(sorted_names)\n",
        "\n",
        "assert name_sorter(names_test_case) == ['anil krishna ravi', 'kumar rajan', 'padma sri lakshmi', 'swathi chandra priya', 'venkat subramanian']"
      ],
      "metadata": {
        "colab": {
          "base_uri": "https://localhost:8080/"
        },
        "id": "kUmdm-bp6gXd",
        "outputId": "30b4dd31-ac06-4d74-be45-857e9399cd72"
      },
      "execution_count": 5,
      "outputs": [
        {
          "output_type": "stream",
          "name": "stdout",
          "text": [
            "['anil krishna ravi', 'kumar rajan', 'padma sri lakshmi', 'swathi chandra priya', 'venkat subramanian']\n"
          ]
        }
      ]
    },
    {
      "cell_type": "markdown",
      "metadata": {
        "id": "PMqYti5dpB2O"
      },
      "source": [
        "**Tip:** If you have a list of lists and want to sort it, Python can do that. It will simply sort using the first item in each of the lists inside your list."
      ]
    },
    {
      "cell_type": "code",
      "execution_count": 6,
      "metadata": {
        "id": "sfQScmdTpB2O"
      },
      "outputs": [],
      "source": [
        "names = [['Adam', 'Doyle'],\n",
        "  ['Kermit','Frog'],\n",
        "  ['Donald','Duck']]"
      ]
    },
    {
      "cell_type": "code",
      "execution_count": 7,
      "metadata": {
        "id": "IpEUOqG_pB2P"
      },
      "outputs": [],
      "source": [
        "def name_sorter(name_list):\n",
        "    # Do something\n",
        "    full_names = \"...\"\n",
        "    return full_names"
      ]
    },
    {
      "cell_type": "code",
      "source": [
        "def name_sorter(name_list):\n",
        "    \"\"\"\n",
        "    Sorts a list of names (each name is a list of parts) alphabetically\n",
        "    by the first element in each sublist (first name).\n",
        "\n",
        "    Parameters:\n",
        "    name_list (list of lists): Each inner list contains parts of a name.\n",
        "\n",
        "    Returns:\n",
        "    list: A sorted list of names based on the first name.\n",
        "    \"\"\"\n",
        "\n",
        "    # Sort the list of names based on the first element (first name) of each sublist\n",
        "    name_list.sort()\n",
        "\n",
        "    # Combine the first and last names into full names using ' '.join()\n",
        "    full_names = [' '.join(name) for name in name_list]\n",
        "\n",
        "    return full_names\n",
        "\n",
        "\n"
      ],
      "metadata": {
        "id": "nss4_RkwB64a"
      },
      "execution_count": 8,
      "outputs": []
    },
    {
      "cell_type": "code",
      "source": [
        "# Example usage\n",
        "names = [['Adam', 'Doyle'],\n",
        "         ['Kermit', 'Frog'],\n",
        "         ['Donald', 'Duck']]\n",
        "\n",
        "sorted_names = name_sorter(names)\n",
        "print(sorted_names)\n",
        "\n",
        "assert name_sorter(names) == [\"Adam Doyle\", \"Donald Duck\", \"Kermit Frog\"]"
      ],
      "metadata": {
        "colab": {
          "base_uri": "https://localhost:8080/"
        },
        "id": "58_BVhq05dEP",
        "outputId": "ece8c72a-8343-4ef5-9f28-764eb268d4b6"
      },
      "execution_count": 9,
      "outputs": [
        {
          "output_type": "stream",
          "name": "stdout",
          "text": [
            "['Adam Doyle', 'Donald Duck', 'Kermit Frog']\n"
          ]
        }
      ]
    },
    {
      "cell_type": "code",
      "source": [
        "names = [['sravanthi', 'tyalaplly'],\n",
        "         ['pranaya','bhemishetti'],\n",
        "         ['shaik','sohail'],\n",
        "         ['shaik','sumaya']]\n",
        "sorted_names = name_sorter(names)\n",
        "print(sorted_names)"
      ],
      "metadata": {
        "colab": {
          "base_uri": "https://localhost:8080/"
        },
        "id": "6uJrzgrcCQSI",
        "outputId": "53a22b06-96cc-47e8-b87a-e5d519896d1e"
      },
      "execution_count": 10,
      "outputs": [
        {
          "output_type": "stream",
          "name": "stdout",
          "text": [
            "['pranaya bhemishetti', 'shaik sohail', 'shaik sumaya', 'sravanthi tyalaplly']\n"
          ]
        }
      ]
    },
    {
      "cell_type": "markdown",
      "metadata": {
        "id": "ExGeZLi5pB2Q"
      },
      "source": [
        "### 15.2 Convert a dictionary to a list\n",
        "\n",
        "In this exercise, we're going to take a dictionary that has families and their names, and convert that into a list of names.  The dictionary is structured such that the key is the family name, and the value for that key is a list of first names.\n",
        "\n",
        "```\n",
        "{\n",
        "  'Doyle': ['Adam', 'Oliver', 'Xavier'],\n",
        "  'Duck': ['Donald', 'Daisy', 'Howard'],\n",
        "  'Mouse': ['Mickey', 'Minnie', 'Mighty']\n",
        "}\n",
        "\n",
        "[['Doyle', 'Adam'],\n",
        " ['Doyle', 'Oliver'],\n",
        " ['Doyle', 'Xavier'],\n",
        " ['Duck', 'Donald'],\n",
        " ['Duck', 'Daisy'],\n",
        " ...\n",
        "```"
      ]
    },
    {
      "cell_type": "code",
      "source": [
        "def dict_to_list(families):\n",
        "    # Do something\n",
        "    output = []\n",
        "    return output"
      ],
      "metadata": {
        "id": "8e1Yjo-Zmspa"
      },
      "execution_count": 11,
      "outputs": []
    },
    {
      "cell_type": "code",
      "source": [
        "def dict_to_list(family_dict):\n",
        "    # Create a list of lists by iterating through the dictionary\n",
        "    result = [[last_name, first_name] for last_name, first_names in family_dict.items() for first_name in first_names]\n",
        "    return result\n",
        "\n"
      ],
      "metadata": {
        "id": "6pKfJ9_NrBGN"
      },
      "execution_count": 12,
      "outputs": []
    },
    {
      "cell_type": "code",
      "source": [
        "families = {\n",
        "  'Doyle': ['Adam', 'Oliver', 'Xavier'],\n",
        "  'Duck': ['Donald', 'Daisy', 'Howard'],\n",
        "  'Mouse': ['Mickey', 'Minnie', 'Mighty']\n",
        "}\n",
        "\n",
        "dict_to_list({'Duck': ['Hewey','Dewey','Louie'],\n",
        "              'Mouse': ['Mickey','Minney']})"
      ],
      "metadata": {
        "colab": {
          "base_uri": "https://localhost:8080/"
        },
        "id": "ND6KRQO7mzNW",
        "outputId": "6f93aecf-32f3-43a6-cb8a-2ef6670d1a65"
      },
      "execution_count": 13,
      "outputs": [
        {
          "output_type": "execute_result",
          "data": {
            "text/plain": [
              "[['Duck', 'Hewey'],\n",
              " ['Duck', 'Dewey'],\n",
              " ['Duck', 'Louie'],\n",
              " ['Mouse', 'Mickey'],\n",
              " ['Mouse', 'Minney']]"
            ]
          },
          "metadata": {},
          "execution_count": 13
        }
      ]
    },
    {
      "cell_type": "code",
      "source": [
        "# Test dictionary\n",
        "family_dict = {\n",
        "    'Doyle': ['Adam', 'Oliver', 'Xavier'],\n",
        "    'Duck': ['Donald', 'Daisy', 'Howard'],\n",
        "    'Mouse': ['Mickey', 'Minnie', 'Mighty']\n",
        "}\n",
        "sorted_names = dict_to_list(family_dict)\n",
        "for family in sorted_names:\n",
        "    print(family)\n",
        "\n",
        "\n"
      ],
      "metadata": {
        "colab": {
          "base_uri": "https://localhost:8080/"
        },
        "id": "GGSZOpIGMuOt",
        "outputId": "d50a9a8b-d34d-4b72-e0f1-8d38bd9c8df9"
      },
      "execution_count": 14,
      "outputs": [
        {
          "output_type": "stream",
          "name": "stdout",
          "text": [
            "['Doyle', 'Adam']\n",
            "['Doyle', 'Oliver']\n",
            "['Doyle', 'Xavier']\n",
            "['Duck', 'Donald']\n",
            "['Duck', 'Daisy']\n",
            "['Duck', 'Howard']\n",
            "['Mouse', 'Mickey']\n",
            "['Mouse', 'Minnie']\n",
            "['Mouse', 'Mighty']\n"
          ]
        }
      ]
    },
    {
      "cell_type": "code",
      "source": [
        "\n",
        "assert dict_to_list(family_dict) == [['Doyle', 'Adam'],\n",
        "                                     ['Doyle', 'Oliver'],\n",
        "                                     ['Doyle', 'Xavier'],\n",
        "                                     ['Duck', 'Donald'],\n",
        "                                     ['Duck', 'Daisy'],\n",
        "                                     ['Duck', 'Howard'],\n",
        "                                     ['Mouse', 'Mickey'],\n",
        "                                     ['Mouse', 'Minnie'],\n",
        "                                     ['Mouse', 'Mighty']]"
      ],
      "metadata": {
        "id": "hvGqoGKbMwoQ"
      },
      "execution_count": 15,
      "outputs": []
    },
    {
      "cell_type": "code",
      "source": [
        "# MY TESTCASE-1\n",
        "family_dict = {\n",
        "    'TYALAPALLY': ['Sravanthi', 'spandhana', 'vaishnavi','vinay'],\n",
        "    'RUMANDLA': ['Deekshitha', 'chicki', 'govind'],\n",
        "    'SHAIK': ['Sohail', 'sumaya', 'sajida']\n",
        "}\n",
        "sorted_names = dict_to_list(family_dict)\n",
        "for family in sorted_names:\n",
        "    print(family)"
      ],
      "metadata": {
        "colab": {
          "base_uri": "https://localhost:8080/"
        },
        "id": "Qt1hOwhaPUkA",
        "outputId": "b3e4a8c7-265e-4d06-acb3-616a6f1f2227"
      },
      "execution_count": 16,
      "outputs": [
        {
          "output_type": "stream",
          "name": "stdout",
          "text": [
            "['TYALAPALLY', 'Sravanthi']\n",
            "['TYALAPALLY', 'spandhana']\n",
            "['TYALAPALLY', 'vaishnavi']\n",
            "['TYALAPALLY', 'vinay']\n",
            "['RUMANDLA', 'Deekshitha']\n",
            "['RUMANDLA', 'chicki']\n",
            "['RUMANDLA', 'govind']\n",
            "['SHAIK', 'Sohail']\n",
            "['SHAIK', 'sumaya']\n",
            "['SHAIK', 'sajida']\n"
          ]
        }
      ]
    },
    {
      "cell_type": "code",
      "execution_count": 17,
      "metadata": {
        "id": "pSX2lUVKpB2Q",
        "colab": {
          "base_uri": "https://localhost:8080/"
        },
        "outputId": "91b21c42-2f01-48ab-b005-50c080dbc834"
      },
      "outputs": [
        {
          "output_type": "stream",
          "name": "stdout",
          "text": [
            "['KAPOOR', 'Raj']\n",
            "['KAPOOR', 'Anil']\n",
            "['KAPOOR', 'Pooja']\n",
            "['KAPOOR', 'Sita']\n",
            "['MURTHY', 'Srinivas']\n",
            "['MURTHY', 'Anjali']\n",
            "['MURTHY', 'Ravi']\n",
            "['VERMA', 'Amit']\n",
            "['VERMA', 'Sunita']\n",
            "['VERMA', 'Rajesh']\n"
          ]
        }
      ],
      "source": [
        "#MY TESTCASE-2\n",
        "family_dict_test_case = {\n",
        "    'KAPOOR': ['Raj', 'Anil', 'Pooja', 'Sita'],\n",
        "    'MURTHY': ['Srinivas', 'Anjali', 'Ravi'],\n",
        "    'VERMA': ['Amit', 'Sunita', 'Rajesh']\n",
        "}\n",
        "sorted_names = dict_to_list(family_dict_test_case)\n",
        "for family in sorted_names:\n",
        "    print(family)"
      ]
    },
    {
      "cell_type": "markdown",
      "metadata": {
        "nbgrader": {
          "grade": false,
          "grade_id": "average",
          "locked": true,
          "schema_version": 1,
          "solution": false
        },
        "id": "TrUj4If3pB2R"
      },
      "source": [
        "### 20.3 Convert a list to a dictionary\n",
        "\n",
        "Take the list of lists below and convert it into a dictionary where the entries in the dictionary are keyed off of whatever values are in column 0, and the dictionary values are the list of all the values that appear with that key from the input list."
      ]
    },
    {
      "cell_type": "code",
      "execution_count": 18,
      "metadata": {
        "nbgrader": {
          "grade": false,
          "grade_id": "average-answer",
          "locked": false,
          "schema_version": 1,
          "solution": true
        },
        "id": "oxFFcwUJpB2R"
      },
      "outputs": [],
      "source": [
        "def list_to_dict():\n",
        "\n",
        "    names = [['Doyle', 'Adam'],\n",
        " ['Doyle', 'Oliver'],\n",
        " ['Doyle', 'Xavier'],\n",
        " ['Duck', 'Donald'],\n",
        " ['Duck', 'Daisy'],\n",
        " ['Mouse', 'Mickey'],\n",
        " ['Mouse', 'Minnie'],\n",
        " ['Mouse', 'Mighty']\n",
        " ]\n",
        "\n",
        "    # To help you, I've provided a blank dictionary named `families`.\n",
        "    families = {}\n",
        "\n",
        "    # Your code should loop through `names` and do something to build\n",
        "    # up `families` to be the output dictionary shown in the test\n",
        "    # cells below.\n",
        "\n",
        "    # Put your solution here\n",
        "\n",
        "    return families\n"
      ]
    },
    {
      "cell_type": "code",
      "source": [
        "def list_to_dict():\n",
        "    # Input list of lists\n",
        "    names = [['Doyle', 'Adam'],\n",
        "             ['Doyle', 'Oliver'],\n",
        "             ['Doyle', 'Xavier'],\n",
        "             ['Duck', 'Donald'],\n",
        "             ['Duck', 'Daisy'],\n",
        "             ['Mouse', 'Mickey'],\n",
        "             ['Mouse', 'Minnie'],\n",
        "             ['Mouse', 'Mighty']]\n",
        "\n",
        "    # Create an empty dictionary\n",
        "    families = {}\n",
        "\n",
        "    # Loop through each pair in the names list\n",
        "    for last_name, first_name in names:\n",
        "        # If the last name (key) is already in the dictionary, append the first name\n",
        "        if last_name in families:\n",
        "            families[last_name].append(first_name)\n",
        "        # If the last name (key) is not in the dictionary,\n"
      ],
      "metadata": {
        "id": "e6r5el5HrcWI"
      },
      "execution_count": 19,
      "outputs": []
    },
    {
      "cell_type": "code",
      "source": [
        "def list_to_dict():\n",
        "    # Input list of lists\n",
        "    names = [['Doyle', 'Adam'],\n",
        "             ['Doyle', 'Oliver'],\n",
        "             ['Doyle', 'Xavier'],\n",
        "             ['Duck', 'Donald'],\n",
        "             ['Duck', 'Daisy'],\n",
        "             ['Mouse', 'Mickey'],\n",
        "             ['Mouse', 'Minnie'],\n",
        "             ['Mouse', 'Mighty']]\n",
        "\n",
        "    # Create an empty dictionary\n",
        "    families = {}\n",
        "\n",
        "    # Loop through each pair in the names list\n",
        "    for last_name, first_name in names:\n",
        "        # If the last name (key) is already in the dictionary, append the first name\n",
        "        if last_name in families:\n",
        "            families[last_name].append(first_name)\n",
        "        # If the last name (key) is not in the dictionary, create a new entry with the first name in a list\n",
        "        else:\n",
        "            families[last_name] = [first_name]\n",
        "\n",
        "    return families\n",
        "\n",
        "\n"
      ],
      "metadata": {
        "id": "_kVH6c8Yr-in"
      },
      "execution_count": 20,
      "outputs": []
    },
    {
      "cell_type": "code",
      "source": [
        "result = list_to_dict()\n",
        "print(result)"
      ],
      "metadata": {
        "colab": {
          "base_uri": "https://localhost:8080/"
        },
        "id": "HCqCv1wd0um5",
        "outputId": "af0565f2-090a-438e-fc6e-b702bd898a78"
      },
      "execution_count": 21,
      "outputs": [
        {
          "output_type": "stream",
          "name": "stdout",
          "text": [
            "{'Doyle': ['Adam', 'Oliver', 'Xavier'], 'Duck': ['Donald', 'Daisy'], 'Mouse': ['Mickey', 'Minnie', 'Mighty']}\n"
          ]
        }
      ]
    },
    {
      "cell_type": "code",
      "execution_count": 22,
      "metadata": {
        "id": "fFVwvhEfpB2R",
        "outputId": "1d857d4d-6ad8-48c7-d5e6-37dec247bced",
        "colab": {
          "base_uri": "https://localhost:8080/"
        }
      },
      "outputs": [
        {
          "output_type": "execute_result",
          "data": {
            "text/plain": [
              "{'Doyle': ['Adam', 'Oliver', 'Xavier'],\n",
              " 'Duck': ['Donald', 'Daisy'],\n",
              " 'Mouse': ['Mickey', 'Minnie', 'Mighty']}"
            ]
          },
          "metadata": {},
          "execution_count": 22
        }
      ],
      "source": [
        "list_to_dict()"
      ]
    },
    {
      "cell_type": "code",
      "execution_count": 23,
      "metadata": {
        "nbgrader": {
          "grade": true,
          "grade_id": "average-tests",
          "locked": true,
          "points": 5,
          "schema_version": 1,
          "solution": false
        },
        "id": "SRuwWeFQpB2S"
      },
      "outputs": [],
      "source": [
        "answer = {\n",
        " 'Doyle':    ['Adam', 'Oliver', 'Xavier'],\n",
        " 'Duck':    ['Donald', 'Daisy'],\n",
        " 'Mouse':   ['Mickey', 'Minnie', 'Mighty']\n",
        "}\n",
        "\n",
        "assert (list_to_dict() == answer)"
      ]
    },
    {
      "cell_type": "code",
      "source": [
        "#MY TESTCASE\n",
        "def list_to_dict():\n",
        "    # Input list of lists\n",
        "    names = [['Clark', 'Lois'],\n",
        "         ['Clark', 'Lois'],\n",
        "         ['Wayne', 'Bruce']]\n",
        "\n",
        "    # Create an empty dictionary\n",
        "    families = {}\n",
        "\n",
        "    # Loop through each pair in the names list\n",
        "    for last_name, first_name in names:\n",
        "        # If the last name (key) is already in the dictionary, append the first name\n",
        "        if last_name in families:\n",
        "            families[last_name].append(first_name)\n",
        "        # If the last name (key) is not in the dictionary, create a new entry with the first name in a list\n",
        "        else:\n",
        "            families[last_name] = [first_name]\n",
        "\n",
        "    return families\n",
        "    result = list_to_dict()\n",
        "print(result)\n"
      ],
      "metadata": {
        "colab": {
          "base_uri": "https://localhost:8080/"
        },
        "id": "998p0hC31pOR",
        "outputId": "6866d718-d62b-41e5-e476-44efe5f87993"
      },
      "execution_count": 24,
      "outputs": [
        {
          "output_type": "stream",
          "name": "stdout",
          "text": [
            "{'Doyle': ['Adam', 'Oliver', 'Xavier'], 'Duck': ['Donald', 'Daisy'], 'Mouse': ['Mickey', 'Minnie', 'Mighty']}\n"
          ]
        }
      ]
    },
    {
      "cell_type": "code",
      "source": [
        "#MY TESTCASE-2\n",
        "def list_to_dict_test_case_indian():\n",
        "    names = [\n",
        "        ['Sharma', 'Amit'],\n",
        "        ['Sharma', 'Aarti'],\n",
        "        ['Patel', 'Rajesh'],\n",
        "        ['Patel', 'Anita'],\n",
        "        ['Gupta', 'Vikram'],\n",
        "        ['Gupta', 'Neha'],\n",
        "        ['Singh', 'Harpreet'],\n",
        "        ['Singh', 'Gurpreet']\n",
        "    ]\n",
        "\n",
        "    # Create an empty dictionary\n",
        "    families = {}\n",
        "\n",
        "    # Loop through each pair in the names list\n",
        "    for last_name, first_name in names:\n",
        "        # If the last name (key) is already in the dictionary, append the first name\n",
        "        if last_name in families:\n",
        "            families[last_name].append(first_name)\n",
        "        # If the last name (key) is not in the dictionary, create a new entry with the first name in a list\n",
        "        else:\n",
        "            families[last_name] = [first_name]\n",
        "\n",
        "    return families\n",
        "\n",
        "# Run the Indian names test case\n",
        "print(list_to_dict_test_case_indian())"
      ],
      "metadata": {
        "colab": {
          "base_uri": "https://localhost:8080/"
        },
        "id": "oe1HjI9W4Mex",
        "outputId": "b237b0ce-9d98-4203-eefe-8f1aa1fa5726"
      },
      "execution_count": 25,
      "outputs": [
        {
          "output_type": "stream",
          "name": "stdout",
          "text": [
            "{'Sharma': ['Amit', 'Aarti'], 'Patel': ['Rajesh', 'Anita'], 'Gupta': ['Vikram', 'Neha'], 'Singh': ['Harpreet', 'Gurpreet']}\n"
          ]
        }
      ]
    },
    {
      "cell_type": "markdown",
      "metadata": {
        "id": "rxteilqupB2S"
      },
      "source": [
        "### 20.4 Join using a dictionary\n",
        "\n",
        "We have a list of patients, diagnosis, and length of stay.  We also have a dictionary that contains diagnosis and average length of stay.  Produce an output list that lists the patient and an indicator if the patient's stay was 'too long', 'too short', 'just right'"
      ]
    },
    {
      "cell_type": "code",
      "execution_count": 26,
      "metadata": {
        "nbgrader": {
          "grade": false,
          "grade_id": "cell-f3813e33810dc898",
          "locked": false,
          "schema_version": 1,
          "solution": true
        },
        "id": "qqT0BUjnpB2S"
      },
      "outputs": [],
      "source": [
        "def patient_los(avg_los, patients):\n",
        "\n",
        "    conclusions = []\n",
        "    # Put your solution here\n",
        "\n",
        "    return conclusions"
      ]
    },
    {
      "cell_type": "code",
      "source": [
        "def patient_los(avg_los, patients):\n",
        "    conclusions = []\n",
        "\n",
        "    # Loop over each patient record in the patients list\n",
        "    for patient in patients:\n",
        "        name = patient[0]\n",
        "        diagnosis = patient[1].strip()  # Removing any potential extra spaces\n",
        "        los = patient[2]\n",
        "\n",
        "        # Get the average length of stay for the diagnosis from the dictionary\n",
        "        avg = avg_los.get(diagnosis)\n",
        "\n",
        "        # Compare the patient's LOS to the average LOS\n",
        "        if avg:\n",
        "            if los < avg:\n",
        "                conclusions.append([name, 'too short'])\n",
        "            elif los > avg:\n",
        "                conclusions.append([name, 'too long'])\n",
        "            else:\n",
        "                conclusions.append([name, 'just right'])\n",
        "\n",
        "    return conclusions\n",
        "\n"
      ],
      "metadata": {
        "id": "c_-JDoFas2fY"
      },
      "execution_count": 27,
      "outputs": []
    },
    {
      "cell_type": "code",
      "execution_count": 28,
      "metadata": {
        "id": "Y97XJZnBpB2S",
        "outputId": "3abf2d30-3fa2-45d6-8351-994d88e51abe",
        "colab": {
          "base_uri": "https://localhost:8080/"
        }
      },
      "outputs": [
        {
          "output_type": "execute_result",
          "data": {
            "text/plain": [
              "[['Doyle', 'too short'],\n",
              " ['Doyle', 'too long'],\n",
              " ['Jones', 'just right'],\n",
              " ['Ashbury', 'too short']]"
            ]
          },
          "metadata": {},
          "execution_count": 28
        }
      ],
      "source": [
        "avg_los = {\n",
        "    \"Hemolytic jaundice and perinatal jaundice\" : 2,\n",
        "    \"Medical examination/evaluation\" : 3.2,\n",
        "    \"Liveborn\" : 3.2,\n",
        "    \"Trauma to perineum and vulva\" : 2.1,\n",
        "    \"Normal pregnancy and/or delivery\" : 2,\n",
        "    \"Umbilical cord complication\" : 2.1,\n",
        "    \"Forceps delivery\" : 2.2,\n",
        "    \"Administrative/social admission\" : 4.2,\n",
        "    \"Prolonged pregnancy\" : 2.4,\n",
        "    \"Other complications of pregnancy\" : 2.5\n",
        "}\n",
        "\n",
        "patients = [\n",
        "    ['Doyle', 'Medical examination/evaluation', 1.1],\n",
        "    ['Doyle', 'Other complications of pregnancy', 3.3],\n",
        "    ['Jones', 'Liveborn', 3.2],\n",
        "    ['Ashbury', 'Forceps delivery', 2.0]\n",
        "]\n",
        "\n",
        "patient_los(avg_los, patients)"
      ]
    },
    {
      "cell_type": "code",
      "execution_count": 29,
      "metadata": {
        "nbgrader": {
          "grade": true,
          "grade_id": "cell-2af0a520bb56ee21",
          "locked": true,
          "points": 10,
          "schema_version": 1,
          "solution": false
        },
        "id": "KMqEU7AqpB2T"
      },
      "outputs": [],
      "source": [
        "conclusions = [['Doyle', 'too short'],\n",
        "    ['Doyle', 'too long'],\n",
        "    ['Jones', 'just right'],\n",
        "    ['Ashbury', 'too short']]\n",
        "\n",
        "assert(patient_los(avg_los, patients) == conclusions)"
      ]
    },
    {
      "cell_type": "code",
      "source": [
        "#MY TESTCASE-1\n",
        "avg_los_test_case_1 = {\n",
        "    \"Hemolytic jaundice and perinatal jaundice\": 2.0,\n",
        "    \"Medical examination/evaluation\": 3.2,\n",
        "    \"Liveborn\": 3.2,\n",
        "    \"Trauma to perineum and vulva\": 2.1,\n",
        "    \"Normal pregnancy and/or delivery\": 2.0,\n",
        "    \"Umbilical cord complication\": 2.1,\n",
        "    \"Forceps delivery\": 2.2,\n",
        "    \"Administrative/social admission\": 4.2,\n",
        "    \"Prolonged pregnancy\": 2.4,\n",
        "    \"Other complications of pregnancy\": 2.5,\n",
        "    \"Heart failure\": 5.0,\n",
        "    \"Respiratory distress\": 4.5,\n",
        "    \"Kidney function disorder\": 4.0\n",
        "}\n",
        "patients_test_case_1 = [\n",
        "    ['Smith', 'Heart failure', 5.2],\n",
        "    ['Smith', 'Kidney function disorder', 3.8],\n",
        "    ['Taylor', 'Respiratory distress', 4.4],\n",
        "    ['Taylor', 'Liveborn', 3.2],\n",
        "    ['Johnson', 'Medical examination/evaluation', 3.0],\n",
        "    ['Williams', 'Forceps delivery', 2.3]\n",
        "]\n",
        "print(\"Test Case 1:\")\n",
        "print(patient_los(avg_los_test_case_1, patients_test_case_1))"
      ],
      "metadata": {
        "colab": {
          "base_uri": "https://localhost:8080/"
        },
        "id": "NIIlAFHV2kY6",
        "outputId": "70ec626e-cbee-4bcc-a3d1-e7c876253c07"
      },
      "execution_count": 30,
      "outputs": [
        {
          "output_type": "stream",
          "name": "stdout",
          "text": [
            "Test Case 1:\n",
            "[['Smith', 'too long'], ['Smith', 'too short'], ['Taylor', 'too short'], ['Taylor', 'just right'], ['Johnson', 'too short'], ['Williams', 'too long']]\n"
          ]
        }
      ]
    },
    {
      "cell_type": "code",
      "execution_count": 31,
      "metadata": {
        "id": "fta8oTxMpB2T",
        "colab": {
          "base_uri": "https://localhost:8080/"
        },
        "outputId": "075ae809-4c99-49c7-bb0b-6e4e9c8daeb0"
      },
      "outputs": [
        {
          "output_type": "stream",
          "name": "stdout",
          "text": [
            "\n",
            "Test Case 2:\n",
            "[['Brown', 'too short'], ['Brown', 'too long'], ['Davis', 'too long'], ['Davis', 'just right'], ['Miller', 'too long'], ['Wilson', 'too long']]\n"
          ]
        }
      ],
      "source": [
        "#MY TESTCASE-2\n",
        "avg_los_test_case_2 = {\n",
        "    \"Hemolytic jaundice and perinatal jaundice\": 2.0,\n",
        "    \"Medical examination/evaluation\": 3.2,\n",
        "    \"Liveborn\": 3.2,\n",
        "    \"Trauma to perineum and vulva\": 2.1,\n",
        "    \"Normal pregnancy and/or delivery\": 2.0,\n",
        "    \"Umbilical cord complication\": 2.1,\n",
        "    \"Forceps delivery\": 2.2,\n",
        "    \"Administrative/social admission\": 4.2,\n",
        "    \"Prolonged pregnancy\": 2.4,\n",
        "    \"Other complications of pregnancy\": 2.5,\n",
        "    \"Heart failure\": 5.0,\n",
        "    \"Respiratory distress\": 4.5,\n",
        "    \"Kidney function disorder\": 4.0\n",
        "}\n",
        "patients_test_case_2 = [\n",
        "    ['Brown', 'Heart failure', 4.8],\n",
        "    ['Brown', 'Respiratory distress', 4.6],\n",
        "    ['Davis', 'Kidney function disorder', 4.2],\n",
        "    ['Davis', 'Liveborn', 3.2],\n",
        "    ['Miller', 'Normal pregnancy and/or delivery', 2.1],\n",
        "    ['Wilson', 'Medical examination/evaluation', 3.4]\n",
        "]\n",
        "print(\"\\nTest Case 2:\")\n",
        "print(patient_los(avg_los_test_case_2, patients_test_case_2))"
      ]
    },
    {
      "cell_type": "markdown",
      "metadata": {
        "id": "LERTLD7PpB2T"
      },
      "source": [
        "---\n",
        "\n",
        "## Check your work above\n",
        "\n",
        "If you didn't get them all correct, take a few minutes to think through those that aren't correct.\n",
        "\n",
        "\n",
        "## Submitting Your Work\n",
        "\n",
        "In order to submit your work, you'll need to save this notebook file back to GitHub.  To do that in Google Colab:\n",
        "1. File -> Save a Copy in GitHub\n",
        "2. Make sure your HDS5210 repository is selected\n",
        "3. Make sure the file name includes the week number like this: `week04/week04_assignment_2.ipynb`\n",
        "4. Add a commit message that means something\n",
        "\n",
        "**Be sure week names are lowercase and use a two digit week number!!**\n",
        "\n",
        "**Be sure you use the same file name provided by the instructor!!**\n",
        "\n"
      ]
    },
    {
      "cell_type": "markdown",
      "metadata": {
        "id": "ADXf8u8KpB2T"
      },
      "source": []
    }
  ],
  "metadata": {
    "celltoolbar": "Create Assignment",
    "kernelspec": {
      "display_name": "Python 3",
      "language": "python",
      "name": "python3"
    },
    "language_info": {
      "codemirror_mode": {
        "name": "ipython",
        "version": 3
      },
      "file_extension": ".py",
      "mimetype": "text/x-python",
      "name": "python",
      "nbconvert_exporter": "python",
      "pygments_lexer": "ipython3",
      "version": "3.6.7"
    },
    "colab": {
      "provenance": [],
      "include_colab_link": true
    }
  },
  "nbformat": 4,
  "nbformat_minor": 0
}