{
  "cells": [
    {
      "cell_type": "markdown",
      "metadata": {
        "id": "view-in-github",
        "colab_type": "text"
      },
      "source": [
        "<a href=\"https://colab.research.google.com/github/sravanthi200719/HDS5210_InClass/blob/master/Copy_of_midterm_ipynb_week_8_assignment_answers.ipynb\" target=\"_parent\"><img src=\"https://colab.research.google.com/assets/colab-badge.svg\" alt=\"Open In Colab\"/></a>"
      ]
    },
    {
      "cell_type": "markdown",
      "source": [],
      "metadata": {
        "id": "iGeTKCk7ygGA"
      }
    },
    {
      "cell_type": "markdown",
      "source": [
        "Mid-term for HDS5210\n",
        "Your supervisor is concerned about 4-year survival risks for COPD. She has asked for you to do some analysis using a new metric, BODE. BODE is an improvement on a previous metric and promises to provide insight on survival risks.\n",
        "\n",
        "BODE is defined here. https://www.mdcalc.com/calc/3916/bode-index-copd-survival#evidence\n",
        "\n",
        "Your assignment is to create a BODE calculation, use it to calculate BODE scores and BODE survival rates for a group of patients. Then we want to evaluate the average BODE scores and BODE survival rates for each area hospital.\n",
        "\n",
        "Your patient input file will have the following columns: NAME,SSN,LANGUAGE,JOB,HEIGHT_M,WEIGHT_KG,fev_pct,dyspnea_description,distance_in_meters,hospital\n",
        "\n",
        "BODE calculations require a BMI value, so you will have to create a function for it.\n",
        "\n",
        "Your output should be in the form of two CSV files, patient_output.csv and hospital_output.csv.\n",
        "\n",
        "Patient_output will have the following columns: NAME,BODE_SCORE,BODE_RISK,HOSPITAL\n",
        "\n",
        "Hospital output will have the following columns: HOSPITAL_NAME, COPD_COUNT, PCT_OF_COPD_CASES_OVER_BEDS, AVG_SCORE, AVG_RISK\n",
        "\n",
        "Each function you create should have documentation and a suitable number of test cases. If the input data could be wrong, make sure to raise a Value Error.\n",
        "\n",
        "For this assignment, use the doctest, json, and csv libraries. Pandas is not allowed for this assignment."
      ],
      "metadata": {
        "id": "hpAqs1-gzdEU"
      }
    },
    {
      "cell_type": "code",
      "source": [],
      "metadata": {
        "id": "IC2NLzbLzcb4"
      },
      "execution_count": null,
      "outputs": []
    },
    {
      "cell_type": "code",
      "execution_count": 1,
      "metadata": {
        "id": "H_RGRc5t4xRh"
      },
      "outputs": [],
      "source": [
        "import doctest\n",
        "import json\n",
        "import csv"
      ]
    },
    {
      "cell_type": "markdown",
      "source": [
        "# Step 1: Calculate BMI"
      ],
      "metadata": {
        "id": "bU4FlWfHzp4J"
      }
    },
    {
      "cell_type": "code",
      "source": [
        "def calculate_bmi(weight_kg, height_m):\n",
        "    \"\"\"\n",
        "    Calculate the Body Mass Index (BMI) given the weight and height.\n",
        "\n",
        "    Parameters:\n",
        "    weight_kg (float): The weight in kilograms.\n",
        "    height_m (float): The height in meters.\n",
        "\n",
        "    Returns:\n",
        "    float: The calculated BMI rounded to one decimal place.\n",
        "    \"\"\"\n",
        "    bmi = weight_kg / (height_m ** 2)\n",
        "    return round(bmi, 1)"
      ],
      "metadata": {
        "id": "lQQK-hdA7Atn"
      },
      "execution_count": 2,
      "outputs": []
    },
    {
      "cell_type": "code",
      "source": [
        "def interpret_bmi(bmi):\n",
        "    \"\"\"\n",
        "    Interpret the BMI value and categorize it based on standard weight status categories.\n",
        "\n",
        "    Parameters:\n",
        "    bmi (float): The BMI value to interpret.\n",
        "\n",
        "    Returns:\n",
        "    str: The category of the BMI, which can be one of the following:\n",
        "         - \"Underweight\" if BMI is less than 18.5.\n",
        "         - \"Normal weight\" if BMI is between 18.5 and 24.9.\n",
        "         - \"Overweight\" if BMI is between 25 and 29.9.\n",
        "         - \"Obese\" if BMI is 30 or above.\n",
        "    \"\"\"\n",
        "    if bmi < 18.5:\n",
        "        return \"Underweight\"\n",
        "    elif 18.5 <= bmi < 25:\n",
        "        return \"Normal weight\"\n",
        "    elif 25 <= bmi < 30:\n",
        "        return \"Overweight\"\n",
        "    else:\n",
        "        return \"Obese\"\n",
        "\n",
        "def display_bmi_result(weight, height, bmi, category):\n",
        "    \"\"\"\n",
        "    Display the BMI calculation results in a formatted and readable manner.\n",
        "\n",
        "    Parameters:\n",
        "    weight (float): The weight of the person in kilograms.\n",
        "    height (float): The height of the person in meters.\n",
        "    bmi (float): The calculated BMI value.\n",
        "    category (str): The BMI category based on the BMI interpretation.\n",
        "\n",
        "    Returns:\n",
        "    None: This function only prints the formatted BMI result.\n",
        "    \"\"\"\n",
        "    print(\"\\nBMI Calculation Results\")\n",
        "    print(\"-----------------------\")\n",
        "    print(f\"Weight: {weight:.1f} kg\")\n",
        "    print(f\"Height: {height:.2f} m\")\n",
        "    print(f\"BMI: {bmi:.1f}\")\n",
        "    print(f\"Category: {category}\")\n",
        "    print(\"-----------------------\")\n"
      ],
      "metadata": {
        "id": "28Z8CA2_7LyL"
      },
      "execution_count": 3,
      "outputs": []
    },
    {
      "cell_type": "code",
      "source": [
        "### # Test Case 1: Normal weight\n",
        "print(\"Test Case 1: Normal weight\")\n",
        "weight1, height1 = 70, 1.75\n",
        "bmi1 = calculate_bmi(weight1, height1)\n",
        "category1 = interpret_bmi(bmi1)\n",
        "display_bmi_result(weight1, height1, bmi1, category1)"
      ],
      "metadata": {
        "colab": {
          "base_uri": "https://localhost:8080/"
        },
        "id": "imFo5N0t2GpZ",
        "outputId": "67b30f88-47c6-416b-9095-baf3c2de4e4f"
      },
      "execution_count": 4,
      "outputs": [
        {
          "output_type": "stream",
          "name": "stdout",
          "text": [
            "Test Case 1: Normal weight\n",
            "\n",
            "BMI Calculation Results\n",
            "-----------------------\n",
            "Weight: 70.0 kg\n",
            "Height: 1.75 m\n",
            "BMI: 22.9\n",
            "Category: Normal weight\n",
            "-----------------------\n"
          ]
        }
      ]
    },
    {
      "cell_type": "code",
      "source": [
        "### # Test Case 2: Overweight\n",
        "print(\"\\nTest Case 2: Overweight\")\n",
        "weight2, height2 = 90, 1.80\n",
        "bmi2 = calculate_bmi(weight2, height2)\n",
        "category2 = interpret_bmi(bmi2)\n",
        "display_bmi_result(weight2, height2, bmi2, category2)"
      ],
      "metadata": {
        "colab": {
          "base_uri": "https://localhost:8080/"
        },
        "id": "EWSib-6a2BbJ",
        "outputId": "b98c8785-d880-45e8-de8b-a3e139340204"
      },
      "execution_count": 5,
      "outputs": [
        {
          "output_type": "stream",
          "name": "stdout",
          "text": [
            "\n",
            "Test Case 2: Overweight\n",
            "\n",
            "BMI Calculation Results\n",
            "-----------------------\n",
            "Weight: 90.0 kg\n",
            "Height: 1.80 m\n",
            "BMI: 27.8\n",
            "Category: Overweight\n",
            "-----------------------\n"
          ]
        }
      ]
    },
    {
      "cell_type": "code",
      "source": [
        "#### # Test Case 3: Underweight\n",
        "print(\"\\nTest Case 3: Underweight\")\n",
        "weight3, height3 = 50, 1.70\n",
        "bmi3 = calculate_bmi(weight3, height3)\n",
        "category3 = interpret_bmi(bmi3)\n",
        "display_bmi_result(weight3, height3, bmi3, category3)\n"
      ],
      "metadata": {
        "colab": {
          "base_uri": "https://localhost:8080/"
        },
        "id": "4MBOdVea23nf",
        "outputId": "3d12bb28-70a7-4753-b8b9-d2a48a9261f4"
      },
      "execution_count": 6,
      "outputs": [
        {
          "output_type": "stream",
          "name": "stdout",
          "text": [
            "\n",
            "Test Case 3: Underweight\n",
            "\n",
            "BMI Calculation Results\n",
            "-----------------------\n",
            "Weight: 50.0 kg\n",
            "Height: 1.70 m\n",
            "BMI: 17.3\n",
            "Category: Underweight\n",
            "-----------------------\n"
          ]
        }
      ]
    },
    {
      "cell_type": "markdown",
      "metadata": {
        "id": "Z1EKFGZ14xRi"
      },
      "source": [
        "### Step 2: Calculate BODE Score"
      ]
    },
    {
      "cell_type": "code",
      "source": [
        "# Constants for BODE calculation\n",
        "DYSPNEA_SCORES = {\n",
        "    'No dyspnea': 0,\n",
        "    'Dyspnea when walking fast': 1,\n",
        "    'Dyspnea when walking on level ground': 2,\n",
        "    'Dyspnea after 100m': 3,\n",
        "    'Too dyspneic to leave the house': 4\n",
        "}\n",
        "\n",
        "def calculate_bmi(weight_kg, height_m):\n",
        "    \"\"\"\n",
        "    Calculate Body Mass Index (BMI).\n",
        "\n",
        "    Parameters:\n",
        "    weight_kg (float): The weight in kilograms.\n",
        "    height_m (float): The height in meters.\n",
        "\n",
        "    Returns:\n",
        "    float: The BMI value, rounded to two decimal places.\n",
        "    \"\"\"\n",
        "    return round(weight_kg / (height_m ** 2), 2)\n"
      ],
      "metadata": {
        "id": "Zs3Rg02D8Chx"
      },
      "execution_count": 7,
      "outputs": []
    },
    {
      "cell_type": "code",
      "source": [
        "# Constants for BODE calculation\n",
        "DYSPNEA_SCORES = {\n",
        "    'No dyspnea': 0,\n",
        "    'Dyspnea when walking fast': 1,\n",
        "    'Dyspnea when walking on level ground': 2,\n",
        "    'Dyspnea after 100m': 3,\n",
        "    'Too dyspneic to leave the house': 4  # Scores representing dyspnea severity\n",
        "}\n",
        "\n",
        "def calculate_bmi(weight_kg, height_m):\n",
        "    \"\"\"\n",
        "    Calculate Body Mass Index (BMI).\n",
        "\n",
        "    Parameters:\n",
        "        weight_kg (float): Weight in kilograms.\n",
        "        height_m (float): Height in meters.\n",
        "\n",
        "    Returns:\n",
        "        float: The BMI, rounded to two decimal places.\n",
        "    \"\"\"\n",
        "    return round(weight_kg / (height_m ** 2), 2)\n",
        "\n",
        "def calculate_bode_score(bmi, fev_pct, dyspnea_desc, distance_meters):\n",
        "    \"\"\"\n",
        "    Calculate the BODE score, predicting the risk of death from COPD.\n",
        "\n",
        "    Parameters:\n",
        "        bmi (float): BMI value.\n",
        "        fev_pct (int): FEV1 percentage.\n",
        "        dyspnea_desc (str): Description of dyspnea severity.\n",
        "        distance_meters (int): Distance walked in meters during a 6-minute test.\n",
        "\n",
        "    Returns:\n",
        "        int: The calculated BODE score.\n",
        "    \"\"\"\n",
        "    score = 0\n",
        "\n",
        "    # FEV1% contribution\n",
        "    if fev_pct >= 65:\n",
        "        score += 0\n",
        "    elif fev_pct >= 50:\n",
        "        score += 1\n",
        "    elif fev_pct >= 36:\n",
        "        score += 2\n",
        "    else:\n",
        "        score += 3\n",
        "\n",
        "    # BMI contribution\n",
        "    score += 0 if bmi > 21 else 1\n",
        "\n",
        "    # Dyspnea score\n",
        "    score += DYSPNEA_SCORES.get(dyspnea_desc, 0)\n",
        "\n",
        "    # Distance walked contribution\n",
        "    if distance_meters > 350:\n",
        "        score += 0\n",
        "    elif distance_meters >= 250:\n",
        "        score += 1\n",
        "    elif distance_meters >= 150:\n",
        "        score += 2\n",
        "    else:\n",
        "        score += 3\n",
        "\n",
        "    return score\n"
      ],
      "metadata": {
        "id": "j6Y5TdscEOLg"
      },
      "execution_count": 8,
      "outputs": []
    },
    {
      "cell_type": "code",
      "source": [
        "### # test case 1.\n",
        "bmi = calculate_bmi(80, 1.80)  # Weight: 80 kg, Height: 1.80 meters\n",
        "bode_score = calculate_bode_score(bmi, 55, 'Dyspnea when walking fast', 300)  # FEV1%: 55, Dyspnea: 'Dyspnea when walking fast', Distance: 300 meters\n",
        "\n",
        "# Print the BODE score\n",
        "print(f\"BODE Score: {bode_score}\")\n"
      ],
      "metadata": {
        "colab": {
          "base_uri": "https://localhost:8080/"
        },
        "id": "3YujwNkcJAln",
        "outputId": "9115cd1a-eca0-417d-c4c7-4ff15e261edf"
      },
      "execution_count": 9,
      "outputs": [
        {
          "output_type": "stream",
          "name": "stdout",
          "text": [
            "BODE Score: 3\n"
          ]
        }
      ]
    },
    {
      "cell_type": "code",
      "source": [
        "### test case 1\n",
        "bmi = calculate_bmi(80, 1.80) # Weight: 80 kg, Height: 1.80 meters bode_score = calculate_bode_score(bmi, 55, 'Dyspnea when walking fast', 300) # FEV1%: 55, Dyspnea: 'Dyspnea when walking fast', Distance: 300 meters\n",
        "\n",
        "print(f\"BODE Score: {bode_score}\")"
      ],
      "metadata": {
        "colab": {
          "base_uri": "https://localhost:8080/"
        },
        "id": "MTpK4_l8Cp-Q",
        "outputId": "570e58b9-a6e6-414d-a093-9a0c32edd20c"
      },
      "execution_count": 10,
      "outputs": [
        {
          "output_type": "stream",
          "name": "stdout",
          "text": [
            "BODE Score: 3\n"
          ]
        }
      ]
    },
    {
      "cell_type": "code",
      "source": [
        "### test case 2\n",
        "bmi = calculate_bmi(60, 1.70)  # Weight: 60 kg, Height: 1.70 meters\n",
        "bode_score = calculate_bode_score(bmi, 40, 'Dyspnea after 100m', 150)  # FEV1%: 40, Dyspnea: 'Dyspnea after 100m', Distance: 150 meters\n",
        "\n",
        "print(f\"BODE Score: {bode_score}\")\n"
      ],
      "metadata": {
        "colab": {
          "base_uri": "https://localhost:8080/"
        },
        "id": "pyA3xh1q-9i3",
        "outputId": "5067f10d-0018-405f-92e9-9a686496a66e"
      },
      "execution_count": 11,
      "outputs": [
        {
          "output_type": "stream",
          "name": "stdout",
          "text": [
            "BODE Score: 8\n"
          ]
        }
      ]
    },
    {
      "cell_type": "code",
      "source": [
        "### # Test case 3\n",
        "bmi = calculate_bmi(70, 1.75)  # Weight: 70 kg, Height: 1.75 meters\n",
        "bode_score = calculate_bode_score(bmi, 55, 'Dyspnea after 1 km', 300)  # FEV1%: 55, Dyspnea: 'Dyspnea after 1 km', Distance: 300 meters\n",
        "\n",
        "print(f\"BODE Score: {bode_score}\")"
      ],
      "metadata": {
        "colab": {
          "base_uri": "https://localhost:8080/"
        },
        "id": "rmfvnXYe3yNv",
        "outputId": "2fe18f54-6d34-4b1a-c828-bd8d192ed510"
      },
      "execution_count": 12,
      "outputs": [
        {
          "output_type": "stream",
          "name": "stdout",
          "text": [
            "BODE Score: 2\n"
          ]
        }
      ]
    },
    {
      "cell_type": "markdown",
      "metadata": {
        "id": "gxYDESdw4xRi"
      },
      "source": [
        "### Step 3: Calculate BODE Risk"
      ]
    },
    {
      "cell_type": "code",
      "source": [
        "def calculate_bode_risk(bode_score):\n",
        "    \"\"\"\n",
        "    Classify the BODE score into a corresponding risk category for patients with chronic obstructive pulmonary disease (COPD).\n",
        "\n",
        "    Parameters:\n",
        "    bode_score (int): The calculated BODE score (a sum of component scores that assess disease severity).\n",
        "\n",
        "    Returns:\n",
        "    str: The risk category based on the BODE score, which can be one of the following:\n",
        "         - \"Low\" for scores of 0 to 2.\n",
        "         - \"Moderate\" for scores of 3 to 4.\n",
        "         - \"High\" for scores of 5 to 6.\n",
        "         - \"Very High\" for scores of 7 or above.\n",
        "    \"\"\"\n",
        "    if bode_score <= 2:\n",
        "        return \"Low\"\n",
        "    elif bode_score <= 4:\n",
        "        return \"Moderate\"\n",
        "    elif bode_score <= 6:\n",
        "        return \"High\"\n",
        "    else:\n",
        "        return \"Very High\"\n"
      ],
      "metadata": {
        "id": "lB7Jm8sr8uko"
      },
      "execution_count": 13,
      "outputs": []
    },
    {
      "cell_type": "code",
      "source": [
        "### test case 1\n",
        "bmi = calculate_bmi(70, 1.75)\n",
        "bode_score = calculate_bode_score(bmi, 60, 'Dyspnea when walking fast', 300)\n",
        "bode_risk = calculate_bode_risk(bode_score)\n",
        "\n",
        "print(f\"BODE Score: {bode_score}, BODE Risk: {bode_risk}\")"
      ],
      "metadata": {
        "id": "RyYRTnYC84AF",
        "outputId": "efbe0961-cf4c-4b0f-8729-9a4488914d87",
        "colab": {
          "base_uri": "https://localhost:8080/"
        }
      },
      "execution_count": 14,
      "outputs": [
        {
          "output_type": "stream",
          "name": "stdout",
          "text": [
            "BODE Score: 3, BODE Risk: Moderate\n"
          ]
        }
      ]
    },
    {
      "cell_type": "code",
      "source": [
        "### test case 2\n",
        "bmi = calculate_bmi(60, 1.65)  # Weight: 60 kg, Height: 1.65 meters\n",
        "bode_score = calculate_bode_score(bmi, 40, 'Dyspnea after 100m', 150)  # FEV1%: 40, Dyspnea: 'Dyspnea after 100m', Distance: 150 meters\n",
        "bode_risk = calculate_bode_risk(bode_score)\n",
        "\n",
        "print(f\"BODE Score: {bode_score}, BODE Risk: {bode_risk}\")\n"
      ],
      "metadata": {
        "id": "iwkEJtXO9MXb",
        "outputId": "9364f034-ff7b-42c9-985a-c422734b7779",
        "colab": {
          "base_uri": "https://localhost:8080/"
        }
      },
      "execution_count": 15,
      "outputs": [
        {
          "output_type": "stream",
          "name": "stdout",
          "text": [
            "BODE Score: 7, BODE Risk: Very High\n"
          ]
        }
      ]
    },
    {
      "cell_type": "code",
      "source": [
        "### test case 3\n",
        "bmi = calculate_bmi(70, 1.75)  # Weight: 70 kg, Height: 1.75 meters\n",
        "bode_score = calculate_bode_score(bmi, 60, 'Dyspnea when walking fast', 300)  # FEV1%: 60, Dyspnea: 'Dyspnea when walking fast', Distance: 300 meters\n",
        "bode_risk = calculate_bode_risk(bode_score)\n",
        "\n",
        "print(f\"BODE Score: {bode_score}, BODE Risk: {bode_risk}\")\n",
        "\n"
      ],
      "metadata": {
        "id": "6UCIPLUN9Zqs",
        "outputId": "83898bc5-2259-4ee8-bbd2-d957947072c1",
        "colab": {
          "base_uri": "https://localhost:8080/"
        }
      },
      "execution_count": 16,
      "outputs": [
        {
          "output_type": "stream",
          "name": "stdout",
          "text": [
            "BODE Score: 3, BODE Risk: Moderate\n"
          ]
        }
      ]
    },
    {
      "cell_type": "markdown",
      "metadata": {
        "id": "3i-OsQQ24xRi"
      },
      "source": [
        "### Step 4: Load Hospital Data"
      ]
    },
    {
      "cell_type": "code",
      "source": [
        "import json\n",
        "\n",
        "def load_hospital_data(file_path):\n",
        "    \"\"\"\n",
        "    Load hospital data from a JSON file.\n",
        "\n",
        "    Parameters:\n",
        "    file_path (str): The path to the JSON file containing hospital data.\n",
        "\n",
        "    Returns:\n",
        "    dict or list: The data loaded from the JSON file, which can be a list of dictionaries or a single dictionary,\n",
        "    depending on the structure of the JSON file.\n",
        "\n",
        "    Raises:\n",
        "    FileNotFoundError: If the file specified by file_path is not found.\n",
        "    JSONDecodeError: If the file is not a valid JSON format.\n",
        "    \"\"\"\n",
        "    with open(file_path, 'r') as file:\n",
        "        hospital_data = json.load(file)\n",
        ""
      ],
      "metadata": {
        "id": "1eJ2isHF9oLW"
      },
      "execution_count": 17,
      "outputs": []
    },
    {
      "cell_type": "code",
      "execution_count": 18,
      "metadata": {
        "colab": {
          "base_uri": "https://localhost:8080/"
        },
        "id": "4nQ9N4VG4xRi",
        "outputId": "ee6aa720-db6f-4617-af1c-bfdf189c6299"
      },
      "outputs": [
        {
          "output_type": "stream",
          "name": "stdout",
          "text": [
            "[\n",
            "  {\n",
            "    \"system\": \"BJC\",\n",
            "    \"hospitals\": [\n",
            "      {\n",
            "        \"name\": \"BJC\",\n",
            "        \"beds\": 2000\n",
            "      },\n",
            "      {\n",
            "        \"name\": \"BJC WEST COUNTY\",\n",
            "        \"beds\": 1000\n",
            "      },\n",
            "      {\n",
            "        \"name\": \"MISSOURI BAPTIST\",\n",
            "        \"beds\": 800\n",
            "      }\n",
            "    ]\n",
            "  },\n",
            "  {\n",
            "    \"system\": \"SSM\",\n",
            "    \"hospitals\": [\n",
            "      {\n",
            "        \"name\": \"SAINT LOUIS UNIVERSITY\",\n",
            "        \"beds\": 1000\n",
            "      },\n",
            "      {\n",
            "        \"name\": \"ST.MARY'S\",\n",
            "        \"beds\": 500\n",
            "      }\n",
            "    ]\n",
            "  },\n",
            "  {\n",
            "    \"system\": \"ST.LUKE'S\",\n",
            "    \"hospitals\": [\n",
            "      {\n",
            "        \"name\": \"ST.LUKE'S\",\n",
            "        \"beds\": 800\n",
            "      }\n",
            "    ]\n",
            "  }\n",
            "]\n"
          ]
        }
      ],
      "source": [
        "import json\n",
        "\n",
        "def load_hospital_data(file_path):                #load hospital data\n",
        "    with open(file_path, 'r') as file:\n",
        "        hospital_data = json.load(file)\n",
        "    return hospital_data\n",
        "\n",
        "hospital_data = load_hospital_data('hospitals (1).json')\n",
        "print(json.dumps(hospital_data, indent=2))\n"
      ]
    },
    {
      "cell_type": "code",
      "source": [
        "### TEST CASE 1.\n",
        "# Test loading hospital data\n",
        "hospital_data = load_hospital_data('hospitals (1).json')\n",
        "\n",
        "# Expected output: hospital_data should be a list with dictionaries for each hospital system\n",
        "print(hospital_data)\n"
      ],
      "metadata": {
        "id": "vBIfruut-wNS",
        "outputId": "af141350-47bb-41eb-a689-a289bb83c7d3",
        "colab": {
          "base_uri": "https://localhost:8080/"
        }
      },
      "execution_count": 19,
      "outputs": [
        {
          "output_type": "stream",
          "name": "stdout",
          "text": [
            "[{'system': 'BJC', 'hospitals': [{'name': 'BJC', 'beds': 2000}, {'name': 'BJC WEST COUNTY', 'beds': 1000}, {'name': 'MISSOURI BAPTIST', 'beds': 800}]}, {'system': 'SSM', 'hospitals': [{'name': 'SAINT LOUIS UNIVERSITY', 'beds': 1000}, {'name': \"ST.MARY'S\", 'beds': 500}]}, {'system': \"ST.LUKE'S\", 'hospitals': [{'name': \"ST.LUKE'S\", 'beds': 800}]}]\n"
          ]
        }
      ]
    },
    {
      "cell_type": "markdown",
      "metadata": {
        "id": "pWVWwiLw4xRj"
      },
      "source": [
        "### Step 5: Main business logic\n",
        "\n",
        "Call BODE Score, BODE Risk functions for each patient.\n",
        "\n",
        "For each hospital, calculate Avg BODE score and Avg BODE risk and count the number of cases for each hospital."
      ]
    },
    {
      "cell_type": "code",
      "source": [],
      "metadata": {
        "id": "qfEMBJ5tOFhV"
      },
      "execution_count": 19,
      "outputs": []
    },
    {
      "cell_type": "code",
      "source": [
        "import json\n",
        "\n",
        "# Constants for dyspnea scoring based on difficulty in breathing\n",
        "DYSPNEA_SCORES = {\n",
        "    'No dyspnea': 0,\n",
        "    'Dyspnea when walking fast': 1,\n",
        "    'Dyspnea when walking on level ground': 2,\n",
        "    'Dyspnea after 100m': 3,\n",
        "    'Too dyspneic to leave the house': 4\n",
        "}\n",
        "\"\"\"\n",
        "DYSPNEA_SCORES:\n",
        "Maps levels of dyspnea to numerical scores for BODE calculation. Keys indicate severity:\n",
        "- 'No dyspnea': 0\n",
        "- 'Dyspnea when walking fast': 1\n",
        "- 'Dyspnea when walking on level ground': 2\n",
        "- 'Dyspnea after 100m': 3\n",
        "- 'Too dyspneic to leave the house': 4\n",
        "\"\"\"\n",
        "\n",
        "def calculate_bmi(weight_kg, height_m):\n",
        "    \"\"\"\n",
        "    Calculate Body Mass Index (BMI).\n",
        "\n",
        "    Parameters:\n",
        "        weight_kg (float): Weight in kilograms.\n",
        "        height_m (float): Height in meters.\n",
        "\n",
        "    Returns:\n",
        "        float: BMI rounded to two decimal places.\n",
        "    \"\"\"\n",
        "    return round(weight_kg / (height_m ** 2), 2)\n",
        "\n",
        "def calculate_bode_score(bmi, fev_pct, dyspnea_desc, distance_meters):\n",
        "    \"\"\"\n",
        "    Calculate the BODE score, predicting risk in COPD patients.\n",
        "\n",
        "    Factors considered:\n",
        "    - BMI\n",
        "    - FEV1% (percentage of predicted value)\n",
        "    - Dyspnea severity\n",
        "    - Distance walked in 6 minutes\n",
        "\n",
        "    Parameters:\n",
        "        bmi (float): BMI value.\n",
        "        fev_pct (int): FEV1 percentage.\n",
        "        dyspnea_desc (str): Description of dyspnea severity.\n",
        "        distance_meters (int): Distance walked during a test.\n",
        "\n",
        "    Returns:\n",
        "        int: Calculated BODE score.\n",
        "    \"\"\"\n",
        "    score = 0\n",
        "\n",
        "    # FEV1% contribution\n",
        "    if fev_pct >= 65:\n",
        "        score += 0\n",
        "    elif fev_pct >= 50:\n",
        "        score += 1\n",
        "    elif fev_pct >= 36:\n",
        "        score += 2\n",
        "    else:\n",
        "        score += 3\n",
        "\n",
        "    # BMI contribution\n",
        "    score += 0 if bmi > 21 else 1\n",
        "\n",
        "    # Dyspnea score\n",
        "    score += DYSPNEA_SCORES.get(dyspnea_desc, 0)\n",
        "\n",
        "    # Distance walked contribution\n",
        "    if distance_meters > 350:\n",
        "        score += 0\n",
        "    elif distance_meters >= 250:\n",
        "        score += 1\n",
        "    elif distance_meters >= 150:\n",
        "        score += 2\n",
        "    else:\n",
        "        score += 3\n",
        "\n",
        "    return score\n",
        "\n",
        "def calculate_bode_risk(bode_score):\n",
        "    \"\"\"\n",
        "    Classify BODE score into risk categories.\n",
        "\n",
        "    Parameters:\n",
        "        bode_score (int): The calculated BODE score.\n",
        "\n",
        "    Returns:\n",
        "        str: Risk category based on the BODE score:\n",
        "             - \"Low\" (0-2)\n",
        "             - \"Moderate\" (3-4)\n",
        "             - \"High\" (5-6)\n",
        "             - \"Very High\" (7+)\n",
        "    \"\"\"\n",
        "    if bode_score <= 2:\n",
        "        return \"Low\"\n",
        "    elif bode_score <= 4:\n",
        "        return \"Moderate\"\n",
        "    elif bode_score <= 6:\n",
        "        return \"High\"\n",
        "    else:\n",
        "        return \"Very High\"\n"
      ],
      "metadata": {
        "id": "y5kW-ncCFUGi"
      },
      "execution_count": 20,
      "outputs": []
    },
    {
      "cell_type": "code",
      "source": [
        "import json\n",
        "\n",
        "def load_hospital_data(file_path):\n",
        "    \"\"\"\n",
        "    Load hospital data from a JSON file.\n",
        "\n",
        "    Parameters:\n",
        "    file_path (str): The path to the JSON file containing hospital data.\n",
        "\n",
        "    Returns:\n",
        "    list: A list of dictionaries representing hospitals and their details.\n",
        "\n",
        "    Raises:\n",
        "    FileNotFoundError: If the file specified by file_path is not found.\n",
        "    JSONDecodeError: If the file is not a valid JSON format.\n",
        "    \"\"\"\n",
        "    with open(file_path, 'r') as file:\n",
        "        hospital_data = json.load(file)\n",
        "    return hospital_data\n",
        "\n",
        "def process_patients(patients, hospitals):\n",
        "    \"\"\"\n",
        "    Process patient data and calculate BODE score, risk categories, and hospital statistics.\n",
        "\n",
        "    This function processes each patient's data, calculating the BODE score and risk based on their BMI,\n",
        "    FEV1 percentage, dyspnea severity, and distance walked. It then compiles statistics for each hospital.\n",
        "\n",
        "    Parameters:\n",
        "    patients (list): A list of dictionaries representing patient data.\n",
        "                     Each patient dictionary contains keys like 'WEIGHT_KG', 'HEIGHT_M', 'fev_pct',\n",
        "                     'dyspnea_description', 'distance_in_meters', and 'hospital'.\n",
        "    hospitals (list): A list of dictionaries representing hospital systems, where each hospital system contains\n",
        "                      a list of hospitals with details like the number of beds.\n",
        "\n",
        "    Returns:\n",
        "    dict: A dictionary of hospital statistics with the following structure:\n",
        "          - 'total_score': The cumulative BODE score for all patients treated at the hospital.\n",
        "          - 'total_cases': The total number of patients treated at the hospital.\n",
        "          - 'risk_count': A dictionary counting patients in each BODE risk category ('Low', 'Moderate', 'High', 'Very High').\n",
        "          - 'beds': The number of available beds at the hospital.\n",
        "\n",
        "    Example:\n",
        "    The returned dictionary for each hospital might look like:\n",
        "    {\n",
        "        \"Hospital A\": {\n",
        "            \"total_score\": 25,\n",
        "            \"total_cases\": 5,\n",
        "            \"risk_count\": {\"Low\": 2, \"Moderate\": 1, \"High\": 1, \"Very High\": 1},\n",
        "            \"beds\": 150\n",
        "        },\n",
        "        \"Hospital B\": {\n",
        "            \"total_score\": 12,\n",
        "            \"total_cases\": 3,\n",
        "            \"risk_count\": {\"Low\": 1, \"Moderate\": 1, \"High\": 0, \"Very High\": 1},\n",
        "            \"beds\": 200\n",
        "        }\n",
        "    }\n",
        "\n",
        "    Raises:\n",
        "    KeyError: If the expected keys are missing from the patient or hospital data.\n",
        "    \"\"\"\n",
        "    hospital_stats = {}\n",
        "\n",
        "    for patient in patients:\n",
        "        # Calculate BMI for the patient\n",
        "        bmi = calculate_bmi(float(patient['WEIGHT_KG']), float(patient['HEIGHT_M']))\n",
        "\n",
        "        # Calculate BODE score based on BMI, FEV1%, dyspnea, and distance walked\n",
        "        bode_score = calculate_bode_score(\n",
        "            bmi,\n",
        "            float(patient['fev_pct']),\n",
        "            patient['dyspnea_description'],\n",
        "            float(patient['distance_in_meters'])\n",
        "        )\n",
        "\n",
        "        # Determine the BODE risk category based on the BODE score\n",
        "        bode_risk = calculate_bode_risk(bode_score)\n",
        "\n",
        "        # Store the BODE score and risk category in the patient's data\n",
        "        patient['BODE_SCORE'] = bode_score\n",
        "        patient['BODE_RISK'] = bode_risk\n",
        "\n",
        "        # Get the hospital name from the patient data\n",
        "        hospital_name = patient['hospital']\n",
        "\n",
        "        # Initialize the hospital's stats if not already present in the dictionary\n",
        "        if hospital_name not in hospital_stats:\n",
        "            hospital_stats[hospital_name] = {\n",
        "                'total_score': 0,\n",
        "                'total_cases': 0,\n",
        "                'risk_count': {'Low': 0, 'Moderate': 0, 'High': 0, 'Very High': 0},\n",
        "                'beds': next((hospital['beds'] for sys in hospitals\n",
        "                              for hospital in sys['hospitals']\n",
        "                              if hospital['name'] == hospital_name), 0)\n",
        "            }\n",
        "\n",
        "        # Update hospital statistics with the patient's BODE score and risk category\n",
        "        hospital_stats[hospital_name]['total_score'] += bode_score\n",
        "        hospital_stats[hospital_name]['total_cases'] += 1\n",
        "        hospital_stats[hospital_name]['risk_count'][bode_risk] += 1\n",
        "\n",
        "    return hospital_stats\n"
      ],
      "metadata": {
        "id": "k88KxBykYZiz"
      },
      "execution_count": 21,
      "outputs": []
    },
    {
      "cell_type": "code",
      "source": [
        "def calculate_average_stats(hospital_stats):\n",
        "    for hospital_name, stats in hospital_stats.items():\n",
        "        stats['avg_score'] = stats['total_score'] / stats['total_cases'] if stats['total_cases'] > 0 else 0\n",
        "        stats['avg_risk'] = max(stats['risk_count'], key=stats['risk_count'].get) if stats['total_cases'] > 0 else 'N/A'\n",
        "    return hospital_stats\n",
        "\n",
        "def main():\n",
        "    patients = [\n",
        "        {\n",
        "            'NAME': 'John Doe', 'WEIGHT_KG': 70, 'HEIGHT_M': 1.75, 'fev_pct': 60,\n",
        "            'dyspnea_description': 'Dyspnea when walking fast', 'distance_in_meters': 300,\n",
        "            'hospital': 'BJC'\n",
        "        },\n",
        "        {\n",
        "            'NAME': 'Jane Smith', 'WEIGHT_KG': 60, 'HEIGHT_M': 1.65, 'fev_pct': 40,\n",
        "            'dyspnea_description': 'Dyspnea after 100m', 'distance_in_meters': 150,\n",
        "            'hospital': 'MISSOURI BAPTIST'\n",
        "        }\n",
        "    ]\n",
        "\n",
        "    hospitals = load_hospital_data('hospitals (1).json')\n",
        "    hospital_stats = process_patients(patients, hospitals)\n",
        "    hospital_stats = calculate_average_stats(hospital_stats)\n",
        "\n",
        "    for hospital, stats in hospital_stats.items():\n",
        "        print(f'Hospital: {hospital}')\n",
        "        print(f'  Total COPD Cases: {stats[\"total_cases\"]}')\n",
        "        print(f'  Average BODE Score: {stats[\"avg_score\"]}')\n",
        "        print(f'  Most Common BODE Risk: {stats[\"avg_risk\"]}')\n",
        "        print(f'  Beds: {stats[\"beds\"]}')\n",
        "        print('')\n",
        "\n",
        "if __name__ == '__main__':\n",
        "    main()\n"
      ],
      "metadata": {
        "colab": {
          "base_uri": "https://localhost:8080/"
        },
        "id": "eWaYNLmJK9_g",
        "outputId": "450812c6-13a2-4b43-fed1-1bcb3873e220"
      },
      "execution_count": 22,
      "outputs": [
        {
          "output_type": "stream",
          "name": "stdout",
          "text": [
            "Hospital: BJC\n",
            "  Total COPD Cases: 1\n",
            "  Average BODE Score: 3.0\n",
            "  Most Common BODE Risk: Moderate\n",
            "  Beds: 2000\n",
            "\n",
            "Hospital: MISSOURI BAPTIST\n",
            "  Total COPD Cases: 1\n",
            "  Average BODE Score: 7.0\n",
            "  Most Common BODE Risk: Very High\n",
            "  Beds: 800\n",
            "\n"
          ]
        }
      ]
    },
    {
      "cell_type": "code",
      "source": [
        "### test case 1\n",
        "# Test patient data\n",
        "patients = [\n",
        "    {\n",
        "        'NAME': 'John Doe', 'WEIGHT_KG': 70, 'HEIGHT_M': 1.75, 'fev_pct': 60, 'dyspnea_description': 'Dyspnea when walking fast', 'distance_in_meters': 300, 'hospital': 'BJC'\n",
        "    },\n",
        "    {\n",
        "        'NAME': 'Jane Smith', 'WEIGHT_KG': 60, 'HEIGHT_M': 1.65, 'fev_pct': 40, 'dyspnea_description': 'Dyspnea after 100m', 'distance_in_meters': 150, 'hospital': 'MISSOURI BAPTIST'\n",
        "    }\n",
        "]\n",
        "\n",
        "# Test hospital data\n",
        "hospitals = [\n",
        "    {\n",
        "        \"system\": \"BJC\",\n",
        "        \"hospitals\": [\n",
        "            {\"name\": \"BJC\", \"beds\": 2000},\n",
        "            {\"name\": \"BJC WEST COUNTY\", \"beds\": 1000},\n",
        "            {\"name\": \"MISSOURI BAPTIST\", \"beds\": 800}\n",
        "        ]\n",
        "    }\n",
        "]\n",
        "\n",
        "# Process the test patients and hospital data\n",
        "hospital_stats = process_patients(patients, hospitals)\n",
        "hospital_stats = calculate_average_stats(hospital_stats)\n",
        "\n",
        "##  output for hospital BJC\n",
        "print(f'Hospital: BJC')\n",
        "print(f'  Total COPD Cases: {hospital_stats[\"BJC\"][\"total_cases\"]}')\n",
        "print(f'  Average BODE Score: {hospital_stats[\"BJC\"][\"avg_score\"]}')\n",
        "print(f'  Most Common BODE Risk: {hospital_stats[\"BJC\"][\"avg_risk\"]}')\n",
        "print(f'  Beds: {hospital_stats[\"BJC\"][\"beds\"]}')\n",
        "\n",
        "## output for hospital MISSOURI BAPTIST\n",
        "print(f'Hospital: MISSOURI BAPTIST')\n",
        "print(f'  Total COPD Cases: {hospital_stats[\"MISSOURI BAPTIST\"][\"total_cases\"]}')\n",
        "print(f'  Average BODE Score: {hospital_stats[\"MISSOURI BAPTIST\"][\"avg_score\"]}')\n",
        "print(f'  Most Common BODE Risk: {hospital_stats[\"MISSOURI BAPTIST\"][\"avg_risk\"]}')\n",
        "print(f'  Beds: {hospital_stats[\"MISSOURI BAPTIST\"][\"beds\"]}')\n"
      ],
      "metadata": {
        "id": "eMBcDZmPBOdo",
        "outputId": "9c9248be-80f1-4254-8183-241bf95f055c",
        "colab": {
          "base_uri": "https://localhost:8080/"
        }
      },
      "execution_count": 23,
      "outputs": [
        {
          "output_type": "stream",
          "name": "stdout",
          "text": [
            "Hospital: BJC\n",
            "  Total COPD Cases: 1\n",
            "  Average BODE Score: 3.0\n",
            "  Most Common BODE Risk: Moderate\n",
            "  Beds: 2000\n",
            "Hospital: MISSOURI BAPTIST\n",
            "  Total COPD Cases: 1\n",
            "  Average BODE Score: 7.0\n",
            "  Most Common BODE Risk: Very High\n",
            "  Beds: 800\n"
          ]
        }
      ]
    },
    {
      "cell_type": "code",
      "source": [
        "### TEST CASE 2  #\n",
        "#Test patient data\n",
        "patients = [\n",
        "    {\n",
        "        'NAME': 'Alice Green', 'WEIGHT_KG': 85, 'HEIGHT_M': 1.70, 'fev_pct': 50, 'dyspnea_description': 'Dyspnea after 100m', 'distance_in_meters': 100, 'hospital': 'ST.LUKE\\'S'\n",
        "    },\n",
        "    {\n",
        "        'NAME': 'Bob White', 'WEIGHT_KG': 90, 'HEIGHT_M': 1.80, 'fev_pct': 35, 'dyspnea_description': 'Too dyspneic to leave the house', 'distance_in_meters': 50, 'hospital': 'ST.LUKE\\'S'\n",
        "    }\n",
        "]\n",
        "\n",
        "# Test hospital data\n",
        "hospitals = [\n",
        "    {\n",
        "        \"system\": \"ST.LUKE'S\",\n",
        "        \"hospitals\": [\n",
        "            {\"name\": \"ST.LUKE'S\", \"beds\": 800}\n",
        "        ]\n",
        "    }\n",
        "]\n",
        "\n",
        "# Process the test patients and hospital data\n",
        "hospital_stats = process_patients(patients, hospitals)\n",
        "hospital_stats = calculate_average_stats(hospital_stats)\n",
        "\n",
        "# Expected output for hospital ST.LUKE'S\n",
        "print(\"Hospital: ST.LUKE'S\")\n",
        "print(\"  Total COPD Cases: {}\".format(hospital_stats[\"ST.LUKE'S\"][\"total_cases\"]))\n",
        "print(\"  Average BODE Score: {}\".format(hospital_stats[\"ST.LUKE'S\"][\"avg_score\"]))\n",
        "print(\"  Most Common BODE Risk: {}\".format(hospital_stats[\"ST.LUKE'S\"][\"avg_risk\"]))\n",
        "print(\"  Beds: {}\".format(hospital_stats[\"ST.LUKE'S\"][\"beds\"]))\n",
        "\n"
      ],
      "metadata": {
        "id": "xhyiVKfgCMOa",
        "outputId": "3a47ddf1-4912-4f5e-fd19-86e1b9c87bf0",
        "colab": {
          "base_uri": "https://localhost:8080/"
        }
      },
      "execution_count": 24,
      "outputs": [
        {
          "output_type": "stream",
          "name": "stdout",
          "text": [
            "Hospital: ST.LUKE'S\n",
            "  Total COPD Cases: 2\n",
            "  Average BODE Score: 8.5\n",
            "  Most Common BODE Risk: Very High\n",
            "  Beds: 800\n"
          ]
        }
      ]
    },
    {
      "cell_type": "markdown",
      "source": [],
      "metadata": {
        "id": "9mtZIcJlE8sp"
      }
    },
    {
      "cell_type": "code",
      "execution_count": 25,
      "metadata": {
        "id": "QgGXPbA24xRj"
      },
      "outputs": [],
      "source": [
        "patient_csv = \"patient.csv\"\n",
        "hospital_json = \"hospitals.json\"\n",
        "\n",
        "patient_output_file = \"patient_output.csv\"\n",
        "hospital_output_file = \"hospital_output.csv\"\n",
        "\n",
        "###\n",
        "# Your logic here\n",
        "###\n",
        "patient_results = []\n",
        "hospital_output_list = []\n",
        "\n",
        "#Write Patient_output.csv\n",
        "with open(patient_output_file, 'w', newline='') as csvfile:\n",
        "    writer = csv.writer(csvfile)\n",
        "    writer.writerows(patient_results)\n",
        "#Write Hospital_output.csv\n",
        "with open(hospital_output_file, 'w', newline='') as csvfile:\n",
        "    writer = csv.writer(csvfile)\n",
        "    writer.writerows(hospital_output_list)"
      ]
    }
  ],
  "metadata": {
    "language_info": {
      "name": "python"
    },
    "colab": {
      "provenance": [],
      "include_colab_link": true
    },
    "kernelspec": {
      "name": "python3",
      "display_name": "Python 3"
    }
  },
  "nbformat": 4,
  "nbformat_minor": 0
}