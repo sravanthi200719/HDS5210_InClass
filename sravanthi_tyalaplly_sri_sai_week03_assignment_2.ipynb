{
  "cells": [
    {
      "cell_type": "markdown",
      "metadata": {
        "id": "view-in-github",
        "colab_type": "text"
      },
      "source": [
        "<a href=\"https://colab.research.google.com/github/sravanthi200719/HDS5210_InClass/blob/master/sravanthi_tyalaplly_sri_sai_week03_assignment_2.ipynb\" target=\"_parent\"><img src=\"https://colab.research.google.com/assets/colab-badge.svg\" alt=\"Open In Colab\"/></a>"
      ]
    },
    {
      "cell_type": "markdown",
      "metadata": {
        "nbgrader": {
          "grade": false,
          "grade_id": "intro",
          "locked": true,
          "schema_version": 1,
          "solution": false
        },
        "id": "aEx6QdktCDG-"
      },
      "source": [
        "# Week 3 Exercises\n",
        "\n",
        "See: _McKinney 2.3_ and [Python Documentation](https://docs.python.org/3/tutorial/controlflow.html) section 4 on flow control.\n",
        "\n",
        "\n",
        "**At the begining of the semester, all of the workshop programming exercises will be structured a specific way to make it easier to verify for yourself that you're on the right track as well as easier for me to do a first pass on automated grading.  The structure of each question will require you to write a function using Python code. Don't worry that we haven't talked about functions yet. Just edit the code between** `### BEGIN SOLUTION` and `### END SOLUTION` **as shown in the example below.**\n"
      ]
    },
    {
      "cell_type": "markdown",
      "metadata": {
        "id": "OosP2NCkCDHA"
      },
      "source": [
        "**WHAT I PROVIDE:**\n",
        "```\n",
        "def some_function(parameter1, parameter2):\n",
        "\n",
        "   ### BEGIN SOLUTION\n",
        "   x = -1\n",
        "   ### END SOLUTION\n",
        "   \n",
        "   return x\n",
        "```\n",
        "\n",
        "**WHAT YOU SHOULD DO:** Just change the parameter names (if you feel you need to) and the calculations between `### BEGIN SOLUTION` and `### END SOLUTION`.  This is just a made up example.\n",
        "```\n",
        "def some_function(a, b):\n",
        "\n",
        "   ### BEGIN SOLUTION\n",
        "   temp = a + b\n",
        "   x = temp / a * b\n",
        "   ### END SOLUTION\n",
        "   \n",
        "   return x\n",
        "```\n"
      ]
    },
    {
      "cell_type": "markdown",
      "metadata": {
        "id": "Wx8TmQgHCDHB"
      },
      "source": [
        "---\n",
        "---\n",
        "\n",
        "**Below each programming exercise are some tests (`assertions`) that verify your code is working correctly.  If any assertions fail, you know that something isnt' right with your code, but having all assertions pass doesn't necessarily mean your code is perfect, yet. You should also create your own tests to make sure your code is correct.**\n",
        "\n",
        "**For now, please don't change any function names**"
      ]
    },
    {
      "cell_type": "markdown",
      "metadata": {
        "id": "bRICktKBCDHB"
      },
      "source": [
        "### 14.1 Difference in rate per 1,000\n",
        "\n",
        "Often in public health, we report metrics as a number per 1,000 or per 1,000,000 in population. The purpose of that is to normalize the numbers between area of larger and smaller populations.\n",
        "\n",
        "Below, we have a function already built to calculate teh different in rate per 1,000 in two different regions.  The function normalizes them and then prints out a message describing their difference."
      ]
    },
    {
      "cell_type": "code",
      "execution_count": 1,
      "metadata": {
        "id": "GbZ4u87iCDHB"
      },
      "outputs": [],
      "source": [
        "def diff_in_rate_normalized(count_a, total_a, count_b, total_b):\n",
        "    \"\"\"(int,int,int,int) -> str\n",
        "    * count_a is the number of occurences in area A\n",
        "    * total_a is the total population in area A\n",
        "    * count_b is the number of occurences in area B\n",
        "    * total_b is the total population in area B\n",
        "\n",
        "    This function returns a string describing how A and B compare in terms of occurence rates per 1,000 population.\"\"\"\n",
        "\n",
        "    rate_a = count_a / total_a * 1000\n",
        "    rate_b = count_b / total_b * 1000\n",
        "\n",
        "    if rate_a == rate_b:\n",
        "        msg = \"The rate in A and the rate in B are the same ({}).\".format(rate_a)\n",
        "    elif rate_a > rate_b:\n",
        "        msg = \"The rate in A ({}) is greater than the rate in B ({}).\".format(rate_a, rate_b)\n",
        "    else:\n",
        "        msg = \"The rate in A ({}) is less than the rate in B ({})\".format(rate_a, rate_b)\n",
        "\n",
        "    return msg"
      ]
    },
    {
      "cell_type": "code",
      "source": [
        "'''answer for the above code'''\n",
        "def diff_in_rate_normalized(events_region_a, population_a, events_region_b, population_b):\n",
        "    \"\"\"(int,int,int,int) -> str\n",
        "    * events_region_a is the number of occurrences in region A\n",
        "    * population_a is the total population in region A\n",
        "    * events_region_b is the number of occurrences in region B\n",
        "    * population_b is the total population in region B\n",
        "\n",
        "    This function returns a string describing how region A and B compare in terms of occurrence rates per 1,000 population.\"\"\"\n",
        "\n",
        "    ### BEGIN SOLUTION\n",
        "    rate_a = (events_region_a / population_a) * 1000\n",
        "    rate_b = (events_region_b / population_b) * 1000\n",
        "\n",
        "    if abs(rate_a - rate_b) < 1e-9:\n",
        "        msg = \"The rate in A and the rate in B are the same ({}).\".format(rate_a)\n",
        "    elif rate_a > rate_b:\n",
        "        msg = \"The rate in A is {} per 1,000, which is greater than the rate in B of {} per 1,000.\".format(rate_a, rate_b)\n",
        "    else:\n",
        "        msg = \"The rate in A is {} per 1,000, which is less than the rate in B of {} per 1,000.\".format(rate_a, rate_b)\n",
        "    ### END SOLUTION\n",
        "\n",
        "    return msg"
      ],
      "metadata": {
        "id": "HIVaQXu9CuUO"
      },
      "execution_count": 2,
      "outputs": []
    },
    {
      "cell_type": "code",
      "execution_count": 3,
      "metadata": {
        "id": "qN5L_UB8CDHC",
        "outputId": "c6763e41-a636-4ce5-d6d2-1dcb3181ffc9",
        "colab": {
          "base_uri": "https://localhost:8080/"
        }
      },
      "outputs": [
        {
          "output_type": "stream",
          "name": "stdout",
          "text": [
            "The rate in A is 1.0 per 1,000, which is less than the rate in B of 1.5 per 1,000.\n"
          ]
        }
      ],
      "source": [
        "rate_covid_testing = diff_in_rate_normalized(1,1000,15,10000)\n",
        "print(rate_covid_testing)"
      ]
    },
    {
      "cell_type": "code",
      "execution_count": 4,
      "metadata": {
        "id": "DnryEpuECDHD",
        "outputId": "24cbbb5e-c73e-4834-e45f-270354b5c778",
        "colab": {
          "base_uri": "https://localhost:8080/",
          "height": 35
        }
      },
      "outputs": [
        {
          "output_type": "execute_result",
          "data": {
            "text/plain": [
              "'The rate in A and the rate in B are the same (3.0).'"
            ],
            "application/vnd.google.colaboratory.intrinsic+json": {
              "type": "string"
            }
          },
          "metadata": {},
          "execution_count": 4
        }
      ],
      "source": [
        "diff_in_rate_normalized(3,1000,30,10000)"
      ]
    },
    {
      "cell_type": "code",
      "source": [
        "''' my testcases'''\n",
        "rate_covid_testing = diff_in_rate_normalized(20,1000,15,10000)\n",
        "print(rate_covid_testing)\n"
      ],
      "metadata": {
        "colab": {
          "base_uri": "https://localhost:8080/"
        },
        "id": "AsV8iZrg40VD",
        "outputId": "0b68b22b-4269-45fd-aff4-7040d8ee9d65"
      },
      "execution_count": 5,
      "outputs": [
        {
          "output_type": "stream",
          "name": "stdout",
          "text": [
            "The rate in A is 20.0 per 1,000, which is greater than the rate in B of 1.5 per 1,000.\n"
          ]
        }
      ]
    },
    {
      "cell_type": "markdown",
      "metadata": {
        "id": "ow6IRk5kCDHE"
      },
      "source": [
        "### 14.2 Trimming outliers\n",
        "\n",
        "While it works well in most cases, in practice, this may not truly make numbers comparable between extremely large population centers (e.g. New York City at 8.5 million) and very small rural areas (e.g. Meeteese, WY at 459 people).\n",
        "\n",
        "Let's take that function and make some adjustments.  If the total population of either A or B is more than 100 times larger than the other, then we want to return a different message.  That is, if the populations are more than two orders of magnitude different, then we shouldn't try to compare them."
      ]
    },
    {
      "cell_type": "code",
      "execution_count": 6,
      "metadata": {
        "id": "hBdFo7jHCDHE"
      },
      "outputs": [],
      "source": [
        "def diff_in_rate_normalized(count_a, total_a, count_b, total_b):\n",
        "    \"\"\"(int,int,int,int) -> str\n",
        "    * count_a is the number of occurences in area A\n",
        "    * total_a is the total population in area A\n",
        "    * count_b is the number of occurences in area B\n",
        "    * total_b is the total population in area B\n",
        "\n",
        "    This function returns a string describing how A and B compare in terms of occurence rates per 1,000 population.\n",
        "\n",
        "    If total_a / total_b > 100 OR total_b / total_a > 100 then we'll return a message saying the two can't be compared.\n",
        "    \"The total populations in A and B are so different that they can't be compared.\"\n",
        "    \"\"\"\n",
        "\n",
        "    # Do some work to write a msg\n",
        "    msg = \"I didn't write any code, yet\"\n",
        "\n",
        "    return msg"
      ]
    },
    {
      "cell_type": "code",
      "source": [
        "'''answer for the code'''\n",
        "def diff_in_rate_normalized(occ_a, pop_a, occ_b, pop_b):\n",
        "    \"\"\"(int,int,int,int) -> str\n",
        "    * occ_a is the number of occurences in area A\n",
        "    * pop_a is the total population in area A\n",
        "    * occ_b is the number of occurences in area B\n",
        "    * pop_b is the total population in area B\n",
        "\n",
        "    This function returns a string describing how A and B compare in terms of occurence rates per 1,000 population.\n",
        "\n",
        "    If pop_a / pop_b > 100 OR pop_b / pop_a > 100 then we'll return a message saying the two can't be compared.\n",
        "    \"The total populations in A and B are so different that they can't be compared.\"\n",
        "    \"\"\"\n",
        "    ### BEGIN SOLUTION\n",
        "    if pop_a / pop_b > 100 or pop_b / pop_a > 100:\n",
        "        msg = \"The total populations in A and B are so different that they can't be compared.\"\n",
        "    else:\n",
        "        rate_a = (occ_a / pop_a) * 1000\n",
        "        rate_b = (occ_b / pop_b) * 1000\n",
        "\n",
        "    if abs(rate_a - rate_b) < 1e-9:\n",
        "        msg = \"The rate in A and the rate in B are the same ({}).\".format(rate_a)\n",
        "    elif rate_a > rate_b:\n",
        "        msg = \"The rate in A is {} per 1,000, which is greater than the rate in B of {} per 1,000.\".format(rate_a, rate_b)\n",
        "    else:\n",
        "        msg = \"The rate in A is {} per 1,000, which is less than the rate in B of {} per 1,000.\".format(rate_a, rate_b)\n",
        "    ### END SOLUTION\n",
        "\n",
        "    return msg"
      ],
      "metadata": {
        "id": "paKUDGISDwsQ"
      },
      "execution_count": 7,
      "outputs": []
    },
    {
      "cell_type": "code",
      "execution_count": 8,
      "metadata": {
        "id": "E9Q67GUbCDHF",
        "outputId": "0116de31-f089-46c8-d0dd-fed37830b2ec",
        "colab": {
          "base_uri": "https://localhost:8080/",
          "height": 35
        }
      },
      "outputs": [
        {
          "output_type": "execute_result",
          "data": {
            "text/plain": [
              "'The rate in A is 10.893246187363834 per 1,000, which is greater than the rate in B of 3.5294117647058827 per 1,000.'"
            ],
            "application/vnd.google.colaboratory.intrinsic+json": {
              "type": "string"
            }
          },
          "metadata": {},
          "execution_count": 8
        }
      ],
      "source": [
        "diff_in_rate_normalized(5, 459, 30, 8500)"
      ]
    },
    {
      "cell_type": "code",
      "source": [
        "'''my testcases'''\n",
        "diff_in_rate_normalized(10, 1000, 20, 1000)\n"
      ],
      "metadata": {
        "colab": {
          "base_uri": "https://localhost:8080/",
          "height": 35
        },
        "id": "fPd_7ECf6Qp-",
        "outputId": "d6359d30-b9cc-413f-8a9b-e9926822d9dd"
      },
      "execution_count": 9,
      "outputs": [
        {
          "output_type": "execute_result",
          "data": {
            "text/plain": [
              "'The rate in A is 10.0 per 1,000, which is less than the rate in B of 20.0 per 1,000.'"
            ],
            "application/vnd.google.colaboratory.intrinsic+json": {
              "type": "string"
            }
          },
          "metadata": {},
          "execution_count": 9
        }
      ]
    },
    {
      "cell_type": "code",
      "source": [
        "'''my testcases'''\n",
        "diff_in_rate_normalized(15, 1000, 15, 1000)"
      ],
      "metadata": {
        "colab": {
          "base_uri": "https://localhost:8080/",
          "height": 35
        },
        "id": "3hJ8mfo-6wcD",
        "outputId": "4ede8aaa-99c3-4529-e1de-ca01a0c93d64"
      },
      "execution_count": 10,
      "outputs": [
        {
          "output_type": "execute_result",
          "data": {
            "text/plain": [
              "'The rate in A and the rate in B are the same (15.0).'"
            ],
            "application/vnd.google.colaboratory.intrinsic+json": {
              "type": "string"
            }
          },
          "metadata": {},
          "execution_count": 10
        }
      ]
    },
    {
      "cell_type": "markdown",
      "metadata": {
        "nbgrader": {
          "grade": false,
          "grade_id": "bmi",
          "locked": true,
          "schema_version": 1,
          "solution": false
        },
        "id": "PvQMd2vkCDHF"
      },
      "source": [
        "### 14.3 LACE Score\n",
        "There is a simple readmission index called the LACE Score: https://www.hindawi.com/journals/bmri/2015/169870/tab1/\n",
        "\n",
        "Use this documentation to create a function that can compute LACE scores based on the 4 input parameters.  Below is the function signature and documentation that you start with."
      ]
    },
    {
      "cell_type": "code",
      "execution_count": 11,
      "metadata": {
        "nbgrader": {
          "grade": false,
          "grade_id": "bmi-answer",
          "locked": false,
          "schema_version": 1,
          "solution": true
        },
        "id": "qGrNPqQ8CDHF"
      },
      "outputs": [],
      "source": [
        "def LACE(length_of_stay, acute_flag, charlson, ed_visits):\n",
        "    \"\"\"(int, bool, int, int) -> int\n",
        "    This function uses the logic from https://www.hindawi.com/journals/bmri/2015/169870/tab1/\n",
        "    to compute the LACE score for this patient.\n",
        "\n",
        "    >>> LACE(4, False, 1, 0)\n",
        "    5\n",
        "\n",
        "    >>> LACE(4, True, 4, 7)\n",
        "    16\n",
        "\n",
        "    \"\"\"\n",
        "    score = -1\n",
        "\n",
        "    return score"
      ]
    },
    {
      "cell_type": "code",
      "source": [
        "'''answer for the code'''\n",
        "def LACE(length_of_stay, acute_flag, charlson, ed_visits):\n",
        "    \"\"\"(int, bool, int, int) -> int\n",
        "    This function uses the logic from https://www.hindawi.com/journals/bmri/2015/169870/tab1/\n",
        "    to compute the LACE score for this patient.\n",
        "\n",
        "    >>> LACE(4, False, 1, 0)\n",
        "    5\n",
        "\n",
        "    >>> LACE(4, True, 4, 7)\n",
        "    16\n",
        "\n",
        "    \"\"\"\n",
        "    score = 0\n",
        "\n",
        "    # Length of stay\n",
        "    if length_of_stay < 1:\n",
        "        score += 0\n",
        "    elif length_of_stay == 1:\n",
        "        score += 1\n",
        "    elif length_of_stay == 2:\n",
        "        score += 2\n",
        "    elif length_of_stay == 3:\n",
        "        score += 3\n",
        "    elif 4 <= length_of_stay <= 6:\n",
        "        score += 4\n",
        "    elif 7 <= length_of_stay <= 13:\n",
        "        score += 5\n",
        "    else:\n",
        "        score += 7\n",
        "\n",
        "    print('length_of_stay ' + str(score))\n",
        "\n",
        "    # Acute admission\n",
        "    if acute_flag:\n",
        "        score += 3\n",
        "\n",
        "    print('acute_flag ' + str(score))\n",
        "\n",
        "    # Charlson comorbidity index\n",
        "    if charlson == 0:\n",
        "        score += 0\n",
        "    elif charlson == 1:\n",
        "        score += 1\n",
        "    elif charlson == 2:\n",
        "        score += 2\n",
        "    elif charlson == 3:\n",
        "        score += 3\n",
        "    else:\n",
        "        score += 5\n",
        "\n",
        "    print('charlson ' + str(score))\n",
        "\n",
        "    # Number of ED visits\n",
        "    if ed_visits == 0:\n",
        "        score += 0\n",
        "    elif ed_visits == 1:\n",
        "        score += 1\n",
        "    elif ed_visits == 2:\n",
        "        score += 2\n",
        "    elif ed_visits == 3:\n",
        "        score += 3\n",
        "    else:\n",
        "        score += 4\n",
        "\n",
        "    print('ed_visits ' + str(score))\n",
        "\n",
        "    return score"
      ],
      "metadata": {
        "id": "_PRdFCFKShES"
      },
      "execution_count": 12,
      "outputs": []
    },
    {
      "cell_type": "code",
      "execution_count": 13,
      "metadata": {
        "nbgrader": {
          "grade": true,
          "grade_id": "bmi-test",
          "locked": true,
          "points": 10,
          "schema_version": 1,
          "solution": false
        },
        "id": "rOhWpRnQCDHF",
        "outputId": "345ce399-118c-4388-d1b7-5b3f2cf5c9c1",
        "colab": {
          "base_uri": "https://localhost:8080/"
        }
      },
      "outputs": [
        {
          "output_type": "stream",
          "name": "stdout",
          "text": [
            "length_of_stay 4\n",
            "acute_flag 4\n",
            "charlson 5\n",
            "ed_visits 5\n",
            "length_of_stay 4\n",
            "acute_flag 7\n",
            "charlson 12\n",
            "ed_visits 16\n"
          ]
        }
      ],
      "source": [
        "assert LACE(4, False, 1, 0) == 5\n",
        "assert LACE(4, True, 4, 7) == 16"
      ]
    },
    {
      "cell_type": "code",
      "source": [
        "'''my testcases'''\n",
        "assert LACE(3, False, 2, 1) == 6"
      ],
      "metadata": {
        "colab": {
          "base_uri": "https://localhost:8080/"
        },
        "id": "hchhHJExAENg",
        "outputId": "65f985dd-ca2b-45ba-ff14-1ddd541edf15"
      },
      "execution_count": 14,
      "outputs": [
        {
          "output_type": "stream",
          "name": "stdout",
          "text": [
            "length_of_stay 3\n",
            "acute_flag 3\n",
            "charlson 5\n",
            "ed_visits 6\n"
          ]
        }
      ]
    },
    {
      "cell_type": "markdown",
      "metadata": {
        "nbgrader": {
          "grade": false,
          "grade_id": "weight",
          "locked": true,
          "schema_version": 1,
          "solution": false
        },
        "id": "6euiHE4gCDHG"
      },
      "source": [
        "### 14.4 Care Management Criteria\n",
        "\n",
        "Care managers use LACE as part of the criteria for assigning a care coodinator to a patient who has been recently discharged. If the score is above 10, then a care coordinator will be assigned. The other criteria they use is if the patient has been discharged with a diagnosis of CHF or COPD.  If the diagnosis field has CHF or COPD in it, then the patient will have a care coordinator assigned.\n",
        "\n",
        "For this exercise, write another function that takes the same inputs as LACE() plus another diagnosis parameter, and return True or False depending on if the paient needs a care coordinator.\n",
        "\n",
        "**NOTE** Pay attention to the fact that the order of parameters in this function definition are not the same as the order they were in the LACE score.  "
      ]
    },
    {
      "cell_type": "code",
      "execution_count": 15,
      "metadata": {
        "nbgrader": {
          "grade": false,
          "grade_id": "weight-answer",
          "locked": false,
          "schema_version": 1,
          "solution": true
        },
        "id": "pQi3wV0YCDHG"
      },
      "outputs": [],
      "source": [
        "def assign_care_coordinator(diagnosis_cd, ed_visits, length_of_stay, acute_flag, charlson):\n",
        "    \"\"\" (str, int, int, bool, int) -> bool\n",
        "    Care managers use LACE as part of the criteria for assigning a care coodinator to a\n",
        "    patient who has been recently discharged. If the score is above 10, then a care\n",
        "    coordinator will be assigned. The other criteria they use is if the patient has been\n",
        "    discharged with a diagnosis of CHF or COPD. If the diagnosis field has CHF or COPD in\n",
        "    it, then the patient will have a care coordinator assigned.\n",
        "\n",
        "    >>> assign_care_coordinator('None', 0, 4, False, 1)\n",
        "    False\n",
        "\n",
        "    >>> assign_care_coordinator('CHF', 0, 4, False, 1)\n",
        "    True\n",
        "\n",
        "    >>> assign_care_coordinator('COPD', 0, 4, False, 1)\n",
        "    True\n",
        "\n",
        "    >>> assign_care_coordinator('None', 7, 4, True, 4)\n",
        "    True\n",
        "\n",
        "    >>> assign_care_coordinator('CHF', 7, 4, True, 4)\n",
        "    True\n",
        "    \"\"\"\n",
        "\n",
        "    assignment = True\n",
        "    return assignment\n",
        "\n"
      ]
    },
    {
      "cell_type": "code",
      "source": [
        "def LACE(length_of_stay, acute_flag, charlson, ed_visits):\n",
        "    score = 0\n",
        "\n",
        "    # Length of stay (L)\n",
        "    if length_of_stay < 1:\n",
        "        score += 0\n",
        "    elif length_of_stay == 1:\n",
        "        score += 1\n",
        "    elif 2 <= length_of_stay <= 3:\n",
        "        score += 2\n",
        "    elif 4 <= length_of_stay <= 6:\n",
        "        score += 3\n",
        "    elif 7 <= length_of_stay <= 13:\n",
        "        score += 4\n",
        "    else:  # 14+ days\n",
        "        score += 5\n",
        "\n",
        "    # Acute admission (A)\n",
        "    if acute_flag:\n",
        "        score += 3\n",
        "\n",
        "    # Charlson comorbidity index (C)\n",
        "    if charlson == 0:\n",
        "        score += 0\n",
        "    elif charlson == 1:\n",
        "        score += 1\n",
        "    elif charlson == 2:\n",
        "        score += 2\n",
        "    elif charlson == 3:\n",
        "        score += 3\n",
        "    else:  # 4+ Charlson score\n",
        "        score += 5\n",
        "\n",
        "    # Emergency department visits (E)\n",
        "    if ed_visits == 0:\n",
        "        score += 0\n",
        "    elif ed_visits == 1:\n",
        "        score += 1\n",
        "    elif ed_visits == 2:\n",
        "        score += 2\n",
        "    elif ed_visits == 3:\n",
        "        score += 3\n",
        "    else:  # 4+ ED visits\n",
        "        score += 4\n",
        "\n",
        "    return score\n",
        "\n",
        "def assign_care_coordinator(diagnosis_cd, ed_visits, length_of_stay, acute_flag, charlson):\n",
        "    \"\"\" (str, int, int, bool, int) -> bool\n",
        "    Care managers use LACE as part of the criteria for assigning a care coodinator to a\n",
        "    patient who has been recently discharged. If the score is above 10, then a care\n",
        "    coordinator will be assigned. The other criteria they use is if the patient has been\n",
        "    discharged with a diagnosis of CHF or COPD. If the diagnosis field has CHF or COPD in\n",
        "    it, then the patient will have a care coordinator assigned.\n",
        "\n",
        "    >>> assign_care_coordinator('None', 0, 4, False, 1)\n",
        "    False\n",
        "\n",
        "    >>> assign_care_coordinator('CHF', 0, 4, False, 1)\n",
        "    True\n",
        "\n",
        "    >>> assign_care_coordinator('COPD', 0, 4, False, 1)\n",
        "    True\n",
        "\n",
        "    >>> assign_care_coordinator('None', 7, 4, True, 4)\n",
        "    True\n",
        "\n",
        "    >>> assign_care_coordinator('CHF', 7, 4, True, 4)\n",
        "    True\n",
        "    \"\"\"\n",
        "    ### BEGIN SOLUTION\n",
        "    # Check if diagnosis is CHF or COPD\n",
        "    if 'CHF' in diagnosis_cd or 'COPD' in diagnosis_cd:\n",
        "        return True\n",
        "\n",
        "    # Calculate LACE score\n",
        "    lace_score = LACE(length_of_stay, acute_flag, charlson, ed_visits)\n",
        "\n",
        "    # Assign care coordinator if LACE score is above 10\n",
        "    if lace_score > 10:\n",
        "        return True\n",
        "\n",
        "    # If neither condition is met, don't assign a care coordinator\n",
        "    return False\n",
        "    ### END SOLUTION"
      ],
      "metadata": {
        "id": "LRvoXMfqH6J3"
      },
      "execution_count": 16,
      "outputs": []
    },
    {
      "cell_type": "code",
      "execution_count": 17,
      "metadata": {
        "nbgrader": {
          "grade": true,
          "grade_id": "weight-tests",
          "locked": true,
          "points": 5,
          "schema_version": 1,
          "solution": false
        },
        "id": "IJeoCxSNCDHG"
      },
      "outputs": [],
      "source": [
        "assert assign_care_coordinator('None', 0, 4, False, 1) == False\n",
        "assert assign_care_coordinator('CHF', 0, 4, False, 1) == True\n",
        "assert assign_care_coordinator('COPD', 0, 4, False, 1) == True\n",
        "assert assign_care_coordinator('None', 7, 4, True, 4) == True\n",
        "assert assign_care_coordinator('CHF', 7, 4, True, 4) == True"
      ]
    },
    {
      "cell_type": "code",
      "execution_count": 18,
      "metadata": {
        "id": "3qXkARHGCDHG"
      },
      "outputs": [],
      "source": [
        "'''my testcase'''\n",
        "\n",
        "assert assign_care_coordinator('ASTHMA', 5, 2, False, 1) == False"
      ]
    },
    {
      "cell_type": "markdown",
      "metadata": {
        "id": "dI16PqDGCDHG"
      },
      "source": [
        "### 14.5 qCSI COVID-19 Severity Index\n",
        "\n",
        "See: https://www.mdcalc.com/quick-covid-19-severity-index-qcsi#evidence\n",
        "\n",
        "Calculate the total risk score as per the point values assigned to respiratory rate, pulse oximetry, and O2 flow rate.  Then calculate and return the Risk Level.\n",
        "\n",
        "In addition to the rules provided at the link above, also add the following checks for valid values:\n",
        "* If `respiratory_rate <= 0` then return _invalid respiratory rate_\n",
        "* If `pulse_ox <= 0` then return _invalid pulse ox_\n",
        "* If `pulse_ox > 100` then return _invalid pulse ox_\n",
        "* If `os_flow <= 0` then return _invalid O2 flow rate_"
      ]
    },
    {
      "cell_type": "code",
      "execution_count": 19,
      "metadata": {
        "id": "3GW4slFpCDHG"
      },
      "outputs": [],
      "source": [
        "from os import register_at_fork\n",
        "def qcsi(respiratory_rate, pulse_ox, o2_flow):\n",
        "    \"\"\"(int, int, int) -> str\n",
        "    * respiratory_rate is an integer value\n",
        "    * pulse_ox is an integer value (e.g. 30 means 30%)\n",
        "    * o2_flow is an integer value\n",
        "    \"\"\"\n",
        "\n",
        "    ### BEGIN SOLUTION\n",
        "\n",
        "    ### END SOLUTION\n",
        "\n",
        "    return str(risk)"
      ]
    },
    {
      "cell_type": "code",
      "source": [
        "'''answer for the code'''\n",
        "def qcsi(respiratory_rate, pulse_ox, o2_flow):\n",
        "    \"\"\"(int, int, int) -> str\n",
        "    * respiratory_rate is an integer value\n",
        "    * pulse_ox is an integer value (e.g. 30 means 30%)\n",
        "    * o2_flow is an integer value\n",
        "    \"\"\"\n",
        "\n",
        "    # Checking for valid values\n",
        "    if respiratory_rate <= 0:\n",
        "        return \"invalid respiratory rate\"\n",
        "    if pulse_ox <= 0 or pulse_ox > 100:\n",
        "        return \"invalid pulse ox\"\n",
        "    if o2_flow <= 0:\n",
        "        return \"invalid O2 flow rate\"\n",
        "\n",
        "    # Calculating points for respiratory rate\n",
        "    if respiratory_rate <= 22:\n",
        "        rr_points = 0\n",
        "    elif 23 <= respiratory_rate <= 28:\n",
        "        rr_points = 1\n",
        "    else:\n",
        "        rr_points = 2\n",
        "\n",
        "    # Calculating points for pulse oximetry\n",
        "    if pulse_ox > 92:\n",
        "        po_points = 0\n",
        "    elif 89 <= pulse_ox <= 92:\n",
        "        po_points = 2\n",
        "    else:\n",
        "        po_points = 5\n",
        "\n",
        "    # Calculating points for O2 flow rate\n",
        "    if o2_flow <= 2:\n",
        "        of_points = 0\n",
        "    elif 3 <= o2_flow <= 4:\n",
        "        of_points = 4\n",
        "    else:\n",
        "        of_points = 5\n",
        "\n",
        "    # Total score\n",
        "    total_score = rr_points + po_points + of_points\n",
        "\n",
        "    # Determining risk level based on total score\n",
        "    if total_score <= 3:\n",
        "        risk = \"low\"\n",
        "    elif 4 <= total_score <= 6:\n",
        "        risk = \"low-intermediate\"\n",
        "    elif 7 <= total_score <= 9:\n",
        "        risk = \"high-intermediate\"\n",
        "    else:\n",
        "        risk = \"high\"\n",
        "\n",
        "    return risk\n"
      ],
      "metadata": {
        "id": "fUfB3I3s_Bkl"
      },
      "execution_count": 20,
      "outputs": []
    },
    {
      "cell_type": "code",
      "source": [
        "assert (qcsi(29, 95, 1) == 'low')\n",
        "assert (qcsi(20, 93, 1) == 'low')\n",
        "assert (qcsi(29, 88, 1) == 'high-intermediate')\n",
        "assert (qcsi(29, 88, 4) == 'high')\n",
        "assert (qcsi(30, 90, 1) == 'low-intermediate')\n",
        "assert (qcsi(28, 92, -1) == 'invalid O2 flow rate')\n",
        "assert (qcsi(22, 0, 4) == 'invalid pulse ox')\n",
        "assert (qcsi(0, 97, 2) == 'invalid respiratory rate')"
      ],
      "metadata": {
        "id": "LV5quuu_d59a"
      },
      "execution_count": 21,
      "outputs": []
    },
    {
      "cell_type": "code",
      "source": [
        "'''my testcase'''\n",
        "# Additional test cases for qcsi function\n",
        "assert (qcsi(22, 100, 2) == 'low')\n",
        "assert (qcsi(26, 90, 0) == 'invalid O2 flow rate')\n",
        "assert (qcsi(29, 85, 5) == 'high')\n",
        "assert (qcsi(25, 91, 3) == 'high-intermediate')\n",
        "assert (qcsi(23, 93, 1) == 'low')\n",
        "assert (qcsi(30, 88, 3) == 'high')\n",
        "assert (qcsi(27, 0, 2) == 'invalid pulse ox')\n",
        "assert (qcsi(-1, 95, 1) == 'invalid respiratory rate')\n"
      ],
      "metadata": {
        "id": "iE5OkJQsA8J2"
      },
      "execution_count": 22,
      "outputs": []
    },
    {
      "cell_type": "markdown",
      "metadata": {
        "id": "J9nsvoAACDHG"
      },
      "source": [
        "---\n",
        "\n",
        "## Check your work above\n",
        "\n",
        "If you didn't get them all correct, take a few minutes to think through those that aren't correct.\n",
        "\n",
        "\n",
        "## Submitting Your Work\n",
        "\n",
        "In order to submit your work, you'll need to save this notebook file back to GitHub.  To do that in Google Colab:\n",
        "1. File -> Save a Copy in GitHub\n",
        "2. Make sure your HDS5210 repository is selected\n",
        "3. Make sure the file name includes the week number like this: `week03/week03_assignment_2.ipynb`\n",
        "4. Add a commit message that means something\n",
        "\n",
        "**Be sure week names are lowercase and use a two digit week number!!**\n",
        "\n",
        "**Be sure you use the same file name provided by the instructor!!**\n",
        "\n"
      ]
    },
    {
      "cell_type": "markdown",
      "metadata": {
        "id": "gogOKeL_CDHH"
      },
      "source": [
        "---"
      ]
    }
  ],
  "metadata": {
    "celltoolbar": "Create Assignment",
    "kernelspec": {
      "display_name": "Python 3",
      "language": "python",
      "name": "python3"
    },
    "language_info": {
      "codemirror_mode": {
        "name": "ipython",
        "version": 3
      },
      "file_extension": ".py",
      "mimetype": "text/x-python",
      "name": "python",
      "nbconvert_exporter": "python",
      "pygments_lexer": "ipython3",
      "version": "3.6.7"
    },
    "colab": {
      "provenance": [],
      "include_colab_link": true
    }
  },
  "nbformat": 4,
  "nbformat_minor": 0
}