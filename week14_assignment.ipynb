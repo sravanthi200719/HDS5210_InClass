{
  "cells": [
    {
      "cell_type": "markdown",
      "metadata": {
        "id": "view-in-github",
        "colab_type": "text"
      },
      "source": [
        "<a href=\"https://colab.research.google.com/github/sravanthi200719/HDS5210_InClass/blob/master/week14_assignment.ipynb\" target=\"_parent\"><img src=\"https://colab.research.google.com/assets/colab-badge.svg\" alt=\"Open In Colab\"/></a>"
      ]
    },
    {
      "cell_type": "markdown",
      "metadata": {
        "nbgrader": {
          "grade": false,
          "grade_id": "intro",
          "locked": true,
          "schema_version": 1,
          "solution": false
        },
        "id": "LLypXX66m0fR"
      },
      "source": [
        "# Working with multiple data sets\n",
        "\n",
        "There are two data files that we'll be working with for this week's assignment.  They are described below.  Load those data files in with Pandas and then work to answering each of the questions below.  All of these files are found in our usual s3 bucket: `https://hds5210-data.s3.amazonaws.com`\n",
        "\n",
        "## npidata.csv\n",
        "\n",
        "This file is basic information about every healthcare provider in the US.  It has one row for each NPI (National Provider Identifier).  It contains information such as the provider's name and address.\n",
        "\n",
        "* https://hds5210-data.s3.amazonaws.com/npidata.csv\n",
        "\n",
        "\n",
        "## cmsYYYY.csv\n",
        "\n",
        "These are files about what kinds of procedures and patients providers in the US are serving under CMS programs, Medicare and Medicaid.  Each contains various statistics about providers over the course of a year.  There are three of these, for the years 2014, 2015, and 2016.  These files, however, don't contain information about the provider such as where the provider is located.\n",
        "\n",
        "* https://hds5210-data.s3.amazonaws.com/cms2014.csv\n",
        "* https://hds5210-data.s3.amazonaws.com/cms2015.csv\n",
        "* https://hds5210-data.s3.amazonaws.com/cms2016.csv\n",
        "\n",
        "## Our Goals\n",
        "\n",
        "For this assignment, we're going to want to compute some statistics based on the data in the **cms** files, but aggregate that data based on information in the **npidata** file.  As in last week's assignment, you'll need to store your answers in a variable called `answer` at the end of each step."
      ]
    },
    {
      "cell_type": "code",
      "execution_count": 1,
      "metadata": {
        "nbgrader": {
          "grade": false,
          "grade_id": "import",
          "locked": true,
          "schema_version": 1,
          "solution": false
        },
        "id": "yFaVKK2-m0fS"
      },
      "outputs": [],
      "source": [
        "import pandas as pd"
      ]
    },
    {
      "cell_type": "markdown",
      "metadata": {
        "nbgrader": {
          "grade": false,
          "grade_id": "01-intro",
          "locked": true,
          "schema_version": 1,
          "solution": false
        },
        "id": "lzFJn7wmm0fT"
      },
      "source": [
        "## Part 1\n",
        "\n",
        "In this first step, we'll need to merge together all of the **cms** files into a single dataframe.  Be careful that these files might not be identical, so you'll have to look a little bit to figure out how to merge them.\n",
        "\n",
        "As you are merging them, make sure that you retain information about which file (i.e. which year) the data came from.  Call that new columns `year`.\n",
        "\n",
        "In your `answer` variable, provide a complete data frame that contains all of the rows and columns from the **cms** files, plus an additional column to store the year/file that particular row came from.\n",
        "\n",
        "The assertion tests will give you a good idea as to if you're merging the files correctly."
      ]
    },
    {
      "cell_type": "code",
      "execution_count": 2,
      "metadata": {
        "nbgrader": {
          "grade": false,
          "grade_id": "01-solution",
          "locked": false,
          "schema_version": 1,
          "solution": true
        },
        "id": "uy4qSsuVm0fT"
      },
      "outputs": [],
      "source": [
        "answer = None\n",
        "\n",
        "### SOLUTION\n",
        "\n"
      ]
    },
    {
      "cell_type": "code",
      "source": [
        "# Function to standardize column names\n",
        "def standardize_columns(df):\n",
        "    df.columns = df.columns.str.lower().str.strip()\n",
        "    return df\n",
        "\n",
        "# Load the three CMS files and add a 'year' column\n",
        "cms2014 = pd.read_csv(\"https://hds5210-data.s3.amazonaws.com/cms2014.csv\")\n",
        "cms2014['year'] = 2014\n",
        "cms2014 = standardize_columns(cms2014)\n",
        "cms2015 = pd.read_csv(\"https://hds5210-data.s3.amazonaws.com/cms2015.csv\")\n",
        "cms2015['year'] = 2015\n",
        "cms2015 = standardize_columns(cms2015)\n",
        "cms2016 = pd.read_csv(\"https://hds5210-data.s3.amazonaws.com/cms2016.csv\")\n",
        "cms2016['year'] = 2016\n",
        "cms2016 = standardize_columns(cms2016)\n",
        "\n",
        "#adding year column to each datasets\n",
        "cms2014['year'] = 2014\n",
        "cms2014.columns = cms2014.columns.str.lower()\n",
        "cms2015['year'] = 2015\n",
        "cms2015.columns = cms2015.columns.str.lower()\n",
        "cms2016['year'] = 2016\n",
        "cms2016.columns = cms2016.columns.str.lower()\n",
        "\n",
        "#merging all the three datasets together into merged_cms dataframe\n",
        "merged_cms = pd.concat([cms2014, cms2015, cms2016], keys=['2014', '2015', '2016'])\n",
        "\n",
        "#assigning the merged dataset to answer\n",
        "answer = merged_cms.copy()"
      ],
      "metadata": {
        "id": "OwMu-1zjm_bi"
      },
      "execution_count": 3,
      "outputs": []
    },
    {
      "cell_type": "code",
      "execution_count": 4,
      "metadata": {
        "nbgrader": {
          "grade": true,
          "grade_id": "01-tests",
          "locked": true,
          "points": 5,
          "schema_version": 1,
          "solution": false
        },
        "id": "xBDtY0XMm0fU"
      },
      "outputs": [],
      "source": [
        "assert(answer.shape == (193862, 60))\n",
        "assert(list(answer['year'].unique()) == [2014,2015,2016])\n",
        "assert(set(answer.columns.str.lower()) == set(['year', 'nbr', 'npi', 'provider_type',\n",
        "       'medicare_participation_indicator', 'number_of_hcpcs', 'total_services',\n",
        "       'total_unique_benes', 'total_submitted_chrg_amt',\n",
        "       'total_medicare_allowed_amt', 'total_medicare_payment_amt',\n",
        "       'total_medicare_stnd_amt', 'drug_suppress_indicator',\n",
        "       'number_of_drug_hcpcs', 'total_drug_services',\n",
        "       'total_drug_unique_benes', 'total_drug_submitted_chrg_amt',\n",
        "       'total_drug_medicare_allowed_amt', 'total_drug_medicare_payment_amt',\n",
        "       'total_drug_medicare_stnd_amt', 'med_suppress_indicator',\n",
        "       'number_of_med_hcpcs', 'total_med_services', 'total_med_unique_benes',\n",
        "       'total_med_submitted_chrg_amt', 'total_med_medicare_allowed_amt',\n",
        "       'total_med_medicare_payment_amt', 'total_med_medicare_stnd_amt',\n",
        "       'beneficiary_average_age', 'beneficiary_age_less_65_count',\n",
        "       'beneficiary_age_65_74_count', 'beneficiary_age_75_84_count',\n",
        "       'beneficiary_age_greater_84_count', 'beneficiary_female_count',\n",
        "       'beneficiary_male_count', 'beneficiary_race_white_count',\n",
        "       'beneficiary_race_black_count', 'beneficiary_race_api_count',\n",
        "       'beneficiary_race_hispanic_count', 'beneficiary_race_natind_count',\n",
        "       'beneficiary_race_other_count', 'beneficiary_nondual_count',\n",
        "       'beneficiary_dual_count', 'beneficiary_cc_afib_percent',\n",
        "       'beneficiary_cc_alzrdsd_percent', 'beneficiary_cc_asthma_percent',\n",
        "       'beneficiary_cc_cancer_percent', 'beneficiary_cc_chf_percent',\n",
        "       'beneficiary_cc_ckd_percent', 'beneficiary_cc_copd_percent',\n",
        "       'beneficiary_cc_depr_percent', 'beneficiary_cc_diab_percent',\n",
        "       'beneficiary_cc_hyperl_percent', 'beneficiary_cc_hypert_percent',\n",
        "       'beneficiary_cc_ihd_percent', 'beneficiary_cc_ost_percent',\n",
        "       'beneficiary_cc_raoa_percent', 'beneficiary_cc_schiot_percent',\n",
        "       'beneficiary_cc_strk_percent', 'beneficiary_average_risk_score']))"
      ]
    },
    {
      "cell_type": "markdown",
      "metadata": {
        "nbgrader": {
          "grade": false,
          "grade_id": "02-intro",
          "locked": true,
          "schema_version": 1,
          "solution": false
        },
        "id": "qZPwn7qkm0fU"
      },
      "source": [
        "## Part 2\n",
        "\n",
        "In this next part, we're going to join the **cms** data with the provider information in the **/data/npidata.csv** file.  In this join, we don't want to lose any records from the **cms** files, even if no matching provider exists in the **npidata** file.  However, we don't care about any providers from the **npidata** file that don't have records in the **cms** files.  Those providers can be ignored.\n",
        "\n",
        "Join the data files together to create one unified data frame called `answer`.  This dataframe should have all the columns from both **cms** and **npidata** files, joined together using the `npi` column.  \n",
        "\n",
        "Note that `npi` is unique in the **npidata** file."
      ]
    },
    {
      "cell_type": "code",
      "execution_count": 5,
      "metadata": {
        "nbgrader": {
          "grade": false,
          "grade_id": "02-solution",
          "locked": false,
          "schema_version": 1,
          "solution": true
        },
        "id": "45WoJIfKm0fU"
      },
      "outputs": [],
      "source": [
        "answer = None\n",
        "\n",
        "### SOLUTION\n",
        "\n"
      ]
    },
    {
      "cell_type": "code",
      "source": [
        "#loading pandas and assigning cms_data to answer\n",
        "import pandas as pd\n",
        "# cms_data should be assigned to the result from the previous section\n",
        "cms_data = merged_cms  # Assuming 'merged_cms' holds the DataFrame from Part 1\n",
        "\n",
        "#reading NPI data from aws\n",
        "npidata = pd.read_csv('https://hds5210-data.s3.amazonaws.com/npidata.csv')\n",
        "\n",
        "#merging the data using left joint\n",
        "answer = pd.merge(cms_data, npidata, how='left', left_on='npi', right_on='NPI')\n",
        "\n",
        "#checking the answer\n",
        "print(answer.head())"
      ],
      "metadata": {
        "colab": {
          "base_uri": "https://localhost:8080/"
        },
        "id": "w_AW5uZonmFR",
        "outputId": "b0fb9738-58ca-4cc2-d573-1636382f7dfd"
      },
      "execution_count": 6,
      "outputs": [
        {
          "output_type": "stream",
          "name": "stderr",
          "text": [
            "<ipython-input-6-36cd72e3f0d6>:7: DtypeWarning: Columns (18,33) have mixed types. Specify dtype option on import or set low_memory=False.\n",
            "  npidata = pd.read_csv('https://hds5210-data.s3.amazonaws.com/npidata.csv')\n"
          ]
        },
        {
          "output_type": "stream",
          "name": "stdout",
          "text": [
            "   nbr         npi                    provider_type  \\\n",
            "0    1  1003000134                        Pathology   \n",
            "1   19  1003001249               Physical Therapist   \n",
            "2   21  1003001322  Mass Immunization Roster Biller   \n",
            "3   37  1003002486                     Chiropractic   \n",
            "4   73  1003005430            Clinical Psychologist   \n",
            "\n",
            "  medicare_participation_indicator  number_of_hcpcs  total_services  \\\n",
            "0                                Y               13          8643.0   \n",
            "1                                Y                4          1221.0   \n",
            "2                                Y                7           788.0   \n",
            "3                                Y                2           142.0   \n",
            "4                                Y                3           130.0   \n",
            "\n",
            "   total_unique_benes  total_submitted_chrg_amt  total_medicare_allowed_amt  \\\n",
            "0                4276                1357139.00                   321641.88   \n",
            "1                  69                  88686.28                    34060.09   \n",
            "2                 370                  21640.24                    21634.91   \n",
            "3                  22                   7458.44                     5037.51   \n",
            "4                  11                  20640.00                    14968.22   \n",
            "\n",
            "   total_medicare_payment_amt  ...  \\\n",
            "0                   245364.34  ...   \n",
            "1                    26055.17  ...   \n",
            "2                    21199.22  ...   \n",
            "3                     3727.01  ...   \n",
            "4                    11334.69  ...   \n",
            "\n",
            "   Provider Business Practice Location Address Postal Code  \\\n",
            "0                                          602011718         \n",
            "1                                          618321159         \n",
            "2                                          644681610         \n",
            "3                                          630903303         \n",
            "4                                              60463         \n",
            "\n",
            "  Provider Business Practice Location Address Country Code (If outside U.S.)  \\\n",
            "0                                                 US                           \n",
            "1                                                 US                           \n",
            "2                                                 US                           \n",
            "3                                                 US                           \n",
            "4                                                 US                           \n",
            "\n",
            "   Provider Business Practice Location Address Telephone Number  \\\n",
            "0                                         8475702040              \n",
            "1                                         2174467878              \n",
            "2                                         6605622755              \n",
            "3                                         6362399997              \n",
            "4                                         7089237400              \n",
            "\n",
            "   Provider Business Practice Location Address Fax Number  \\\n",
            "0                                       8.477335e+09        \n",
            "1                                       2.174468e+09        \n",
            "2                                       6.605625e+09        \n",
            "3                                       6.362400e+09        \n",
            "4                                       7.089237e+09        \n",
            "\n",
            "   Provider Enumeration Date  Last Update Date  NPI Deactivation Reason Code  \\\n",
            "0                 08/31/2007        08/06/2008                           NaN   \n",
            "1                 09/11/2007        07/13/2010                           NaN   \n",
            "2                 09/10/2007        09/10/2007                           NaN   \n",
            "3                 09/19/2007        02/19/2019                           NaN   \n",
            "4                 10/22/2007        10/22/2007                           NaN   \n",
            "\n",
            "   NPI Deactivation Date  NPI Reactivation Date Provider Gender Code  \n",
            "0                    NaN                    NaN                    M  \n",
            "1                    NaN                    NaN                    M  \n",
            "2                    NaN                    NaN                  NaN  \n",
            "3                    NaN                    NaN                    F  \n",
            "4                    NaN                    NaN                    F  \n",
            "\n",
            "[5 rows x 103 columns]\n"
          ]
        }
      ]
    },
    {
      "cell_type": "code",
      "execution_count": 7,
      "metadata": {
        "nbgrader": {
          "grade": true,
          "grade_id": "02-tests",
          "locked": true,
          "points": 5,
          "schema_version": 1,
          "solution": false
        },
        "id": "6PdW7LbHm0fU"
      },
      "outputs": [],
      "source": [
        "import numpy\n",
        "assert(answer.shape == (193862, 103))\n",
        "assert(list(answer['Provider Business Mailing Address State Name'].unique()) == ['IL','MO',numpy.nan,'WY'])\n",
        "assert(list(answer.groupby('Provider Business Mailing Address State Name').NPI.count()) == [111520, 53366, 4805])"
      ]
    },
    {
      "cell_type": "markdown",
      "metadata": {
        "nbgrader": {
          "grade": false,
          "grade_id": "03-intro",
          "locked": true,
          "schema_version": 1,
          "solution": false
        },
        "id": "0Ydt9YGsm0fV"
      },
      "source": [
        "## Part 3\n",
        "\n",
        "If you did everything right above, you'll notice that grouping by a column with NaN in it will cause some rows to disappear from the aggregation test.  So, let's create a new column called `'State'` that has the same value as whatever is in the `'Provider Business Mailing Address State Name'` column or a value of `'XX'` if there is no state information.\n",
        "\n",
        "Set `answer` to be your final data frame with the new `'State'` column added."
      ]
    },
    {
      "cell_type": "code",
      "execution_count": 8,
      "metadata": {
        "nbgrader": {
          "grade": false,
          "grade_id": "03-solution",
          "locked": false,
          "schema_version": 1,
          "solution": true
        },
        "id": "VXG_khPEm0fV"
      },
      "outputs": [],
      "source": [
        "answer = None\n",
        "\n",
        "### SOLUTION\n"
      ]
    },
    {
      "cell_type": "code",
      "source": [
        "# Create a new column 'State' that takes the value from 'Provider Business Mailing Address State Name'\n",
        "# or assigns 'XX' if the value is NaN.\n",
        "#---\n",
        "\n",
        "answer = pd.merge(cms_data, npidata, how='left', left_on='npi', right_on='NPI')\n",
        "#---\n",
        "answer['State'] = answer['Provider Business Mailing Address State Name'].fillna('XX')\n",
        "\n",
        "# Check the shape and updated group counts to verify\n",
        "assert(list(answer.groupby('State').npi.count()) == [111520, 53366, 4805, 24171])\n",
        "assert(answer.shape == (193862, 104))\n",
        "\n",
        "# Final answer DataFrame\n",
        "print(answer.head())"
      ],
      "metadata": {
        "colab": {
          "base_uri": "https://localhost:8080/"
        },
        "id": "3IT81D-UwXpD",
        "outputId": "57717780-68e0-472c-f273-f37616457e34"
      },
      "execution_count": 9,
      "outputs": [
        {
          "output_type": "stream",
          "name": "stdout",
          "text": [
            "   nbr         npi                    provider_type  \\\n",
            "0    1  1003000134                        Pathology   \n",
            "1   19  1003001249               Physical Therapist   \n",
            "2   21  1003001322  Mass Immunization Roster Biller   \n",
            "3   37  1003002486                     Chiropractic   \n",
            "4   73  1003005430            Clinical Psychologist   \n",
            "\n",
            "  medicare_participation_indicator  number_of_hcpcs  total_services  \\\n",
            "0                                Y               13          8643.0   \n",
            "1                                Y                4          1221.0   \n",
            "2                                Y                7           788.0   \n",
            "3                                Y                2           142.0   \n",
            "4                                Y                3           130.0   \n",
            "\n",
            "   total_unique_benes  total_submitted_chrg_amt  total_medicare_allowed_amt  \\\n",
            "0                4276                1357139.00                   321641.88   \n",
            "1                  69                  88686.28                    34060.09   \n",
            "2                 370                  21640.24                    21634.91   \n",
            "3                  22                   7458.44                     5037.51   \n",
            "4                  11                  20640.00                    14968.22   \n",
            "\n",
            "   total_medicare_payment_amt  ...  \\\n",
            "0                   245364.34  ...   \n",
            "1                    26055.17  ...   \n",
            "2                    21199.22  ...   \n",
            "3                     3727.01  ...   \n",
            "4                    11334.69  ...   \n",
            "\n",
            "   Provider Business Practice Location Address Country Code (If outside U.S.)  \\\n",
            "0                                                 US                            \n",
            "1                                                 US                            \n",
            "2                                                 US                            \n",
            "3                                                 US                            \n",
            "4                                                 US                            \n",
            "\n",
            "  Provider Business Practice Location Address Telephone Number  \\\n",
            "0                                         8475702040             \n",
            "1                                         2174467878             \n",
            "2                                         6605622755             \n",
            "3                                         6362399997             \n",
            "4                                         7089237400             \n",
            "\n",
            "   Provider Business Practice Location Address Fax Number  \\\n",
            "0                                       8.477335e+09        \n",
            "1                                       2.174468e+09        \n",
            "2                                       6.605625e+09        \n",
            "3                                       6.362400e+09        \n",
            "4                                       7.089237e+09        \n",
            "\n",
            "   Provider Enumeration Date  Last Update Date  NPI Deactivation Reason Code  \\\n",
            "0                 08/31/2007        08/06/2008                           NaN   \n",
            "1                 09/11/2007        07/13/2010                           NaN   \n",
            "2                 09/10/2007        09/10/2007                           NaN   \n",
            "3                 09/19/2007        02/19/2019                           NaN   \n",
            "4                 10/22/2007        10/22/2007                           NaN   \n",
            "\n",
            "   NPI Deactivation Date  NPI Reactivation Date  Provider Gender Code State  \n",
            "0                    NaN                    NaN                     M    IL  \n",
            "1                    NaN                    NaN                     M    IL  \n",
            "2                    NaN                    NaN                   NaN    MO  \n",
            "3                    NaN                    NaN                     F    MO  \n",
            "4                    NaN                    NaN                     F    IL  \n",
            "\n",
            "[5 rows x 104 columns]\n"
          ]
        }
      ]
    },
    {
      "cell_type": "code",
      "execution_count": 10,
      "metadata": {
        "nbgrader": {
          "grade": true,
          "grade_id": "03-tests",
          "locked": true,
          "points": 5,
          "schema_version": 1,
          "solution": false
        },
        "id": "jypUXL9bm0fV"
      },
      "outputs": [],
      "source": [
        "assert(list(answer.groupby('State').npi.count()) == [111520, 53366, 4805, 24171])\n",
        "assert(answer.shape == (193862, 104))"
      ]
    },
    {
      "cell_type": "markdown",
      "metadata": {
        "nbgrader": {
          "grade": false,
          "grade_id": "04-intro",
          "locked": true,
          "schema_version": 1,
          "solution": false
        },
        "id": "YaI_81ojm0fV"
      },
      "source": [
        "## Part 4\n",
        "\n",
        "Next, let's summarize the data by year and by State.  Create a pivot table that contains one row for each state and one column for each year.  Within the pivot table, put a sum of total services as the values.\n",
        "\n",
        "Assign `answer` to be that resulting pivot table.  In the tests, I'm going to plot a bar chart of your pivot table."
      ]
    },
    {
      "cell_type": "code",
      "execution_count": 11,
      "metadata": {
        "nbgrader": {
          "grade": false,
          "grade_id": "04-solution",
          "locked": false,
          "schema_version": 1,
          "solution": true
        },
        "id": "MGxfOFVum0fV"
      },
      "outputs": [],
      "source": [
        "%matplotlib inline\n",
        "answer = None\n",
        "\n",
        "### SOLUTION\n"
      ]
    },
    {
      "cell_type": "code",
      "source": [
        "\n",
        "answer = pd.merge(cms_data, npidata, how='left', left_on='npi', right_on='NPI')\n",
        "answer['State'] = answer['Provider Business Mailing Address State Name'].fillna('XX')\n",
        "\n",
        "# Now proceed to create the pivot table\n",
        "pivot_table = answer.pivot_table(values='total_services',\n",
        "                                 index='State',\n",
        "                                 columns='year',\n",
        "                                 aggfunc='sum',\n",
        "                                 fill_value=0)\n",
        "\n",
        "# Assigning the resulting pivot table to answer\n",
        "answer = pivot_table\n",
        "\n",
        "# Check the shape and the sums\n",
        "assert(answer.shape == (4, 3))\n",
        "assert(answer.sum().sum() == 519185664.7)\n",
        "assert(answer[2016].sum() == 176596933.8)\n",
        "assert(answer.loc['WY'].sum() == 10892707.4)\n",
        "\n",
        "# Plotting the bar chart of the pivot table\n",
        "import matplotlib.pyplot as plt\n",
        "%matplotlib inline\n",
        "answer.plot.bar()\n",
        "plt.title('Total Services by State and Year')\n",
        "plt.xlabel('State')\n",
        "plt.ylabel('Total Services')\n",
        "plt.show()\n"
      ],
      "metadata": {
        "colab": {
          "base_uri": "https://localhost:8080/",
          "height": 481
        },
        "id": "deOWnYZc1VDR",
        "outputId": "e6ad35c7-2639-4320-eb28-d2369dbcb3a7"
      },
      "execution_count": 12,
      "outputs": [
        {
          "output_type": "display_data",
          "data": {
            "text/plain": [
              "<Figure size 640x480 with 1 Axes>"
            ],
            "image/png": "[encoded data removed]"
          },
          "metadata": {}
        }
      ]
    },
    {
      "cell_type": "code",
      "execution_count": 13,
      "metadata": {
        "id": "Zei99AZmm0fW"
      },
      "outputs": [],
      "source": [
        "assert(answer.shape == (4,3))\n",
        "assert(answer.sum().sum() == 519185664.7)\n",
        "assert(answer[2016].sum() == 176596933.8)\n",
        "assert(answer.loc['WY'].sum() == 10892707.4)"
      ]
    },
    {
      "cell_type": "code",
      "execution_count": 14,
      "metadata": {
        "colab": {
          "base_uri": "https://localhost:8080/",
          "height": 490
        },
        "id": "EymNXIWBm0fW",
        "outputId": "a4fb6727-32c7-4c03-a26c-df7c502e30b9"
      },
      "outputs": [
        {
          "output_type": "execute_result",
          "data": {
            "text/plain": [
              "<Axes: xlabel='State'>"
            ]
          },
          "metadata": {},
          "execution_count": 14
        },
        {
          "output_type": "display_data",
          "data": {
            "text/plain": [
              "<Figure size 640x480 with 1 Axes>"
            ],
            "image/png": "[encoded data removed]"
          },
          "metadata": {}
        }
      ],
      "source": [
        "%matplotlib inline\n",
        "answer.plot.bar()"
      ]
    }
  ],
  "metadata": {
    "celltoolbar": "Create Assignment",
    "kernelspec": {
      "display_name": "Python 3",
      "language": "python",
      "name": "python3"
    },
    "language_info": {
      "codemirror_mode": {
        "name": "ipython",
        "version": 3
      },
      "file_extension": ".py",
      "mimetype": "text/x-python",
      "name": "python",
      "nbconvert_exporter": "python",
      "pygments_lexer": "ipython3",
      "version": "3.6.7"
    },
    "colab": {
      "provenance": [],
      "include_colab_link": true
    }
  },
  "nbformat": 4,
  "nbformat_minor": 0
}