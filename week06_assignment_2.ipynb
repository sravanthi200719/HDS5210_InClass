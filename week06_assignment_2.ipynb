{
  "cells": [
    {
      "cell_type": "markdown",
      "metadata": {
        "id": "view-in-github",
        "colab_type": "text"
      },
      "source": [
        "<a href=\"https://colab.research.google.com/github/sravanthi200719/HDS5210_InClass/blob/master/week06_assignment_2.ipynb\" target=\"_parent\"><img src=\"https://colab.research.google.com/assets/colab-badge.svg\" alt=\"Open In Colab\"/></a>"
      ]
    },
    {
      "cell_type": "markdown",
      "metadata": {
        "nbgrader": {
          "grade": false,
          "grade_id": "intro",
          "locked": true,
          "schema_version": 1,
          "solution": false
        },
        "id": "fju2BCuFwZQk"
      },
      "source": [
        "# Week 6 Exercises\n",
        "\n",
        "_McKinney 6.1_\n",
        "\n",
        "There are multiple ways to solve the problems below.  You can use any one of several approaches.  For example, you can read CSV files using Pandas or the csv module.  Your score won't depend on which modules you choose to use unless explicitly noted below, but your programming style will still matter."
      ]
    },
    {
      "cell_type": "markdown",
      "metadata": {
        "nbgrader": {
          "grade": false,
          "grade_id": "q1-description",
          "locked": true,
          "schema_version": 1,
          "solution": false
        },
        "id": "1D0fVXp9wZQn"
      },
      "source": [
        "### 30.1 List of Allergies\n",
        "\n",
        "In the /data directory on the Jupyter server, there is a file called `allergies.json` that contains a list of patient allergies.  It is taken from sample data provided by the EHR vendor, Epic, here: https://open.epic.com/Clinical/Allergy\n",
        "\n",
        "Take some time to look at the structure of the file.  You can open it directly in Jupyter by clicking the _Home_ icon, then the _from_instructor_ folder, and then the _data_ folder.\n",
        "\n",
        "Within the file, you'll see that it is a dictionary with many items in it.  One of those items is called `entry` and that item is a list of things.  You can tell that because the item name is immediately followed by an opening square bracket, signifying the start of a list.  It's line 11 of the file: `  \"entry\": [`\n",
        "\n",
        "Write a function named `allergy_count(json_file)` that takes as one parameter the name of the JSON file and returns an integer number of entries in that file.  Your function should open the file, read the json into a Python object, and return how many items there are in the list of `entry`s."
      ]
    },
    {
      "cell_type": "code",
      "execution_count": 1,
      "metadata": {
        "id": "DMpsc_7vwZQn"
      },
      "outputs": [],
      "source": [
        "import json\n",
        "ALLERGIES_FILE=\"allergies.json\""
      ]
    },
    {
      "cell_type": "code",
      "execution_count": 2,
      "metadata": {
        "nbgrader": {
          "grade": false,
          "grade_id": "q1-answer",
          "locked": false,
          "schema_version": 1,
          "solution": true
        },
        "id": "R-EbBYorwZQp",
        "outputId": "b18cad29-b067-4247-dda3-dbdf6d161a20",
        "colab": {
          "base_uri": "https://localhost:8080/"
        }
      },
      "outputs": [
        {
          "output_type": "stream",
          "name": "stdout",
          "text": [
            "Number of entries: 4\n"
          ]
        }
      ],
      "source": [
        "# Put your solutioimport json\n",
        "\n",
        "ALLERGIES_FILE = \"allergies.json\"\n",
        "\n",
        "def allergy_count(json_file):\n",
        "    with open(json_file, 'r') as file:\n",
        "        data = json.load(file)\n",
        "    return len(data['entry'])\n",
        "\n",
        "# Call the function and print the result\n",
        "result = allergy_count(ALLERGIES_FILE)\n",
        "print(f\"Number of entries: {result}\")\n",
        "\n"
      ]
    },
    {
      "cell_type": "code",
      "execution_count": 3,
      "metadata": {
        "id": "7GbSPZ81wZQp",
        "outputId": "d1d6d58e-1fb8-4701-a2f6-d8875c23567d",
        "colab": {
          "base_uri": "https://localhost:8080/"
        }
      },
      "outputs": [
        {
          "output_type": "execute_result",
          "data": {
            "text/plain": [
              "4"
            ]
          },
          "metadata": {},
          "execution_count": 3
        }
      ],
      "source": [
        "allergy_count(ALLERGIES_FILE)"
      ]
    },
    {
      "cell_type": "code",
      "execution_count": 4,
      "metadata": {
        "nbgrader": {
          "grade": true,
          "grade_id": "q1-tests",
          "locked": true,
          "points": 5,
          "schema_version": 1,
          "solution": false
        },
        "id": "17pAJQ0uwZQp"
      },
      "outputs": [],
      "source": [
        "assert type(allergy_count(ALLERGIES_FILE)) == int\n",
        "assert allergy_count(ALLERGIES_FILE) == 4"
      ]
    },
    {
      "cell_type": "code",
      "source": [
        "# Assertions to verify the result\n",
        "assert type(result) == int, \"The result should be an integer\"\n",
        "assert result == 4, \"The number of entries should be 4\""
      ],
      "metadata": {
        "id": "mzfTnrvkxFaU"
      },
      "execution_count": 5,
      "outputs": []
    },
    {
      "cell_type": "markdown",
      "source": [
        "my own test case for this with my file ."
      ],
      "metadata": {
        "id": "PaTgvx2uyHsy"
      }
    },
    {
      "cell_type": "code",
      "source": [
        "import csv\n",
        "\n",
        "CSV_FILE = \"est2018-pop-res.csv\"\n",
        "\n",
        "def state_count(csv_file):\n",
        "    with open(csv_file, 'r') as file:\n",
        "        csv_reader = csv.DictReader(file)\n",
        "        return sum(1 for row in csv_reader if row['SUMLEV'] == '040')\n",
        "\n",
        "# Call the function and print the result\n",
        "result = state_count(CSV_FILE)\n",
        "print(f\"Number of states (including DC and Puerto Rico): {result}\")\n"
      ],
      "metadata": {
        "id": "C_oKZltZx9fO",
        "outputId": "cea26d78-4fb9-4eb9-b4a8-5c757098c36e",
        "colab": {
          "base_uri": "https://localhost:8080/"
        }
      },
      "execution_count": 6,
      "outputs": [
        {
          "output_type": "stream",
          "name": "stdout",
          "text": [
            "Number of states (including DC and Puerto Rico): 52\n"
          ]
        }
      ]
    },
    {
      "cell_type": "code",
      "source": [
        "# Assertions to verify the result\n",
        "assert type(result) == int, \"The result should be an integer\"\n",
        "assert result == 52, \"The number of states (including DC and Puerto Rico) should be 52\""
      ],
      "metadata": {
        "id": "J8uup5EyydeV"
      },
      "execution_count": 7,
      "outputs": []
    },
    {
      "cell_type": "markdown",
      "metadata": {
        "id": "DQlO1FNGwZQq"
      },
      "source": [
        "### 30.2 Number of Patients\n",
        "\n",
        "If you dig a little bit deaper into this list of allergies, you'll see that each result has a patient associated with it.  Create a funcation called `patient_count(json_file)` that will count how many unique patients we have in this JSON structure.  "
      ]
    },
    {
      "cell_type": "code",
      "execution_count": 8,
      "metadata": {
        "id": "25i1KaxdwZQq",
        "outputId": "31d1e29f-4648-4c4e-d5a5-e7710f70b521",
        "colab": {
          "base_uri": "https://localhost:8080/"
        }
      },
      "outputs": [
        {
          "output_type": "stream",
          "name": "stdout",
          "text": [
            "Number of unique patients: 2\n"
          ]
        }
      ],
      "source": [
        "# Put yimport json\n",
        "\n",
        "ALLERGIES_FILE = \"allergies.json\"\n",
        "\n",
        "def patient_count(json_file):\n",
        "    with open(json_file, 'r') as file:\n",
        "        data = json.load(file)\n",
        "\n",
        "    patients = set()\n",
        "    for entry in data['entry']:\n",
        "        patient_reference = entry['resource']['patient']['reference']\n",
        "        patients.add(patient_reference)\n",
        "\n",
        "    return len(patients)\n",
        "\n",
        "# Call the function and print the result\n",
        "result = patient_count(ALLERGIES_FILE)\n",
        "print(f\"Number of unique patients: {result}\")\n"
      ]
    },
    {
      "cell_type": "code",
      "execution_count": 9,
      "metadata": {
        "id": "1Br1ehLowZQr",
        "outputId": "d3a69136-0afd-40d8-d48f-7227c7f130bb",
        "colab": {
          "base_uri": "https://localhost:8080/"
        }
      },
      "outputs": [
        {
          "output_type": "execute_result",
          "data": {
            "text/plain": [
              "2"
            ]
          },
          "metadata": {},
          "execution_count": 9
        }
      ],
      "source": [
        "patient_count(ALLERGIES_FILE)"
      ]
    },
    {
      "cell_type": "code",
      "execution_count": 10,
      "metadata": {
        "id": "oGkiKtARwZQr"
      },
      "outputs": [],
      "source": [
        "assert type(patient_count(ALLERGIES_FILE)) == int\n",
        "assert patient_count(ALLERGIES_FILE) == 2"
      ]
    },
    {
      "cell_type": "markdown",
      "source": [
        "### my own test case for above file ."
      ],
      "metadata": {
        "id": "SSVi-hwH6F30"
      }
    },
    {
      "cell_type": "code",
      "source": [
        "import csv\n",
        "\n",
        "CSV_FILE = \"est2018-pop-res.csv\"\n",
        "\n",
        "def unique_region_count(csv_file):\n",
        "    with open(csv_file, 'r') as file:\n",
        "        csv_reader = csv.DictReader(file)\n",
        "        regions = set()\n",
        "        for row in csv_reader:\n",
        "            if row['SUMLEV'] == '040':  # Only count state-level entries\n",
        "                regions.add(row['REGION'])\n",
        "    return len(regions)\n",
        "\n",
        "# Call the function and print the result\n",
        "result = unique_region_count(CSV_FILE)\n",
        "print(f\"Number of unique regions: {result}\")\n"
      ],
      "metadata": {
        "id": "2Z6tYKyr6FQL",
        "outputId": "bac45a27-2016-4392-c992-e93ca59e9345",
        "colab": {
          "base_uri": "https://localhost:8080/"
        }
      },
      "execution_count": 11,
      "outputs": [
        {
          "output_type": "stream",
          "name": "stdout",
          "text": [
            "Number of unique regions: 5\n"
          ]
        }
      ]
    },
    {
      "cell_type": "code",
      "source": [
        "# Assertions to verify the result\n",
        "assert type(result) == int, \"The result should be an integer\"\n",
        "assert result == 5, \"The number of unique regions should be 4\"\n",
        "\n",
        "print(\"All assertions passed!\")"
      ],
      "metadata": {
        "id": "JmaMOLlA6PQF",
        "outputId": "61fd2f56-2938-4f62-aa37-d7ecf3a10ed9",
        "colab": {
          "base_uri": "https://localhost:8080/"
        }
      },
      "execution_count": 12,
      "outputs": [
        {
          "output_type": "stream",
          "name": "stdout",
          "text": [
            "All assertions passed!\n"
          ]
        }
      ]
    },
    {
      "cell_type": "markdown",
      "metadata": {
        "id": "73dttcTNwZQr"
      },
      "source": [
        "### 30.3 How Many Allergies per Patient\n",
        "\n",
        "Although each entry is a separate allergy, several of them are for the same patient.  Write a function called `allergy_per_patient(json_file)` that counts up how many allergies each patient has.\n"
      ]
    },
    {
      "cell_type": "code",
      "execution_count": 13,
      "metadata": {
        "id": "I3G1hYCrwZQr",
        "outputId": "d163c075-e5e4-4c6f-a69e-eb44c90d552b",
        "colab": {
          "base_uri": "https://localhost:8080/"
        }
      },
      "outputs": [
        {
          "output_type": "stream",
          "name": "stdout",
          "text": [
            "Allergies per patient:\n",
            "Jason Argonaut: 3\n",
            "Paul Boal: 1\n"
          ]
        }
      ],
      "source": [
        "# Put your solution hereimport json\n",
        "\n",
        "ALLERGIES_FILE = \"test_allergies.json\"\n",
        "\n",
        "import json\n",
        "\n",
        "ALLERGIES_FILE = \"allergies.json\"\n",
        "\n",
        "def allergy_per_patient(json_file):\n",
        "    with open(json_file, 'r') as file:\n",
        "        data = json.load(file)\n",
        "\n",
        "    allergies = {}\n",
        "    for entry in data['entry']:\n",
        "        patient_name = entry['resource']['patient']['display']\n",
        "        allergies[patient_name] = allergies.get(patient_name, 0) + 1\n",
        "\n",
        "    return allergies\n",
        "\n",
        "# Call the function and print the result\n",
        "result = allergy_per_patient(ALLERGIES_FILE)\n",
        "print(\"Allergies per patient:\")\n",
        "for patient, count in result.items():\n",
        "    print(f\"{patient}: {count}\")\n",
        "\n"
      ]
    },
    {
      "cell_type": "code",
      "source": [
        "# Assertions to verify the result\n",
        "assert type(result) == dict, \"The result should be a dictionary\"\n",
        "assert result == {'Paul Boal': 1, 'Jason Argonaut': 3}, \"The allergy counts are incorrect\"\n",
        "\n",
        "print(\"All assertions passed!\")"
      ],
      "metadata": {
        "id": "BUG7Y4yi0-aa",
        "outputId": "11850782-2ce2-4528-b747-67943b30c217",
        "colab": {
          "base_uri": "https://localhost:8080/"
        }
      },
      "execution_count": 14,
      "outputs": [
        {
          "output_type": "stream",
          "name": "stdout",
          "text": [
            "All assertions passed!\n"
          ]
        }
      ]
    },
    {
      "cell_type": "code",
      "execution_count": 15,
      "metadata": {
        "id": "Po378xOjwZQs",
        "outputId": "c53b2b81-c084-4e31-a0e9-f1aa605f5d04",
        "colab": {
          "base_uri": "https://localhost:8080/"
        }
      },
      "outputs": [
        {
          "output_type": "execute_result",
          "data": {
            "text/plain": [
              "{'Jason Argonaut': 3, 'Paul Boal': 1}"
            ]
          },
          "metadata": {},
          "execution_count": 15
        }
      ],
      "source": [
        "allergy_per_patient(ALLERGIES_FILE)"
      ]
    },
    {
      "cell_type": "code",
      "execution_count": 16,
      "metadata": {
        "id": "z77qY2wUwZQs"
      },
      "outputs": [],
      "source": [
        "assert type(allergy_per_patient(ALLERGIES_FILE)) == dict\n",
        "assert allergy_per_patient(ALLERGIES_FILE) == {'Paul Boal': 1, 'Jason Argonaut': 3}"
      ]
    },
    {
      "cell_type": "markdown",
      "source": [
        "### my own test case for my file ."
      ],
      "metadata": {
        "id": "wV0zygKA8lh1"
      }
    },
    {
      "cell_type": "code",
      "source": [
        "import csv\n",
        "\n",
        "CSV_FILE = \"est2018-pop-res.csv\"\n",
        "\n",
        "def states_per_region(csv_file):\n",
        "    with open(csv_file, 'r') as file:\n",
        "        csv_reader = csv.DictReader(file)\n",
        "        region_counts = {}\n",
        "        for row in csv_reader:\n",
        "            if row['SUMLEV'] == '040':  # Only count state-level entries\n",
        "                region = row['REGION']\n",
        "                region_counts[region] = region_counts.get(region, 0) + 1\n",
        "    return region_counts\n",
        "\n",
        "# Call the function and print the result\n",
        "result = states_per_region(CSV_FILE)\n",
        "print(\"States per region:\")\n",
        "for region, count in result.items():\n",
        "    print(f\"Region {region}: {count} states\")\n"
      ],
      "metadata": {
        "id": "pMuber-c8ri8",
        "outputId": "9e9df5b1-db9f-4c4d-d76d-e1f08b2163e6",
        "colab": {
          "base_uri": "https://localhost:8080/"
        }
      },
      "execution_count": 17,
      "outputs": [
        {
          "output_type": "stream",
          "name": "stdout",
          "text": [
            "States per region:\n",
            "Region 3: 17 states\n",
            "Region 4: 13 states\n",
            "Region 1: 9 states\n",
            "Region 2: 12 states\n",
            "Region X: 1 states\n"
          ]
        }
      ]
    },
    {
      "cell_type": "code",
      "source": [
        "# Assertions to verify the result\n",
        "assert type(result) == dict, \"The result should be a dictionary\"\n",
        "expected_result = {'3': 17, '4': 13, '1': 9, '2': 12, 'X':1}\n",
        "assert result == expected_result, f\"The state counts are incorrect. Expected {expected_result}, but got {result}\"\n",
        "\n",
        "print(\"All assertions passed!\")"
      ],
      "metadata": {
        "id": "NTFDkKU-81Gr",
        "outputId": "4af1a527-5f44-45f6-d93a-5b0689321dc4",
        "colab": {
          "base_uri": "https://localhost:8080/"
        }
      },
      "execution_count": 18,
      "outputs": [
        {
          "output_type": "stream",
          "name": "stdout",
          "text": [
            "All assertions passed!\n"
          ]
        }
      ]
    },
    {
      "cell_type": "markdown",
      "metadata": {
        "nbgrader": {
          "grade": false,
          "grade_id": "q2-question",
          "locked": true,
          "schema_version": 1,
          "solution": false
        },
        "id": "mT0wZEX-wZQs"
      },
      "source": [
        "### 30.4 Patient Allergies and Reaction\n",
        "\n",
        "You'll see in the file that each of the items in the `entry` list have several other attributes including a patient name, substance text representation, and a reaction manifestation.  Create a function named `allergy_list(json_file)` that will create an output list that has patient name, allergy, and reaction for each `entry`.  The actual result you should get will be:\n",
        "\n",
        "```python\n",
        "[['Jason Argonaut', 'PENICILLIN G', 'Hives'],\n",
        " ['Paul Boal', 'PENICILLIN G', 'Bruising'],\n",
        " ['Jason Argonaut', 'SHELLFISH-DERIVED PRODUCTS', 'Itching'],\n",
        " ['Jason Argonaut', 'STRAWBERRY', 'Anaphylaxis']]\n",
        "```\n",
        "\n",
        "You'll notice that the reaction and the manifestation of that action are lists.  You only need to capture the first reaction and the first manifestation of the action.  That is, if there is a list of things, just output the first one."
      ]
    },
    {
      "cell_type": "code",
      "execution_count": 19,
      "metadata": {
        "nbgrader": {
          "grade": false,
          "grade_id": "q2-answer",
          "locked": false,
          "schema_version": 1,
          "solution": true
        },
        "id": "2Iy1FFcQwZQs",
        "outputId": "252d5f8d-c83b-472a-c343-4437a8122796",
        "colab": {
          "base_uri": "https://localhost:8080/"
        }
      },
      "outputs": [
        {
          "output_type": "stream",
          "name": "stdout",
          "text": [
            "Allergy list:\n",
            "Jason Argonaut: PENICILLIN G - Hives\n",
            "Jason Argonaut: SHELLFISH-DERIVED PRODUCTS - Itching\n",
            "Jason Argonaut: STRAWBERRY - Anaphylaxis\n",
            "Paul Boal: PENICILLIN G - Bruising\n"
          ]
        }
      ],
      "source": [
        "# Put your solution here\n",
        "import json\n",
        "\n",
        "ALLERGIES_FILE = \"allergies.json\"\n",
        "\n",
        "def allergy_list(json_file):\n",
        "    with open(json_file, 'r') as file:\n",
        "        data = json.load(file)\n",
        "\n",
        "    result = []\n",
        "    for entry in data['entry']:\n",
        "        patient_name = entry['resource']['patient']['display']\n",
        "        substance = entry['resource']['substance']['text']\n",
        "        reaction = entry['resource']['reaction'][0]['manifestation'][0]['text']\n",
        "        result.append([patient_name, substance, reaction])\n",
        "\n",
        "    return sorted(result)\n",
        "\n",
        "# Call the function and print the result\n",
        "result = allergy_list(ALLERGIES_FILE)\n",
        "print(\"Allergy list:\")\n",
        "for item in result:\n",
        "    print(f\"{item[0]}: {item[1]} - {item[2]}\")\n"
      ]
    },
    {
      "cell_type": "code",
      "execution_count": 20,
      "metadata": {
        "id": "pgFOtTY0wZQt",
        "outputId": "bc1c1b38-3716-4a84-a75a-47a89e6d63d5",
        "colab": {
          "base_uri": "https://localhost:8080/"
        }
      },
      "outputs": [
        {
          "output_type": "execute_result",
          "data": {
            "text/plain": [
              "[['Jason Argonaut', 'PENICILLIN G', 'Hives'],\n",
              " ['Jason Argonaut', 'SHELLFISH-DERIVED PRODUCTS', 'Itching'],\n",
              " ['Jason Argonaut', 'STRAWBERRY', 'Anaphylaxis'],\n",
              " ['Paul Boal', 'PENICILLIN G', 'Bruising']]"
            ]
          },
          "metadata": {},
          "execution_count": 20
        }
      ],
      "source": [
        "allergy_list(ALLERGIES_FILE)"
      ]
    },
    {
      "cell_type": "code",
      "execution_count": 21,
      "metadata": {
        "nbgrader": {
          "grade": true,
          "grade_id": "q2-tests",
          "locked": true,
          "points": 10,
          "schema_version": 1,
          "solution": false
        },
        "id": "yHqivgXcwZQt"
      },
      "outputs": [],
      "source": [
        "assert allergy_list(ALLERGIES_FILE) == [['Jason Argonaut', 'PENICILLIN G', 'Hives'],\n",
        " ['Jason Argonaut', 'SHELLFISH-DERIVED PRODUCTS', 'Itching'],\n",
        " ['Jason Argonaut', 'STRAWBERRY', 'Anaphylaxis'],\n",
        " ['Paul Boal', 'PENICILLIN G', 'Bruising']]\n"
      ]
    },
    {
      "cell_type": "markdown",
      "source": [
        "### my own test case for my own file ."
      ],
      "metadata": {
        "id": "pZKiGeDi-qOl"
      }
    },
    {
      "cell_type": "code",
      "source": [
        "import csv\n",
        "\n",
        "CSV_FILE = \"est2018-pop-res.csv\"\n",
        "\n",
        "def state_info_list(csv_file):\n",
        "    with open(csv_file, 'r') as file:\n",
        "        csv_reader = csv.DictReader(file)\n",
        "        result = []\n",
        "        for row in csv_reader:\n",
        "            if row['SUMLEV'] == '040' and row['STATE'] != '00' and row['STATE'] != '72':  # Exclude US total and Puerto Rico\n",
        "                state_name = row['NAME']\n",
        "                region = row['REGION']\n",
        "                division = row['DIVISION']\n",
        "                population = int(row['POPESTIMATE2018'])\n",
        "                result.append([state_name, region, division, population])\n",
        "\n",
        "    return sorted(result)\n",
        "\n",
        "# Call the function and print the result\n",
        "result = state_info_list(CSV_FILE)\n",
        "print(\"State information list:\")\n",
        "for item in result[:5]:  # Print first 5 items\n",
        "    print(f\"{item[0]}: Region {item[1]}, Division {item[2]}, Population {item[3]:,}\")\n"
      ],
      "metadata": {
        "id": "eeTF_JvR_UoD",
        "outputId": "c94c96e1-2ad1-457d-f950-8de89efd073d",
        "colab": {
          "base_uri": "https://localhost:8080/"
        }
      },
      "execution_count": 22,
      "outputs": [
        {
          "output_type": "stream",
          "name": "stdout",
          "text": [
            "State information list:\n",
            "Alabama: Region 3, Division 6, Population 4,887,871\n",
            "Alaska: Region 4, Division 9, Population 737,438\n",
            "Arizona: Region 4, Division 8, Population 7,171,646\n",
            "Arkansas: Region 3, Division 7, Population 3,013,825\n",
            "California: Region 4, Division 9, Population 39,557,045\n"
          ]
        }
      ]
    },
    {
      "cell_type": "code",
      "source": [
        "# Assertion to verify the result\n",
        "assert len(result) == 51, f\"Expected 51 states (including DC), but got {len(result)}\"\n",
        "assert result[0][0] == \"Alabama\", f\"First state should be Alabama, but got {result[0][0]}\"\n",
        "assert result[-1][0] == \"Wyoming\", f\"Last state should be Wyoming, but got {result[-1][0]}\"\n",
        "\n",
        "print(\"Assertions passed!\")"
      ],
      "metadata": {
        "id": "cn-vB4WP_XGS",
        "outputId": "0c190534-d9bf-44b8-c869-54f7d88f51c3",
        "colab": {
          "base_uri": "https://localhost:8080/"
        }
      },
      "execution_count": 23,
      "outputs": [
        {
          "output_type": "stream",
          "name": "stdout",
          "text": [
            "Assertions passed!\n"
          ]
        }
      ]
    },
    {
      "cell_type": "markdown",
      "metadata": {
        "nbgrader": {
          "grade": false,
          "grade_id": "q3-question",
          "locked": true,
          "schema_version": 1,
          "solution": false
        },
        "id": "3GlIhRXxwZQt"
      },
      "source": [
        "### 30.5 Allergy Reaction\n",
        "\n",
        "Write a function called `allergy_reaction(json_file,patient,substance)` that takes three parameter and returns the reaction that will happen if the patient takes the specified substance.  You can solve this, in part, by calling your `allergy_list` function inside your new `allergy_reaction` function.\n",
        "\n",
        "If the substance is not found in the allergy list, the function should return None."
      ]
    },
    {
      "cell_type": "code",
      "execution_count": 24,
      "metadata": {
        "nbgrader": {
          "grade": false,
          "grade_id": "q3-answer",
          "locked": false,
          "schema_version": 1,
          "solution": true
        },
        "id": "Wob529vwwZQt"
      },
      "outputs": [],
      "source": [
        "# Put your solution here\n",
        "import json\n",
        "\n",
        "ALLERGIES_FILE = \"allergies.json\"\n",
        "\n",
        "def allergy_list(json_file):\n",
        "    with open(json_file, 'r') as file:\n",
        "        data = json.load(file)\n",
        "\n",
        "    result = []\n",
        "    for entry in data['entry']:\n",
        "        patient_name = entry['resource']['patient']['display']\n",
        "        substance = entry['resource']['substance']['text']\n",
        "        reaction = entry['resource']['reaction'][0]['manifestation'][0]['text']\n",
        "        result.append([patient_name, substance, reaction])\n",
        "\n",
        "    return result\n",
        "\n",
        "def allergy_reaction(json_file, patient, substance):\n",
        "    allergies = allergy_list(json_file)\n",
        "    for allergy in allergies:\n",
        "        if allergy[0] == patient and allergy[1] == substance:\n",
        "            return allergy[2]\n",
        "    return None"
      ]
    },
    {
      "cell_type": "code",
      "source": [
        "# Test the function and print the results\n",
        "print(f\"Jason Argonaut's reaction to PENICILLIN G: {allergy_reaction(ALLERGIES_FILE, 'Jason Argonaut', 'PENICILLIN G')}\")\n",
        "print(f\"Jason Argonaut's reaction to SHELLFISH-DERIVED PRODUCTS: {allergy_reaction(ALLERGIES_FILE, 'Jason Argonaut', 'SHELLFISH-DERIVED PRODUCTS')}\")\n",
        "print(f\"Jason Argonaut's reaction to STRAWBERRY: {allergy_reaction(ALLERGIES_FILE, 'Jason Argonaut', 'STRAWBERRY')}\")\n",
        "print(f\"Jason Argonaut's reaction to PENICILLIN: {allergy_reaction(ALLERGIES_FILE, 'Jason Argonaut', 'PENICILLIN')}\")\n",
        "print(f\"Paul Boal's reaction to PENICILLIN G: {allergy_reaction(ALLERGIES_FILE, 'Paul Boal', 'PENICILLIN G')}\")"
      ],
      "metadata": {
        "id": "mf13sdD2APGk",
        "outputId": "7b58207a-a95e-4673-93f4-fd12fe53ae9b",
        "colab": {
          "base_uri": "https://localhost:8080/"
        }
      },
      "execution_count": 25,
      "outputs": [
        {
          "output_type": "stream",
          "name": "stdout",
          "text": [
            "Jason Argonaut's reaction to PENICILLIN G: Hives\n",
            "Jason Argonaut's reaction to SHELLFISH-DERIVED PRODUCTS: Itching\n",
            "Jason Argonaut's reaction to STRAWBERRY: Anaphylaxis\n",
            "Jason Argonaut's reaction to PENICILLIN: None\n",
            "Paul Boal's reaction to PENICILLIN G: Bruising\n"
          ]
        }
      ]
    },
    {
      "cell_type": "code",
      "source": [
        "# Assertions to verify the results\n",
        "assert allergy_reaction(ALLERGIES_FILE, 'Jason Argonaut', 'PENICILLIN G') == 'Hives'\n",
        "assert allergy_reaction(ALLERGIES_FILE, 'Jason Argonaut', 'SHELLFISH-DERIVED PRODUCTS') == 'Itching'\n",
        "assert allergy_reaction(ALLERGIES_FILE, 'Jason Argonaut', 'STRAWBERRY') == 'Anaphylaxis'\n",
        "assert allergy_reaction(ALLERGIES_FILE, 'Jason Argonaut', 'PENICILLIN') == None\n",
        "assert allergy_reaction(ALLERGIES_FILE, 'Paul Boal', 'PENICILLIN G') == 'Bruising'\n",
        "\n",
        "print(\"All assertions passed!\")"
      ],
      "metadata": {
        "id": "HyoQ8ohPAFWa",
        "outputId": "5d37bae1-de69-41f0-8500-bedc5e9900b1",
        "colab": {
          "base_uri": "https://localhost:8080/"
        }
      },
      "execution_count": 26,
      "outputs": [
        {
          "output_type": "stream",
          "name": "stdout",
          "text": [
            "All assertions passed!\n"
          ]
        }
      ]
    },
    {
      "cell_type": "code",
      "execution_count": 27,
      "metadata": {
        "id": "HHXTZfWvwZQt",
        "outputId": "d9960078-674c-4812-8517-6c7ccde996e7",
        "colab": {
          "base_uri": "https://localhost:8080/",
          "height": 35
        }
      },
      "outputs": [
        {
          "output_type": "execute_result",
          "data": {
            "text/plain": [
              "'Hives'"
            ],
            "application/vnd.google.colaboratory.intrinsic+json": {
              "type": "string"
            }
          },
          "metadata": {},
          "execution_count": 27
        }
      ],
      "source": [
        "allergy_reaction(ALLERGIES_FILE, 'Jason Argonaut', 'PENICILLIN G')"
      ]
    },
    {
      "cell_type": "code",
      "execution_count": 28,
      "metadata": {
        "nbgrader": {
          "grade": true,
          "grade_id": "q3-tests",
          "locked": true,
          "points": 5,
          "schema_version": 1,
          "solution": false
        },
        "id": "h-xSWYB9wZQt"
      },
      "outputs": [],
      "source": [
        "assert allergy_reaction(ALLERGIES_FILE, 'Jason Argonaut', 'PENICILLIN G') == 'Hives'\n",
        "assert allergy_reaction(ALLERGIES_FILE, 'Jason Argonaut', 'SHELLFISH-DERIVED PRODUCTS') == 'Itching'\n",
        "assert allergy_reaction(ALLERGIES_FILE, 'Jason Argonaut', 'STRAWBERRY') == 'Anaphylaxis'\n",
        "assert allergy_reaction(ALLERGIES_FILE, 'Jason Argonaut', 'PENICILLIN') == None\n",
        "assert allergy_reaction(ALLERGIES_FILE, 'Paul Boal', 'PENICILLIN G') == 'Bruising'"
      ]
    },
    {
      "cell_type": "markdown",
      "source": [
        "### my own test case for my file ."
      ],
      "metadata": {
        "id": "92_5S2c3AiWk"
      }
    },
    {
      "cell_type": "code",
      "source": [
        "import csv\n",
        "\n",
        "CSV_FILE = \"est2018-pop-res.csv\"\n",
        "\n",
        "def state_info_list(csv_file):\n",
        "    with open(csv_file, 'r') as file:\n",
        "        csv_reader = csv.DictReader(file)\n",
        "        result = []\n",
        "        for row in csv_reader:\n",
        "            if row['SUMLEV'] == '040' and row['STATE'] != '00' and row['STATE'] != '72':  # Exclude US total and Puerto Rico\n",
        "                state_name = row['NAME']\n",
        "                region = row['REGION']\n",
        "                population = int(row['POPESTIMATE2018'])\n",
        "                result.append([state_name, region, population])\n",
        "\n",
        "    return result\n",
        "\n",
        "def state_population(csv_file, region, state):\n",
        "    states = state_info_list(csv_file)\n",
        "    for state_info in states:\n",
        "        if state_info[1] == region and state_info[0] == state:\n",
        "            return state_info[2]\n",
        "    return None\n",
        "\n"
      ],
      "metadata": {
        "id": "m853ipjvAnGa"
      },
      "execution_count": 29,
      "outputs": []
    },
    {
      "cell_type": "code",
      "source": [
        "# Test the function and print the results\n",
        "print(f\"Population of California in Region 4: {state_population(CSV_FILE, '4', 'California'):,}\")\n",
        "print(f\"Population of New York in Region 1: {state_population(CSV_FILE, '1', 'New York'):,}\")\n",
        "print(f\"Population of Florida in Region 3: {state_population(CSV_FILE, '3', 'Florida'):,}\")\n",
        "print(f\"Population of Texas in Region 2: {state_population(CSV_FILE, '2', 'Texas')}\")\n",
        "print(f\"Population of Alaska in Region 4: {state_population(CSV_FILE, '4', 'Alaska'):,}\")"
      ],
      "metadata": {
        "id": "h1Nd8fuDAw1B",
        "outputId": "dade5238-2646-40c6-9d64-abd21f544bc8",
        "colab": {
          "base_uri": "https://localhost:8080/"
        }
      },
      "execution_count": 30,
      "outputs": [
        {
          "output_type": "stream",
          "name": "stdout",
          "text": [
            "Population of California in Region 4: 39,557,045\n",
            "Population of New York in Region 1: 19,542,209\n",
            "Population of Florida in Region 3: 21,299,325\n",
            "Population of Texas in Region 2: None\n",
            "Population of Alaska in Region 4: 737,438\n"
          ]
        }
      ]
    },
    {
      "cell_type": "code",
      "source": [
        "# Assertions to verify the results\n",
        "assert state_population(CSV_FILE, '4', 'California') == 39557045\n",
        "assert state_population(CSV_FILE, '1', 'New York') == 19542209\n",
        "assert state_population(CSV_FILE, '3', 'Florida') == 21299325\n",
        "assert state_population(CSV_FILE, '2', 'Texas') == None\n",
        "assert state_population(CSV_FILE, '4', 'Alaska') == 737438\n",
        "\n",
        "print(\"All assertions passed!\")"
      ],
      "metadata": {
        "id": "v00-8rVKAtlg",
        "outputId": "ce80f7dc-ca9b-41b1-98da-024267e394d2",
        "colab": {
          "base_uri": "https://localhost:8080/"
        }
      },
      "execution_count": 31,
      "outputs": [
        {
          "output_type": "stream",
          "name": "stdout",
          "text": [
            "All assertions passed!\n"
          ]
        }
      ]
    },
    {
      "cell_type": "markdown",
      "metadata": {
        "id": "gEa51dq6wZQu"
      },
      "source": [
        "---\n",
        "\n",
        "## Check your work above\n",
        "\n",
        "If you didn't get them all correct, take a few minutes to think through those that aren't correct.\n",
        "\n",
        "\n",
        "## Submitting Your Work\n",
        "\n",
        "In order to submit your work, you'll need to save this notebook file back to GitHub.  To do that in Google Colab:\n",
        "1. File -> Save a Copy in GitHub\n",
        "2. Make sure your HDS5210 repository is selected\n",
        "3. Make sure the file name includes the week number like this: `week06/week06_assignment_2.ipynb`\n",
        "4. Add a commit message that means something\n",
        "\n",
        "**Be sure week names are lowercase and use a two digit week number!!**\n",
        "\n",
        "**Be sure you use the same file name provided by the instructor!!**\n",
        "\n"
      ]
    }
  ],
  "metadata": {
    "celltoolbar": "Create Assignment",
    "kernelspec": {
      "display_name": "Python 3",
      "language": "python",
      "name": "python3"
    },
    "language_info": {
      "codemirror_mode": {
        "name": "ipython",
        "version": 3
      },
      "file_extension": ".py",
      "mimetype": "text/x-python",
      "name": "python",
      "nbconvert_exporter": "python",
      "pygments_lexer": "ipython3",
      "version": "3.9.16"
    },
    "colab": {
      "provenance": [],
      "include_colab_link": true
    }
  },
  "nbformat": 4,
  "nbformat_minor": 0
}