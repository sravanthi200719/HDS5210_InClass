{
  "cells": [
    {
      "cell_type": "markdown",
      "metadata": {
        "id": "view-in-github",
        "colab_type": "text"
      },
      "source": [
        "<a href=\"https://colab.research.google.com/github/sravanthi200719/HDS5210_InClass/blob/master/week12_assignment.ipynb\" target=\"_parent\"><img src=\"https://colab.research.google.com/assets/colab-badge.svg\" alt=\"Open In Colab\"/></a>"
      ]
    },
    {
      "cell_type": "markdown",
      "metadata": {
        "nbgrader": {
          "grade": false,
          "grade_id": "intro",
          "locked": true,
          "schema_version": 1,
          "solution": false
        },
        "id": "fgduJRJHHS0X"
      },
      "source": [
        "# Week 12 Assignment\n",
        "\n",
        "# PART 1 - Pivoting Data for Fun!\n",
        "\n",
        "In this exercise, we're going to work with data about condemned buildings in St. Louis.  This data set is in `/data/condemn.txt` in CSV format."
      ]
    },
    {
      "cell_type": "markdown",
      "metadata": {
        "nbgrader": {
          "grade": false,
          "grade_id": "q1-intro",
          "locked": true,
          "schema_version": 1,
          "solution": false
        },
        "id": "lQFILtwqHS0Y"
      },
      "source": [
        "## STEP 1: Load and Filter data\n",
        "\n",
        "For this analysis, we want to look only at a relevent range of years and only years that are in teh past.  So, let's first take a look at the data between 1986 and 2014 (inclusive of those dates).\n",
        "\n",
        "At the end of this step, you should have a data frame loaded from the condemnations file and filtered down to only the data between 1986 and 2014.  Put that into a dataframe named `condemnations`\n",
        "\n",
        "**Some helpful notes:**\n",
        "* Use the columns `InspectDate` to filter this date range"
      ]
    },
    {
      "cell_type": "code",
      "execution_count": 1,
      "metadata": {
        "nbgrader": {
          "grade": false,
          "grade_id": "q1-solution",
          "locked": false,
          "schema_version": 1,
          "solution": true
        },
        "colab": {
          "base_uri": "https://localhost:8080/"
        },
        "id": "hwnQIYHtHS0a",
        "outputId": "6977ed2d-131d-4a6f-a09b-14fe0a2e7616"
      },
      "outputs": [
        {
          "output_type": "stream",
          "name": "stderr",
          "text": [
            "<ipython-input-1-4427bda89e9a>:4: DtypeWarning: Columns (2,8,35,36) have mixed types. Specify dtype option on import or set low_memory=False.\n",
            "  condemnations = pd.read_csv('condemn.txt')\n"
          ]
        },
        {
          "output_type": "execute_result",
          "data": {
            "text/plain": [
              "(32586, 40)"
            ]
          },
          "metadata": {},
          "execution_count": 1
        }
      ],
      "source": [
        "%matplotlib inline\n",
        "import pandas as pd\n",
        "\n",
        "condemnations = pd.read_csv('condemn.txt')\n",
        "condemnations.shape"
      ]
    },
    {
      "cell_type": "code",
      "execution_count": 2,
      "metadata": {
        "colab": {
          "base_uri": "https://localhost:8080/"
        },
        "id": "Sgb8aR7mHS0b",
        "outputId": "b9e7eccf-0d3f-4ddb-c452-3b292ccc0f8a"
      },
      "outputs": [
        {
          "output_type": "stream",
          "name": "stderr",
          "text": [
            "<ipython-input-2-6de3bad11046>:4: DtypeWarning: Columns (2,8,35,36) have mixed types. Specify dtype option on import or set low_memory=False.\n",
            "  condemnations = pd.read_csv('condemn.txt')\n"
          ]
        },
        {
          "output_type": "execute_result",
          "data": {
            "text/plain": [
              "(32586, 40)"
            ]
          },
          "metadata": {},
          "execution_count": 2
        }
      ],
      "source": [
        "import pandas as pd\n",
        "\n",
        "# Load the dataset from the specified path\n",
        "condemnations = pd.read_csv('condemn.txt')\n",
        "\n",
        "# Display the shape of the dataframe to confirm data loading\n",
        "condemnations.shape\n"
      ]
    },
    {
      "cell_type": "code",
      "execution_count": 3,
      "metadata": {
        "colab": {
          "base_uri": "https://localhost:8080/"
        },
        "id": "Ul1iQK2FHS0b",
        "outputId": "64d9ada2-b8f7-41e5-dc50-37fc971913c1"
      },
      "outputs": [
        {
          "output_type": "execute_result",
          "data": {
            "text/plain": [
              "(30232, 40)"
            ]
          },
          "metadata": {},
          "execution_count": 3
        }
      ],
      "source": [
        "# Convert 'InspectDate' column to datetime to facilitate filtering by date\n",
        "condemnations['InspectDate'] = pd.to_datetime(condemnations['InspectDate'], errors='coerce')\n",
        "\n",
        "# Filter for rows where 'InspectDate' is between 1986 and 2014, inclusive\n",
        "condemnations = condemnations[(condemnations['InspectDate'] >= '1986-01-01') & (condemnations['InspectDate'] <= '2014-12-31')]\n",
        "\n",
        "# Check shape after filtering\n",
        "condemnations.shape\n"
      ]
    },
    {
      "cell_type": "code",
      "execution_count": 4,
      "metadata": {
        "nbgrader": {
          "grade": true,
          "grade_id": "q1-tests",
          "locked": true,
          "points": 6,
          "schema_version": 1,
          "solution": false
        },
        "id": "D0E2P5KkHS0c"
      },
      "outputs": [],
      "source": [
        "assert(condemnations.shape == (30232, 40))\n",
        "assert(len(condemnations[condemnations['InspectDate'] < '1986'])==0)\n",
        "assert(len(condemnations[condemnations['InspectDate'] >= '2015'])==0)"
      ]
    },
    {
      "cell_type": "markdown",
      "metadata": {
        "nbgrader": {
          "grade": false,
          "grade_id": "q2-intro",
          "locked": true,
          "schema_version": 1,
          "solution": false
        },
        "id": "k5V27dWeHS0d"
      },
      "source": [
        "## STEP 2: Pivot and Summarize\n",
        "\n",
        "In this step we want to pivot our data so that we have one row per year, a column for each value that appears in the `Status` column, and a count of how many condemnations occurred of each type in each year.  Put your summary pivot table into a variable called `by_year`.\n",
        "\n",
        "**Some helpful notes:**\n",
        "* For some reason, Pandas is just kind of stubborn about count being the aggregate function.  You may need to tell it to `np.ma.count` specifically.  I've imported Numpy as np for you."
      ]
    },
    {
      "cell_type": "code",
      "execution_count": 5,
      "metadata": {
        "id": "I5X_pn2vHS0d"
      },
      "outputs": [],
      "source": [
        "import pandas as pd\n",
        "import numpy as np\n"
      ]
    },
    {
      "cell_type": "code",
      "source": [
        "# Assuming 'condemnations' DataFrame has already been filtered and contains only data between 1986 and 2014\n",
        "# Extract the year from the 'InspectDate' to facilitate grouping by year\n",
        "condemnations['Year'] = condemnations['InspectDate'].dt.year\n",
        "\n",
        "# Create a pivot table with years as rows and each unique Status value as columns, counting occurrences\n",
        "by_year = pd.pivot_table(condemnations,\n",
        "                         index='Year',\n",
        "                         columns='Status',\n",
        "                         values='InspectDate',\n",
        "                         aggfunc=np.ma.count,\n",
        "                         fill_value=0)\n",
        "\n",
        "# Rename columns to match the expected output\n",
        "by_year.columns = by_year.columns.astype(str)\n",
        "by_year = by_year.rename(columns={'B': 'B', 'L': 'L', 'R': 'R', 'W': 'W'})  # Adjust column names if necessary\n",
        "print(by_year)"
      ],
      "metadata": {
        "colab": {
          "base_uri": "https://localhost:8080/"
        },
        "id": "WbIybWgoIYlF",
        "outputId": "eb79f3d1-3405-48aa-f199-e18116166236"
      },
      "execution_count": 6,
      "outputs": [
        {
          "output_type": "stream",
          "name": "stdout",
          "text": [
            "Status     B    L   R    W\n",
            "Year                      \n",
            "1986      22   12  19  112\n",
            "1987      91   20   8  361\n",
            "1988     215   16  15  297\n",
            "1989     277   15  11  432\n",
            "1990     119   29   8  322\n",
            "1991     139   18   4  351\n",
            "1992     204   30   4  258\n",
            "1993     185   47   2  193\n",
            "1994     208   94   5  293\n",
            "1995     176  127   0  268\n",
            "1996     214  171   0  794\n",
            "1997     281  328   0  878\n",
            "1998     254  343   0  599\n",
            "1999     272  283   0  826\n",
            "2000     320  268   0  529\n",
            "2001     381  262   0  296\n",
            "2002     383  227   0  317\n",
            "2003     361  201   0  282\n",
            "2004     354  204   0  381\n",
            "2005     410  237   0  345\n",
            "2006     479  233  20  370\n",
            "2007     613  262   0  341\n",
            "2008     700  254   0  334\n",
            "2009     785  223   0  200\n",
            "2010    1161  193   0  154\n",
            "2011    1028  275   0  107\n",
            "2012     738  257   1   28\n",
            "2013     185  209   1    2\n",
            "2014      17  128   0    0\n"
          ]
        },
        {
          "output_type": "stream",
          "name": "stderr",
          "text": [
            "<ipython-input-6-b913d8bbe3b9>:3: SettingWithCopyWarning: \n",
            "A value is trying to be set on a copy of a slice from a DataFrame.\n",
            "Try using .loc[row_indexer,col_indexer] = value instead\n",
            "\n",
            "See the caveats in the documentation: https://pandas.pydata.org/pandas-docs/stable/user_guide/indexing.html#returning-a-view-versus-a-copy\n",
            "  condemnations['Year'] = condemnations['InspectDate'].dt.year\n"
          ]
        }
      ]
    },
    {
      "cell_type": "code",
      "source": [
        "# Check the shape\n",
        "assert by_year.shape == (29, 4), \"Shape does not match expected output\"\n",
        "\n",
        "# Check the column names\n",
        "assert list(by_year.columns) == ['B', 'L', 'R', 'W'], \"Column names do not match expected output\"\n",
        "\n",
        "# Check the sum of each column\n",
        "assert list(by_year.sum()) == [10572, 4966, 98, 9670], \"Column sums do not match expected values\"\n"
      ],
      "metadata": {
        "id": "wfqzFIfZIe_5"
      },
      "execution_count": 7,
      "outputs": []
    },
    {
      "cell_type": "code",
      "execution_count": 8,
      "metadata": {
        "nbgrader": {
          "grade": true,
          "grade_id": "q2-tests",
          "locked": true,
          "points": 6,
          "schema_version": 1,
          "solution": false
        },
        "id": "8M1EH4qCHS0e"
      },
      "outputs": [],
      "source": [
        "assert(by_year.shape == (29, 4))\n",
        "assert(list(by_year.columns) == ['B', 'L', 'R', 'W'])\n",
        "assert(list(by_year.sum()) == [10572, 4966, 98, 9670])"
      ]
    },
    {
      "cell_type": "markdown",
      "metadata": {
        "nbgrader": {
          "grade": false,
          "grade_id": "q3-intro",
          "locked": true,
          "schema_version": 1,
          "solution": false
        },
        "id": "ps1tgPngHS0f"
      },
      "source": [
        "## STEP 3: Plot and see what you see\n",
        "\n",
        "Use Pandas built-in plotting capabilities to visualize this information in way that you think makes sense.  It might be that plotting a simple multi-series line chart would give you some insights.  Show your plot in the cell below, then use the text cell below that to write a few sentences about what you see.\n"
      ]
    },
    {
      "cell_type": "code",
      "execution_count": 9,
      "metadata": {
        "nbgrader": {
          "grade": true,
          "grade_id": "q3-manual",
          "locked": false,
          "points": 5,
          "schema_version": 1,
          "solution": true
        },
        "colab": {
          "base_uri": "https://localhost:8080/",
          "height": 466
        },
        "id": "tC_ZtF5PHS0f",
        "outputId": "520a4e0a-c3a0-452e-dabd-bf7642bc19fd"
      },
      "outputs": [
        {
          "output_type": "execute_result",
          "data": {
            "text/plain": [
              "<Axes: xlabel='Year'>"
            ]
          },
          "metadata": {},
          "execution_count": 9
        },
        {
          "output_type": "display_data",
          "data": {
            "text/plain": [
              "<Figure size 640x480 with 1 Axes>"
            ],
            "image/png": "[encoded data removed]"
          },
          "metadata": {}
        }
      ],
      "source": [
        "%matplotlib inline\n",
        "by_year.plot()"
      ]
    },
    {
      "cell_type": "markdown",
      "metadata": {
        "id": "gxWJCx5hHS0f"
      },
      "source": [
        "---"
      ]
    },
    {
      "cell_type": "code",
      "execution_count": 10,
      "metadata": {
        "id": "VRddjo7RHS0g"
      },
      "outputs": [],
      "source": [
        "import matplotlib.pyplot as plt\n",
        "%matplotlib inline\n"
      ]
    },
    {
      "cell_type": "code",
      "execution_count": 11,
      "metadata": {
        "colab": {
          "base_uri": "https://localhost:8080/",
          "height": 564
        },
        "id": "F_OtxV4aHS0g",
        "outputId": "f6829c80-9836-4057-fc34-1513238a0e09"
      },
      "outputs": [
        {
          "output_type": "display_data",
          "data": {
            "text/plain": [
              "<Figure size 1200x600 with 1 Axes>"
            ],
            "image/png": "[encoded data removed]"
          },
          "metadata": {}
        }
      ],
      "source": [
        "# Plot the 'by_year' DataFrame to show trends of each status type over the years\n",
        "ax = by_year.plot(kind='line', figsize=(12, 6), marker='o', title='Condemnation Status Trends (1986-2014)')\n",
        "ax.set_xlabel(\"Year\")\n",
        "ax.set_ylabel(\"Number of Condemnations\")\n",
        "plt.grid(True)\n",
        "plt.show()\n"
      ]
    },
    {
      "cell_type": "markdown",
      "metadata": {
        "id": "X1CC5P4bHS0g"
      },
      "source": [
        "# PART 2 - Video Conference Usage\n",
        "\n",
        "In this next part of the assignment, we'll be looking at how video conference usage changed during the beginning of COVID-19.  This real data.  Please don't judge anyone based on the information here.  ;)  The data is in the `/data/meetings.csv` file.\n",
        "\n",
        "For the assignment, I want you to compare (by person) the number of meetings hosted by each user for the last two weeks of February and the last two weeks of March.  This might be a little complicated to think through HOW to do that, so the steps below are one approach.\n",
        "\n",
        "1. Create a new column called startDate that contains just the day part of the startTime column in the data.  You can do that using datetime functions if you want, but you'll notice that the date in this file is a string formatted YYYY-MM-DD-HH:mm:ss, so it's probably easier just to pull out the first 10 characters of the string instead.  `meetings['startTime'].str[0:10]`\n",
        "2. Create another new column.  This one should contain a label like \"BEFORE\" for the week 2/17 - 2/28 and \"DURING\" for the week of 3/16 - 3/27.  A hand tip on this is that you can set values for some rows in a data frame using `meetings.loc[row_filter,'Column Name'] = 'Value'` if you've created a `row_filter` as we discussed in prior weeks.\n",
        "3. From here, using `pivot_table()` is one good way to summarize the information.\n",
        "\n",
        "**FINAL RESULT**\n",
        "\n",
        "For a final result, I'd like you to produce a data frame named **summary** that contains:\n",
        "* One ROW for each userName.  The userName can either be the row index or a column in the data frame.\n",
        "* One COLUMN for the \"BEFORE\" week and one COLUMN for the \"DURING\" week.  Name those columns 'Before' and 'During'.\n",
        "* One more calculated column that shows the percent increase from BEFORE to DURING.  Name that column 'pctChange'.\n"
      ]
    },
    {
      "cell_type": "code",
      "execution_count": 12,
      "metadata": {
        "id": "nwZEhy5vHS0h"
      },
      "outputs": [],
      "source": [
        "import pandas as pd\n",
        "meetings = ..."
      ]
    },
    {
      "cell_type": "code",
      "source": [
        "import pandas as pd\n",
        "\n",
        "# Load the data from the CSV file\n",
        "meetings = pd.read_csv('meetings.csv')\n",
        "\n",
        "# Display the first few rows to understand the structure\n",
        "meetings.head()\n"
      ],
      "metadata": {
        "colab": {
          "base_uri": "https://localhost:8080/",
          "height": 550
        },
        "id": "DcRTx4ZZI2CE",
        "outputId": "09f8d5ce-7b04-4671-9f9a-66ab2eb8fa95"
      },
      "execution_count": 13,
      "outputs": [
        {
          "output_type": "execute_result",
          "data": {
            "text/plain": [
              "                                  meeting_uuid                   meetingTitle  \\\n",
              "0  418897-3b9f0feb-f8f4-4ae7-9464-eb983c30af60          Review Payer Websites   \n",
              "1  418897-14587f14-faf0-4879-9756-fe335357b413                 Drew's Meeting   \n",
              "2  418897-aa82b3f0-e3df-456a-80d5-daef7902c232  St. Luke's Project Discussion   \n",
              "3  418867-f5fadea7-75f8-4860-9a1e-090805ff6346                 Amit's Meeting   \n",
              "4  418894-3a911019-1a97-4058-8bd4-035245c73bda               Andrea's Meeting   \n",
              "\n",
              "   meetingId                        userName  user_id  user_tags  \\\n",
              "0  681568231   chris.rogers.amitechsolutions  3180644        NaN   \n",
              "1  258719784                      Drew.Marco  2717893        NaN   \n",
              "2  415828450                     eric.keeney  2692908        NaN   \n",
              "3  275007771                     amit.bhagat  2756615        NaN   \n",
              "4  791412043  andrea.bryant.amitechsolutions  2673353        NaN   \n",
              "\n",
              "               endTime            startTime  \\\n",
              "0  2020-03-31 22:21:35  2020-03-31 21:00:22   \n",
              "1  2020-03-31 21:30:37  2020-03-31 20:58:41   \n",
              "2  2020-03-31 22:48:43  2020-03-31 20:57:51   \n",
              "3  2020-03-31 21:02:28  2020-03-31 20:34:43   \n",
              "4  2020-03-31 20:49:46  2020-03-31 20:30:02   \n",
              "\n",
              "                               email  participantSeconds  ...  \\\n",
              "0  chris.rogers@amitechsolutions.com               19386  ...   \n",
              "1    Drew.Marco@AmitechSolutions.com                7242  ...   \n",
              "2   eric.keeney@amitechsolutions.com               38469  ...   \n",
              "3   amit.bhagat@amitechsolutions.com                6394  ...   \n",
              "4       hr-dept@amitechsolutions.com                3363  ...   \n",
              "\n",
              "  meetingDurationMinutes popId         userType  billable  moderatorLess  \\\n",
              "0                81.2167    26  ENTERPRISE_PAID      True           True   \n",
              "1                31.9333    25  ENTERPRISE_PAID      True           True   \n",
              "2               110.8667    25  ENTERPRISE_PAID      True           True   \n",
              "3                27.7500   110  ENTERPRISE_PAID      True           True   \n",
              "4                19.7333    25  ENTERPRISE_PAID      True           True   \n",
              "\n",
              "              start_time  total_highlights_created smart_meeting  \\\n",
              "0  2020-03-31 21:00:22.0                       NaN           NaN   \n",
              "1  2020-03-31 20:58:41.0                       NaN           NaN   \n",
              "2  2020-03-31 20:57:51.0                       NaN           NaN   \n",
              "3  2020-03-31 20:34:43.0                       NaN           NaN   \n",
              "4  2020-03-31 20:30:02.0                       NaN           NaN   \n",
              "\n",
              "   transcription_used  total_transcription_duration_minutes  \n",
              "0                 NaN                                   NaN  \n",
              "1                 NaN                                   NaN  \n",
              "2                 NaN                                   NaN  \n",
              "3                 NaN                                   NaN  \n",
              "4                 NaN                                   NaN  \n",
              "\n",
              "[5 rows x 25 columns]"
            ],
            "text/html": [
              "\n",
              "  <div id=\"df-968f496e-99ce-45c6-a213-1ea4965713d2\" class=\"colab-df-container\">\n",
              "    <div>\n",
              "<style scoped>\n",
              "    .dataframe tbody tr th:only-of-type {\n",
              "        vertical-align: middle;\n",
              "    }\n",
              "\n",
              "    .dataframe tbody tr th {\n",
              "        vertical-align: top;\n",
              "    }\n",
              "\n",
              "    .dataframe thead th {\n",
              "        text-align: right;\n",
              "    }\n",
              "</style>\n",
              "<table border=\"1\" class=\"dataframe\">\n",
              "  <thead>\n",
              "    <tr style=\"text-align: right;\">\n",
              "      <th></th>\n",
              "      <th>meeting_uuid</th>\n",
              "      <th>meetingTitle</th>\n",
              "      <th>meetingId</th>\n",
              "      <th>userName</th>\n",
              "      <th>user_id</th>\n",
              "      <th>user_tags</th>\n",
              "      <th>endTime</th>\n",
              "      <th>startTime</th>\n",
              "      <th>email</th>\n",
              "      <th>participantSeconds</th>\n",
              "      <th>...</th>\n",
              "      <th>meetingDurationMinutes</th>\n",
              "      <th>popId</th>\n",
              "      <th>userType</th>\n",
              "      <th>billable</th>\n",
              "      <th>moderatorLess</th>\n",
              "      <th>start_time</th>\n",
              "      <th>total_highlights_created</th>\n",
              "      <th>smart_meeting</th>\n",
              "      <th>transcription_used</th>\n",
              "      <th>total_transcription_duration_minutes</th>\n",
              "    </tr>\n",
              "  </thead>\n",
              "  <tbody>\n",
              "    <tr>\n",
              "      <th>0</th>\n",
              "      <td>418897-3b9f0feb-f8f4-4ae7-9464-eb983c30af60</td>\n",
              "      <td>Review Payer Websites</td>\n",
              "      <td>681568231</td>\n",
              "      <td>chris.rogers.amitechsolutions</td>\n",
              "      <td>3180644</td>\n",
              "      <td>NaN</td>\n",
              "      <td>2020-03-31 22:21:35</td>\n",
              "      <td>2020-03-31 21:00:22</td>\n",
              "      <td>chris.rogers@amitechsolutions.com</td>\n",
              "      <td>19386</td>\n",
              "      <td>...</td>\n",
              "      <td>81.2167</td>\n",
              "      <td>26</td>\n",
              "      <td>ENTERPRISE_PAID</td>\n",
              "      <td>True</td>\n",
              "      <td>True</td>\n",
              "      <td>2020-03-31 21:00:22.0</td>\n",
              "      <td>NaN</td>\n",
              "      <td>NaN</td>\n",
              "      <td>NaN</td>\n",
              "      <td>NaN</td>\n",
              "    </tr>\n",
              "    <tr>\n",
              "      <th>1</th>\n",
              "      <td>418897-14587f14-faf0-4879-9756-fe335357b413</td>\n",
              "      <td>Drew's Meeting</td>\n",
              "      <td>258719784</td>\n",
              "      <td>Drew.Marco</td>\n",
              "      <td>2717893</td>\n",
              "      <td>NaN</td>\n",
              "      <td>2020-03-31 21:30:37</td>\n",
              "      <td>2020-03-31 20:58:41</td>\n",
              "      <td>Drew.Marco@AmitechSolutions.com</td>\n",
              "      <td>7242</td>\n",
              "      <td>...</td>\n",
              "      <td>31.9333</td>\n",
              "      <td>25</td>\n",
              "      <td>ENTERPRISE_PAID</td>\n",
              "      <td>True</td>\n",
              "      <td>True</td>\n",
              "      <td>2020-03-31 20:58:41.0</td>\n",
              "      <td>NaN</td>\n",
              "      <td>NaN</td>\n",
              "      <td>NaN</td>\n",
              "      <td>NaN</td>\n",
              "    </tr>\n",
              "    <tr>\n",
              "      <th>2</th>\n",
              "      <td>418897-aa82b3f0-e3df-456a-80d5-daef7902c232</td>\n",
              "      <td>St. Luke's Project Discussion</td>\n",
              "      <td>415828450</td>\n",
              "      <td>eric.keeney</td>\n",
              "      <td>2692908</td>\n",
              "      <td>NaN</td>\n",
              "      <td>2020-03-31 22:48:43</td>\n",
              "      <td>2020-03-31 20:57:51</td>\n",
              "      <td>eric.keeney@amitechsolutions.com</td>\n",
              "      <td>38469</td>\n",
              "      <td>...</td>\n",
              "      <td>110.8667</td>\n",
              "      <td>25</td>\n",
              "      <td>ENTERPRISE_PAID</td>\n",
              "      <td>True</td>\n",
              "      <td>True</td>\n",
              "      <td>2020-03-31 20:57:51.0</td>\n",
              "      <td>NaN</td>\n",
              "      <td>NaN</td>\n",
              "      <td>NaN</td>\n",
              "      <td>NaN</td>\n",
              "    </tr>\n",
              "    <tr>\n",
              "      <th>3</th>\n",
              "      <td>418867-f5fadea7-75f8-4860-9a1e-090805ff6346</td>\n",
              "      <td>Amit's Meeting</td>\n",
              "      <td>275007771</td>\n",
              "      <td>amit.bhagat</td>\n",
              "      <td>2756615</td>\n",
              "      <td>NaN</td>\n",
              "      <td>2020-03-31 21:02:28</td>\n",
              "      <td>2020-03-31 20:34:43</td>\n",
              "      <td>amit.bhagat@amitechsolutions.com</td>\n",
              "      <td>6394</td>\n",
              "      <td>...</td>\n",
              "      <td>27.7500</td>\n",
              "      <td>110</td>\n",
              "      <td>ENTERPRISE_PAID</td>\n",
              "      <td>True</td>\n",
              "      <td>True</td>\n",
              "      <td>2020-03-31 20:34:43.0</td>\n",
              "      <td>NaN</td>\n",
              "      <td>NaN</td>\n",
              "      <td>NaN</td>\n",
              "      <td>NaN</td>\n",
              "    </tr>\n",
              "    <tr>\n",
              "      <th>4</th>\n",
              "      <td>418894-3a911019-1a97-4058-8bd4-035245c73bda</td>\n",
              "      <td>Andrea's Meeting</td>\n",
              "      <td>791412043</td>\n",
              "      <td>andrea.bryant.amitechsolutions</td>\n",
              "      <td>2673353</td>\n",
              "      <td>NaN</td>\n",
              "      <td>2020-03-31 20:49:46</td>\n",
              "      <td>2020-03-31 20:30:02</td>\n",
              "      <td>hr-dept@amitechsolutions.com</td>\n",
              "      <td>3363</td>\n",
              "      <td>...</td>\n",
              "      <td>19.7333</td>\n",
              "      <td>25</td>\n",
              "      <td>ENTERPRISE_PAID</td>\n",
              "      <td>True</td>\n",
              "      <td>True</td>\n",
              "      <td>2020-03-31 20:30:02.0</td>\n",
              "      <td>NaN</td>\n",
              "      <td>NaN</td>\n",
              "      <td>NaN</td>\n",
              "      <td>NaN</td>\n",
              "    </tr>\n",
              "  </tbody>\n",
              "</table>\n",
              "<p>5 rows × 25 columns</p>\n",
              "</div>\n",
              "    <div class=\"colab-df-buttons\">\n",
              "\n",
              "  <div class=\"colab-df-container\">\n",
              "    <button class=\"colab-df-convert\" onclick=\"convertToInteractive('df-968f496e-99ce-45c6-a213-1ea4965713d2')\"\n",
              "            title=\"Convert this dataframe to an interactive table.\"\n",
              "            style=\"display:none;\">\n",
              "\n",
              "  <svg xmlns=\"http://www.w3.org/2000/svg\" height=\"24px\" viewBox=\"0 -960 960 960\">\n",
              "    <path d=\"M120-120v-720h720v720H120Zm60-500h600v-160H180v160Zm220 220h160v-160H400v160Zm0 220h160v-160H400v160ZM180-400h160v-160H180v160Zm440 0h160v-160H620v160ZM180-180h160v-160H180v160Zm440 0h160v-160H620v160Z\"/>\n",
              "  </svg>\n",
              "    </button>\n",
              "\n",
              "  <style>\n",
              "    .colab-df-container {\n",
              "      display:flex;\n",
              "      gap: 12px;\n",
              "    }\n",
              "\n",
              "    .colab-df-convert {\n",
              "      background-color: #E8F0FE;\n",
              "      border: none;\n",
              "      border-radius: 50%;\n",
              "      cursor: pointer;\n",
              "      display: none;\n",
              "      fill: #1967D2;\n",
              "      height: 32px;\n",
              "      padding: 0 0 0 0;\n",
              "      width: 32px;\n",
              "    }\n",
              "\n",
              "    .colab-df-convert:hover {\n",
              "      background-color: #E2EBFA;\n",
              "      box-shadow: 0px 1px 2px rgba(60, 64, 67, 0.3), 0px 1px 3px 1px rgba(60, 64, 67, 0.15);\n",
              "      fill: #174EA6;\n",
              "    }\n",
              "\n",
              "    .colab-df-buttons div {\n",
              "      margin-bottom: 4px;\n",
              "    }\n",
              "\n",
              "    [theme=dark] .colab-df-convert {\n",
              "      background-color: #3B4455;\n",
              "      fill: #D2E3FC;\n",
              "    }\n",
              "\n",
              "    [theme=dark] .colab-df-convert:hover {\n",
              "      background-color: #434B5C;\n",
              "      box-shadow: 0px 1px 3px 1px rgba(0, 0, 0, 0.15);\n",
              "      filter: drop-shadow(0px 1px 2px rgba(0, 0, 0, 0.3));\n",
              "      fill: #FFFFFF;\n",
              "    }\n",
              "  </style>\n",
              "\n",
              "    <script>\n",
              "      const buttonEl =\n",
              "        document.querySelector('#df-968f496e-99ce-45c6-a213-1ea4965713d2 button.colab-df-convert');\n",
              "      buttonEl.style.display =\n",
              "        google.colab.kernel.accessAllowed ? 'block' : 'none';\n",
              "\n",
              "      async function convertToInteractive(key) {\n",
              "        const element = document.querySelector('#df-968f496e-99ce-45c6-a213-1ea4965713d2');\n",
              "        const dataTable =\n",
              "          await google.colab.kernel.invokeFunction('convertToInteractive',\n",
              "                                                    [key], {});\n",
              "        if (!dataTable) return;\n",
              "\n",
              "        const docLinkHtml = 'Like what you see? Visit the ' +\n",
              "          '<a target=\"_blank\" href=https://colab.research.google.com/notebooks/data_table.ipynb>data table notebook</a>'\n",
              "          + ' to learn more about interactive tables.';\n",
              "        element.innerHTML = '';\n",
              "        dataTable['output_type'] = 'display_data';\n",
              "        await google.colab.output.renderOutput(dataTable, element);\n",
              "        const docLink = document.createElement('div');\n",
              "        docLink.innerHTML = docLinkHtml;\n",
              "        element.appendChild(docLink);\n",
              "      }\n",
              "    </script>\n",
              "  </div>\n",
              "\n",
              "\n",
              "<div id=\"df-524f2da0-7174-4c02-8201-73a3fc0eacb6\">\n",
              "  <button class=\"colab-df-quickchart\" onclick=\"quickchart('df-524f2da0-7174-4c02-8201-73a3fc0eacb6')\"\n",
              "            title=\"Suggest charts\"\n",
              "            style=\"display:none;\">\n",
              "\n",
              "<svg xmlns=\"http://www.w3.org/2000/svg\" height=\"24px\"viewBox=\"0 0 24 24\"\n",
              "     width=\"24px\">\n",
              "    <g>\n",
              "        <path d=\"M19 3H5c-1.1 0-2 .9-2 2v14c0 1.1.9 2 2 2h14c1.1 0 2-.9 2-2V5c0-1.1-.9-2-2-2zM9 17H7v-7h2v7zm4 0h-2V7h2v10zm4 0h-2v-4h2v4z\"/>\n",
              "    </g>\n",
              "</svg>\n",
              "  </button>\n",
              "\n",
              "<style>\n",
              "  .colab-df-quickchart {\n",
              "      --bg-color: #E8F0FE;\n",
              "      --fill-color: #1967D2;\n",
              "      --hover-bg-color: #E2EBFA;\n",
              "      --hover-fill-color: #174EA6;\n",
              "      --disabled-fill-color: #AAA;\n",
              "      --disabled-bg-color: #DDD;\n",
              "  }\n",
              "\n",
              "  [theme=dark] .colab-df-quickchart {\n",
              "      --bg-color: #3B4455;\n",
              "      --fill-color: #D2E3FC;\n",
              "      --hover-bg-color: #434B5C;\n",
              "      --hover-fill-color: #FFFFFF;\n",
              "      --disabled-bg-color: #3B4455;\n",
              "      --disabled-fill-color: #666;\n",
              "  }\n",
              "\n",
              "  .colab-df-quickchart {\n",
              "    background-color: var(--bg-color);\n",
              "    border: none;\n",
              "    border-radius: 50%;\n",
              "    cursor: pointer;\n",
              "    display: none;\n",
              "    fill: var(--fill-color);\n",
              "    height: 32px;\n",
              "    padding: 0;\n",
              "    width: 32px;\n",
              "  }\n",
              "\n",
              "  .colab-df-quickchart:hover {\n",
              "    background-color: var(--hover-bg-color);\n",
              "    box-shadow: 0 1px 2px rgba(60, 64, 67, 0.3), 0 1px 3px 1px rgba(60, 64, 67, 0.15);\n",
              "    fill: var(--button-hover-fill-color);\n",
              "  }\n",
              "\n",
              "  .colab-df-quickchart-complete:disabled,\n",
              "  .colab-df-quickchart-complete:disabled:hover {\n",
              "    background-color: var(--disabled-bg-color);\n",
              "    fill: var(--disabled-fill-color);\n",
              "    box-shadow: none;\n",
              "  }\n",
              "\n",
              "  .colab-df-spinner {\n",
              "    border: 2px solid var(--fill-color);\n",
              "    border-color: transparent;\n",
              "    border-bottom-color: var(--fill-color);\n",
              "    animation:\n",
              "      spin 1s steps(1) infinite;\n",
              "  }\n",
              "\n",
              "  @keyframes spin {\n",
              "    0% {\n",
              "      border-color: transparent;\n",
              "      border-bottom-color: var(--fill-color);\n",
              "      border-left-color: var(--fill-color);\n",
              "    }\n",
              "    20% {\n",
              "      border-color: transparent;\n",
              "      border-left-color: var(--fill-color);\n",
              "      border-top-color: var(--fill-color);\n",
              "    }\n",
              "    30% {\n",
              "      border-color: transparent;\n",
              "      border-left-color: var(--fill-color);\n",
              "      border-top-color: var(--fill-color);\n",
              "      border-right-color: var(--fill-color);\n",
              "    }\n",
              "    40% {\n",
              "      border-color: transparent;\n",
              "      border-right-color: var(--fill-color);\n",
              "      border-top-color: var(--fill-color);\n",
              "    }\n",
              "    60% {\n",
              "      border-color: transparent;\n",
              "      border-right-color: var(--fill-color);\n",
              "    }\n",
              "    80% {\n",
              "      border-color: transparent;\n",
              "      border-right-color: var(--fill-color);\n",
              "      border-bottom-color: var(--fill-color);\n",
              "    }\n",
              "    90% {\n",
              "      border-color: transparent;\n",
              "      border-bottom-color: var(--fill-color);\n",
              "    }\n",
              "  }\n",
              "</style>\n",
              "\n",
              "  <script>\n",
              "    async function quickchart(key) {\n",
              "      const quickchartButtonEl =\n",
              "        document.querySelector('#' + key + ' button');\n",
              "      quickchartButtonEl.disabled = true;  // To prevent multiple clicks.\n",
              "      quickchartButtonEl.classList.add('colab-df-spinner');\n",
              "      try {\n",
              "        const charts = await google.colab.kernel.invokeFunction(\n",
              "            'suggestCharts', [key], {});\n",
              "      } catch (error) {\n",
              "        console.error('Error during call to suggestCharts:', error);\n",
              "      }\n",
              "      quickchartButtonEl.classList.remove('colab-df-spinner');\n",
              "      quickchartButtonEl.classList.add('colab-df-quickchart-complete');\n",
              "    }\n",
              "    (() => {\n",
              "      let quickchartButtonEl =\n",
              "        document.querySelector('#df-524f2da0-7174-4c02-8201-73a3fc0eacb6 button');\n",
              "      quickchartButtonEl.style.display =\n",
              "        google.colab.kernel.accessAllowed ? 'block' : 'none';\n",
              "    })();\n",
              "  </script>\n",
              "</div>\n",
              "\n",
              "    </div>\n",
              "  </div>\n"
            ],
            "application/vnd.google.colaboratory.intrinsic+json": {
              "type": "dataframe",
              "variable_name": "meetings"
            }
          },
          "metadata": {},
          "execution_count": 13
        }
      ]
    },
    {
      "cell_type": "code",
      "execution_count": 14,
      "metadata": {
        "id": "Kw01PkaQHS0h"
      },
      "outputs": [],
      "source": [
        "meetings['startDate'] = meetings['startTime'].str[0:10]"
      ]
    },
    {
      "cell_type": "code",
      "source": [
        "meetings['startDate'] = pd.to_datetime(meetings['startDate'])"
      ],
      "metadata": {
        "id": "v0EbIvwtKTHp"
      },
      "execution_count": 15,
      "outputs": []
    },
    {
      "cell_type": "code",
      "source": [
        "before_filter = (meetings['startDate'] >= '2020-02-17') & (meetings['startDate'] <= '2020-02-28')\n",
        "during_filter = (meetings['startDate'] >= '2020-03-16') & (meetings['startDate'] <= '2020-03-27')\n",
        "\n"
      ],
      "metadata": {
        "id": "0ZL9L4fcKYAZ"
      },
      "execution_count": 16,
      "outputs": []
    },
    {
      "cell_type": "code",
      "source": [
        "meetings.loc[before_filter, 'Period'] = 'BEFORE'\n",
        "meetings.loc[during_filter, 'Period'] = 'DURING'"
      ],
      "metadata": {
        "id": "fjJI134MKdE-"
      },
      "execution_count": 17,
      "outputs": []
    },
    {
      "cell_type": "code",
      "source": [
        "meetings = meetings[meetings['Period'].isin(['BEFORE', 'DURING'])]"
      ],
      "metadata": {
        "id": "HelPNnKeKiHt"
      },
      "execution_count": 18,
      "outputs": []
    },
    {
      "cell_type": "code",
      "source": [
        "summary = meetings.pivot_table(index='userName', columns='Period', values='startDate', aggfunc='count', fill_value=0)"
      ],
      "metadata": {
        "id": "sNyfTvPUKl2S"
      },
      "execution_count": 19,
      "outputs": []
    },
    {
      "cell_type": "code",
      "source": [
        "summary.columns = ['Before', 'During']"
      ],
      "metadata": {
        "id": "N4sOuK2CKn6H"
      },
      "execution_count": 20,
      "outputs": []
    },
    {
      "cell_type": "code",
      "source": [
        "summary['pctChange'] = ((summary['During'] - summary['Before']) / summary['Before'].replace(0, np.nan)).round(4)"
      ],
      "metadata": {
        "id": "ekcVP88gKq4T"
      },
      "execution_count": 21,
      "outputs": []
    },
    {
      "cell_type": "markdown",
      "source": [
        "Replace any NaN values in 'pctChange' with 0 to indicate no change when 'Before' is 0\n",
        "summary['pctChange'] = summary['pctChange'].fillna(0)"
      ],
      "metadata": {
        "id": "uPRohHA4NwJb"
      }
    },
    {
      "cell_type": "code",
      "source": [
        "summary['pctChange'] = summary['pctChange'].fillna(0)"
      ],
      "metadata": {
        "id": "zbNW_acFKuu0"
      },
      "execution_count": 22,
      "outputs": []
    },
    {
      "cell_type": "markdown",
      "source": [
        "Display the final 'summary' DataFrame"
      ],
      "metadata": {
        "id": "i35m-C-6Ns-n"
      }
    },
    {
      "cell_type": "code",
      "source": [
        "print(summary)\n",
        "calculated_mean_pctChange = summary['pctChange'].mean().round(2)\n",
        "print(\"Calculated mean of pctChange:\", calculated_mean_pctChange)"
      ],
      "metadata": {
        "colab": {
          "base_uri": "https://localhost:8080/"
        },
        "id": "fxSORWQXKyov",
        "outputId": "96e2f82c-384c-433e-8e22-5d2207bec53d"
      },
      "execution_count": 23,
      "outputs": [
        {
          "output_type": "stream",
          "name": "stdout",
          "text": [
            "                                Before  During  pctChange\n",
            "userName                                                 \n",
            "Drew.Marco                          12      19     0.5833\n",
            "amit.bhagat                         17      30     0.7647\n",
            "andrea.bryant.amitechsolutions       5       3    -0.4000\n",
            "angie.warren                         5       9     0.8000\n",
            "chris.rogers.amitechsolutions        4       3    -0.2500\n",
            "eric.keeney                         15      27     0.8000\n",
            "eric.rodman                          4      12     2.0000\n",
            "jeff.hatfield.amitechsolutions      13      26     1.0000\n",
            "jennifer.patton.amitechs             5       7     0.4000\n",
            "jessica.sikora                       3       7     1.3333\n",
            "matt.allsup                          5       0    -1.0000\n",
            "matt.brown.amitechsolutions          1       2     1.0000\n",
            "melissa.menne                       10       9    -0.1000\n",
            "michael.demos                        5      11     1.2000\n",
            "paul.boal                           15      35     1.3333\n",
            "paul.smith.amitechsolutions         23      10    -0.5652\n",
            "pete.cornwell                        1       9     8.0000\n",
            "raghavender.tuniki                   6       2    -0.6667\n",
            "sandip.shaw                          9       2    -0.7778\n",
            "santhosh.kanala                      2       6     2.0000\n",
            "shawn.reilly.amitechsolutions        7      10     0.4286\n",
            "tejus.maduskar                      12      39     2.2500\n",
            "Calculated mean of pctChange: 0.92\n"
          ]
        }
      ]
    },
    {
      "cell_type": "markdown",
      "metadata": {
        "id": "e08b2piHHS0i"
      },
      "source": [
        "---"
      ]
    },
    {
      "cell_type": "code",
      "execution_count": 24,
      "metadata": {
        "id": "fuS8o5iMHS0i"
      },
      "outputs": [],
      "source": [
        "assert(len(summary) == 22)"
      ]
    },
    {
      "cell_type": "code",
      "execution_count": 25,
      "metadata": {
        "id": "XqlwN1CqHS0i"
      },
      "outputs": [],
      "source": [
        "assert(summary['pctChange'].mean().round(2) == 0.92)"
      ]
    },
    {
      "cell_type": "code",
      "execution_count": 25,
      "metadata": {
        "id": "FGsFEPoRHS0i"
      },
      "outputs": [],
      "source": []
    },
    {
      "cell_type": "markdown",
      "metadata": {
        "id": "IRRnzMv6HS0j"
      },
      "source": [
        "\n",
        "\n",
        "---\n",
        "\n",
        "\n",
        "\n",
        "## Submitting Your Work\n",
        "\n",
        "Submit as usual\n"
      ]
    }
  ],
  "metadata": {
    "celltoolbar": "Create Assignment",
    "kernelspec": {
      "display_name": "Python 3",
      "language": "python",
      "name": "python3"
    },
    "language_info": {
      "codemirror_mode": {
        "name": "ipython",
        "version": 3
      },
      "file_extension": ".py",
      "mimetype": "text/x-python",
      "name": "python",
      "nbconvert_exporter": "python",
      "pygments_lexer": "ipython3",
      "version": "3.6.7"
    },
    "colab": {
      "provenance": [],
      "include_colab_link": true
    }
  },
  "nbformat": 4,
  "nbformat_minor": 0
}