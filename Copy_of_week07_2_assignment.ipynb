{
  "cells": [
    {
      "cell_type": "markdown",
      "metadata": {
        "id": "view-in-github",
        "colab_type": "text"
      },
      "source": [
        "<a href=\"https://colab.research.google.com/github/sravanthi200719/HDS5210_InClass/blob/master/Copy_of_week07_2_assignment.ipynb\" target=\"_parent\"><img src=\"https://colab.research.google.com/assets/colab-badge.svg\" alt=\"Open In Colab\"/></a>"
      ]
    },
    {
      "cell_type": "markdown",
      "metadata": {
        "id": "vGJNfCUrezY6"
      },
      "source": [
        "# Week 7 Assignment\n",
        "\n",
        "We've been working with different types of data structures in Python (dictionary, list, etc), how those are represented in JSON documents, and how to write code to access specific data elements. In this week's assignment, you will need to create your own JSON document to store information about yourself and the grades you've received from week 1 to week 4 and the week 6 quiz.  That is, everything you should have received a grade for.  Then you'll need to show me you know how to navigate the JSON in that file.\n",
        "\n",
        "Different from what we've done in the past, you do not have to write any functions or include any docstrings.  Just create some JSON and write some code.\n",
        "\n",
        "---"
      ]
    },
    {
      "cell_type": "markdown",
      "metadata": {
        "id": "nz1w_VkvezY9"
      },
      "source": [
        "## 7.1 Create a JSON file\n",
        "\n",
        "Create a JSON file that contains your name, email, year you were born, all of the grades you've received back so far, and a comment about what you thought was most challenging on each of those assignments.  This can be any structure you choose, but make sure it uses a dictionary and a list, and has at least two levels of hierarchy.  That is, it can't just be one big long list."
      ]
    },
    {
      "cell_type": "markdown",
      "metadata": {
        "id": "ZBGPEHN2ezY9"
      },
      "source": [
        "First, explain how your data structure is going to look..."
      ]
    },
    {
      "cell_type": "markdown",
      "source": [
        "My data structure of JSON:\n",
        "The JSON will have a main object containing the following keys:\n",
        "\n",
        "\"personal_info\": An object with your name, email, and birth year\n",
        "\"grades\": An array of objects, each representing an assignment with its grade and a comment"
      ],
      "metadata": {
        "id": "G0PfqnKCipIh"
      }
    },
    {
      "cell_type": "markdown",
      "source": [
        "Put your explanation here in text..."
      ],
      "metadata": {
        "id": "GPCDgUcetA8C"
      }
    },
    {
      "cell_type": "markdown",
      "source": [
        "{\n",
        "  \"personal_info\": {\n",
        "    \"name\": \"Sravanthi Tyalapally Sri Sai\",\n",
        "    \"email\": [\"styalapallysrisa@slu.edu\", \"drtsssravanthi@gmail.com\"],\n",
        "    \"birth_year\": 1998\n",
        "  },\n",
        "  \"grades\": [\n",
        "    {\n",
        "      \"week\": 1,\n",
        "      \"score\": 10,\n",
        "      \"max_score\": 10,\n",
        "      \"comment\": \"Found time management to be challenging while getting used to the course structure.\"\n",
        "    },\n",
        "    {\n",
        "      \"week\": 2,\n",
        "      \"score\": 8,\n",
        "      \"max_score\": 10,\n",
        "      \"comment\": \"The concept of functions was a bit tricky to grasp initially.\"\n",
        "    },\n",
        "    {\n",
        "      \"week\": 3,\n",
        "      \"score\": 11,\n",
        "      \"max_score\": 10,\n",
        "      \"comment\": \"Struggled with some of the more complex logical operations.\"\n",
        "    },\n",
        "    {\n",
        "      \"week\": 4,\n",
        "      \"score\": 12,\n",
        "      \"max_score\": 10,\n",
        "      \"comment\": \"Working with file I/O operations was new and took some time to understand.\"\n",
        "    },\n",
        "    {\n",
        "      \"week\":6 quiz,\n",
        "      \"score\": null,\n",
        "      \"max_score\": 10,\n",
        "      \"comment\": \"Quiz not yet done its on 10/16 focusing on the content from the first seven weeks of the course.\n",
        "    }\n",
        "  ]\n",
        "}"
      ],
      "metadata": {
        "id": "SSRPNt90i2aL"
      }
    },
    {
      "cell_type": "markdown",
      "metadata": {
        "id": "sh7A-5tIezY-"
      },
      "source": [
        "* Put your explanation here in text..."
      ]
    },
    {
      "cell_type": "markdown",
      "metadata": {
        "id": "p3PZj208ezY-"
      },
      "source": [
        "Then put the actual JSON you've created inside the multiline string below..."
      ]
    },
    {
      "cell_type": "code",
      "execution_count": 1,
      "metadata": {
        "id": "B6LRC2yYezY-"
      },
      "outputs": [],
      "source": [
        "import json\n",
        "\n",
        "# Your JSON string (normally this would be read from a file)\n",
        "hds5210 = '''\n",
        "{\n",
        "  \"personal_info\": {\n",
        "    \"name\": \"Sravanthi Tyalapally Sri Sai\",\n",
        "    \"email\": [\"styalapallysrisa@slu.edu\", \"drtsssravanthi@gmail.com\"],\n",
        "    \"birth_year\": 1998\n",
        "  },\n",
        "  \"grades\": [\n",
        "    {\n",
        "      \"week\": 1,\n",
        "      \"score\": 10,\n",
        "      \"max_score\": 10,\n",
        "      \"comment\": \"Found time management to be challenging while getting used to the course structure.\"\n",
        "    },\n",
        "    {\n",
        "      \"week\": 2,\n",
        "      \"score\": 8,\n",
        "      \"max_score\": 10,\n",
        "      \"comment\": \"The concept of functions was a bit tricky to grasp initially.\"\n",
        "    },\n",
        "    {\n",
        "      \"week\": 3,\n",
        "      \"score\": 11,\n",
        "      \"max_score\": 10,\n",
        "      \"comment\": \"Struggled with some of the more complex logical operations.\"\n",
        "    },\n",
        "    {\n",
        "      \"week\": 4,\n",
        "      \"score\": 12,\n",
        "      \"max_score\": 10,\n",
        "      \"comment\": \"Working with file I/O operations was new and took some time to understand.\"\n",
        "    },\n",
        "    {\n",
        "      \"week\": 6,\n",
        "      \"score\": null,\n",
        "      \"max_score\": 10,\n",
        "      \"comment\": \"Quiz not yet done its on 10/16 focusing on the content from the first seven weeks of the course.\"\n",
        "    }\n",
        "  ]\n",
        "}\n",
        "'''\n"
      ]
    },
    {
      "cell_type": "code",
      "source": [
        "    # Load the JSON data\n",
        "    data = json.loads(hds5210)\n",
        "\n",
        "    # Access personal information\n",
        "    name = data['personal_info']['name']\n",
        "    primary_email = data['personal_info']['email'][0]\n",
        "    birth_year = data['personal_info']['birth_year']\n",
        "\n",
        "    print(f\"Name: {name}\")\n",
        "    print(f\"Primary Email: {primary_email}\")\n",
        "    print(f\"Birth Year: {birth_year}\")\n",
        "\n",
        "    # Access grades\n",
        "    print(\"\\nGrades:\")\n",
        "    for assignment in data['grades']:\n",
        "        week = assignment['week']\n",
        "        score = assignment['score']\n",
        "        max_score = assignment['max_score']\n",
        "        comment = assignment['comment']\n",
        "\n",
        "        if score is not None:\n",
        "            print(f\"Week {week}: {score}/{max_score}\")\n",
        "            print(f\"Comment: {comment}\\n\")\n",
        "        else:\n",
        "            print(f\"Week {week}: Not graded yet\")\n",
        "            print(f\"Comment: {comment}\\n\")\n"
      ],
      "metadata": {
        "id": "MhSSUKXVluDJ",
        "outputId": "c13c071f-39cc-42fa-cb62-56f92bb48e48",
        "colab": {
          "base_uri": "https://localhost:8080/"
        }
      },
      "execution_count": 2,
      "outputs": [
        {
          "output_type": "stream",
          "name": "stdout",
          "text": [
            "Name: Sravanthi Tyalapally Sri Sai\n",
            "Primary Email: styalapallysrisa@slu.edu\n",
            "Birth Year: 1998\n",
            "\n",
            "Grades:\n",
            "Week 1: 10/10\n",
            "Comment: Found time management to be challenging while getting used to the course structure.\n",
            "\n",
            "Week 2: 8/10\n",
            "Comment: The concept of functions was a bit tricky to grasp initially.\n",
            "\n",
            "Week 3: 11/10\n",
            "Comment: Struggled with some of the more complex logical operations.\n",
            "\n",
            "Week 4: 12/10\n",
            "Comment: Working with file I/O operations was new and took some time to understand.\n",
            "\n",
            "Week 6: Not graded yet\n",
            "Comment: Quiz not yet done its on 10/16 focusing on the content from the first seven weeks of the course.\n",
            "\n"
          ]
        }
      ]
    },
    {
      "cell_type": "code",
      "source": [
        "# Calculate average score\n",
        "graded_assignments = [a for a in data['grades'] if a['score'] is not None]\n",
        "if graded_assignments:\n",
        "        average_score = sum(a['score'] for a in graded_assignments) / len(graded_assignments)\n",
        "        print(f\"Average Score: {average_score:.2f}\")\n",
        "\n",
        "        # Find the most challenging assignment (lowest score)\n",
        "        most_challenging = min(graded_assignments, key=lambda x: x['score'])\n",
        "        print(f\"\\nMost challenging assignment: Week {most_challenging['week']}\")\n",
        "        print(f\"Score: {most_challenging['score']}/{most_challenging['max_score']}\")\n",
        "        print(f\"Comment: {most_challenging['comment']}\")\n",
        "else:\n",
        "        print(\"No graded assignments yet.\")"
      ],
      "metadata": {
        "id": "BF_h-VG6l1Vg",
        "outputId": "05179f13-e619-444b-a8a4-3454d753f1dc",
        "colab": {
          "base_uri": "https://localhost:8080/"
        }
      },
      "execution_count": 3,
      "outputs": [
        {
          "output_type": "stream",
          "name": "stdout",
          "text": [
            "Average Score: 10.25\n",
            "\n",
            "Most challenging assignment: Week 2\n",
            "Score: 8/10\n",
            "Comment: The concept of functions was a bit tricky to grasp initially.\n"
          ]
        }
      ]
    },
    {
      "cell_type": "markdown",
      "metadata": {
        "id": "lXPce5rqezY_"
      },
      "source": [
        "## 7.2 Do something with your JSON\n",
        "\n",
        "Now use Python code to do something with the Json above.  Turn it into English text, but make sure that you use at least one loop to access some dict or list content of your JSON.  Below, I've provided some basic code to read in the string above as JSON and return a Python object.  Your job is to work with that data structure and print out the important information like your name, email, and how you did on each assignment."
      ]
    },
    {
      "cell_type": "code",
      "execution_count": 4,
      "metadata": {
        "id": "dAFHobq6ezY_"
      },
      "outputs": [],
      "source": [
        "import json\n",
        "\n",
        "info = json.loads(hds5210)\n",
        "# Put your code to output a paragraph of English text here"
      ]
    },
    {
      "cell_type": "code",
      "source": [
        "import json\n",
        "\n",
        "# Assuming the JSON string is stored in the variable hds5210\n",
        "info = json.loads(hds5210)\n",
        "\n",
        "# Extract personal information\n",
        "name = info['personal_info']['name']\n",
        "emails = ', '.join(info['personal_info']['email'])\n",
        "birth_year = info['personal_info']['birth_year']\n",
        "\n",
        "# Generate summary of personal information\n",
        "summary = f\"{name}, born in {birth_year}, can be reached at {emails}. \"\n",
        "\n",
        "# Process grades\n",
        "total_score = 0\n",
        "total_max_score = 0\n",
        "graded_assignments = 0\n",
        "challenging_assignments = []\n",
        "\n",
        "for assignment in info['grades']:\n",
        "    week = assignment['week']\n",
        "    score = assignment['score']\n",
        "    max_score = assignment['max_score']\n",
        "    comment = assignment['comment']\n",
        "\n",
        "    if score is not None:\n",
        "        total_score += score\n",
        "        total_max_score += max_score\n",
        "        graded_assignments += 1\n",
        "\n",
        "        performance = \"did well on\" if score >= max_score else \"found challenging\"\n",
        "        summary += f\"For Week {week}, {name} {performance} the assignment, scoring {score}/{max_score}. \"\n",
        "\n",
        "        if score < max_score:\n",
        "            challenging_assignments.append(f\"Week {week}\")\n",
        "    else:\n",
        "        summary += f\"The Week {week} assignment is not yet graded. \"\n",
        "\n",
        "    summary += f\"{name} noted: '{comment}' \"\n",
        "\n"
      ],
      "metadata": {
        "id": "96F3g-V7pWKu"
      },
      "execution_count": 5,
      "outputs": []
    },
    {
      "cell_type": "code",
      "source": [
        "# Calculate and add average score if there are graded assignments\n",
        "if graded_assignments > 0:\n",
        "    average_score = total_score / graded_assignments\n",
        "    summary += f\"\\nOverall, {name}'s average score is {average_score:.2f} out of {total_max_score/graded_assignments:.2f}. \""
      ],
      "metadata": {
        "id": "lyCOrPtRplZr"
      },
      "execution_count": 6,
      "outputs": []
    },
    {
      "cell_type": "code",
      "source": [
        "# Add information about challenging assignments\n",
        "if challenging_assignments:\n",
        "    if len(challenging_assignments) == 1:\n",
        "        summary += f\"The most challenging assignment appears to be {challenging_assignments[0]}. \"\n",
        "    else:\n",
        "        challenging_list = \", \".join(challenging_assignments[:-1]) + f\" and {challenging_assignments[-1]}\"\n",
        "        summary += f\"The most challenging assignments appear to be {challenging_list}. \"\n",
        "else:\n",
        "    summary += f\"{name} seems to be performing well across all graded assignments. \"\n",
        "\n",
        "# Print the generated summary\n",
        "print(summary)"
      ],
      "metadata": {
        "id": "30LxyXYapflZ",
        "outputId": "d09c7190-a483-4508-8bd7-442f8fd43535",
        "colab": {
          "base_uri": "https://localhost:8080/"
        }
      },
      "execution_count": 7,
      "outputs": [
        {
          "output_type": "stream",
          "name": "stdout",
          "text": [
            "Sravanthi Tyalapally Sri Sai, born in 1998, can be reached at styalapallysrisa@slu.edu, drtsssravanthi@gmail.com. For Week 1, Sravanthi Tyalapally Sri Sai did well on the assignment, scoring 10/10. Sravanthi Tyalapally Sri Sai noted: 'Found time management to be challenging while getting used to the course structure.' For Week 2, Sravanthi Tyalapally Sri Sai found challenging the assignment, scoring 8/10. Sravanthi Tyalapally Sri Sai noted: 'The concept of functions was a bit tricky to grasp initially.' For Week 3, Sravanthi Tyalapally Sri Sai did well on the assignment, scoring 11/10. Sravanthi Tyalapally Sri Sai noted: 'Struggled with some of the more complex logical operations.' For Week 4, Sravanthi Tyalapally Sri Sai did well on the assignment, scoring 12/10. Sravanthi Tyalapally Sri Sai noted: 'Working with file I/O operations was new and took some time to understand.' The Week 6 assignment is not yet graded. Sravanthi Tyalapally Sri Sai noted: 'Quiz not yet done its on 10/16 focusing on the content from the first seven weeks of the course.' \n",
            "Overall, Sravanthi Tyalapally Sri Sai's average score is 10.25 out of 10.00. The most challenging assignment appears to be Week 2. \n"
          ]
        }
      ]
    },
    {
      "cell_type": "markdown",
      "metadata": {
        "id": "-EMOEVHNezZA"
      },
      "source": [
        "## 7.3 Reflect\n",
        "\n",
        "Write a paragraph on any reflections you have. Was this hard? Easy?  What parts were most challenging or easiest? What did you like or dislike about the assignment?  Share whatever important thoughts you have abou this assignment."
      ]
    },
    {
      "cell_type": "markdown",
      "metadata": {
        "id": "RoB4x7rZezZA"
      },
      "source": [
        "* Put your response here"
      ]
    },
    {
      "cell_type": "markdown",
      "source": [
        "This assignment consisted of both easy and difficult portions. Creating the JSON structure was simple, as it only required organizing my personal information and grades in a logical order. The more difficult element was building Python code to interact with the JSON data, particularly when it came to looping through the grades and extracting the necessary information. It was difficult to handle ungraded assignments while also ensuring that the system did not break owing to missing data. What piqued my interest was how programming can convert raw data into a legible and relevant summary, demonstrating the use of these skills in real-world applications. Overall, I enjoyed the creative part of crafting the summary, and I appreciated how this task integrated what we had studied about data structures to practical use."
      ],
      "metadata": {
        "id": "homkvR2Ss2vO"
      }
    },
    {
      "cell_type": "markdown",
      "metadata": {
        "id": "XeynpW9QezZA"
      },
      "source": [
        "---\n",
        "\n",
        "# Example\n",
        "\n",
        "Below is an example of something similar, but this uses information my and my friend's kids instead of grades."
      ]
    },
    {
      "cell_type": "code",
      "execution_count": 8,
      "metadata": {
        "id": "x6MYJAthezZB",
        "outputId": "5277463f-3d70-48e9-d395-7e454219f49c",
        "colab": {
          "base_uri": "https://localhost:8080/"
        }
      },
      "outputs": [
        {
          "output_type": "stream",
          "name": "stdout",
          "text": [
            "Hi, my name is Paul. I've got 3 kids. Their names are Ellie, Ada, Teddy.\n",
            "My friend, Anny has 1 kids. That's fewer than me. Their names are 1\n"
          ]
        }
      ],
      "source": [
        "hds5210 = \"\"\"\n",
        "{\n",
        "    \"me\": {\n",
        "        \"name\": \"Paul\",\n",
        "        \"kids\": [\"Ellie\", \"Ada\", \"Teddy\"]\n",
        "    },\n",
        "    \"friend\": {\n",
        "        \"name\": \"Anny\",\n",
        "        \"kids\": [\"Abby\"]\n",
        "    }\n",
        "}\n",
        "\"\"\"\n",
        "\n",
        "import json\n",
        "\n",
        "info = json.loads(hds5210)\n",
        "\n",
        "me = info[\"me\"][\"name\"]\n",
        "my_kids_count = len(info[\"me\"][\"kids\"])\n",
        "kids_list = \", \".join(info[\"me\"][\"kids\"])\n",
        "friend = info[\"friend\"][\"name\"]\n",
        "friends_kid_count = len(info[\"friend\"][\"kids\"])\n",
        "friend_kids = \", \".join(info[\"friend\"][\"kids\"])\n",
        "compare = \"more\" if friends_kid_count > my_kids_count else \"fewer\"\n",
        "\n",
        "print(f\"Hi, my name is {me}. I've got {my_kids_count} kids. Their names are {kids_list}.\")\n",
        "print(f\"My friend, {friend} has {friends_kid_count} kids. That's {compare} than me. Their names are {friends_kid_count}\")"
      ]
    }
  ],
  "metadata": {
    "kernelspec": {
      "display_name": "Python 3",
      "language": "python",
      "name": "python3"
    },
    "language_info": {
      "codemirror_mode": {
        "name": "ipython",
        "version": 3
      },
      "file_extension": ".py",
      "mimetype": "text/x-python",
      "name": "python",
      "nbconvert_exporter": "python",
      "pygments_lexer": "ipython3",
      "version": "3.9.16"
    },
    "colab": {
      "provenance": [],
      "include_colab_link": true
    }
  },
  "nbformat": 4,
  "nbformat_minor": 0
}