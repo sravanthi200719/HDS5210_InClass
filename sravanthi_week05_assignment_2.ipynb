{
  "cells": [
    {
      "cell_type": "markdown",
      "metadata": {
        "id": "view-in-github",
        "colab_type": "text"
      },
      "source": [
        "<a href=\"https://colab.research.google.com/github/sravanthi200719/HDS5210_InClass/blob/master/sravanthi_week05_assignment_2.ipynb\" target=\"_parent\"><img src=\"https://colab.research.google.com/assets/colab-badge.svg\" alt=\"Open In Colab\"/></a>"
      ]
    },
    {
      "cell_type": "markdown",
      "metadata": {
        "nbgrader": {
          "grade": false,
          "grade_id": "intro",
          "locked": true,
          "schema_version": 1,
          "solution": false
        },
        "id": "wkG0n5c3qjPU"
      },
      "source": [
        "# Week 5 Exercises\n",
        "\n",
        "_McKinney 3.2_\n",
        "\n",
        "**Unlike in previous weeks, in the exercises below, you will need to create a function definition from scratch.  I'll provide specific instructions and examples for how it will be used, but you will have to do the work of definiging the whole function.**\n",
        "\n",
        "---\n",
        "---"
      ]
    },
    {
      "cell_type": "markdown",
      "metadata": {
        "nbgrader": {
          "grade": false,
          "grade_id": "longest",
          "locked": true,
          "schema_version": 1,
          "solution": false
        },
        "id": "VdpQBS4xqjPV"
      },
      "source": [
        "### 5.1 Longest String\n",
        "\n",
        "Write a function called `longest (L)` that takes as its only parameter a list of strings.  Your function needs to find the longest of those strings and return the position number of that longest string.  An example is provided below:\n",
        "\n",
        "The longest word in that list of strings is \"birthday\" in position #1, so `longest(strings)` should return 1.\n",
        "```\n",
        ">>> strings = ['happy', 'birthday', 'to', 'me']\n",
        ">>> longest(strings)\n",
        "1\n",
        "```\n",
        "\n",
        "Be sure to include a docstring.  Include test cases in your docstring if you want to."
      ]
    },
    {
      "cell_type": "code",
      "execution_count": 1,
      "metadata": {
        "nbgrader": {
          "grade": false,
          "grade_id": "longest-answer",
          "locked": false,
          "schema_version": 1,
          "solution": true
        },
        "id": "lvSrzob1qjPV"
      },
      "outputs": [],
      "source": [
        "### BEGIN SOLUTION\n",
        "\n",
        "def longest(strings):\n",
        "    \"\"\"(list) -> int\n",
        "    This function finds the longest string in the list of input strings\n",
        "    and returns the position number of that longest string.\n",
        "\n",
        "    >>> longest(['happy', 'birthday', 'to', 'me'])\n",
        "    1\n",
        "\n",
        "    >>> longest(['one', 'two', 'three', 'four'])\n",
        "    2\n",
        "    \"\"\"\n",
        "\n",
        "    longest_pos = 0\n",
        "    longest_len = 0\n",
        "\n",
        "    print(\"Position  Item         Longest So Far\")\n",
        "    print(\"--------- ------------ --------------\")\n",
        "    for position, item in enumerate(strings):\n",
        "\n",
        "        if len(item) > longest_len:\n",
        "            longest_pos = position\n",
        "            longest_len = len(item)\n",
        "        print(\"{0:9} {1:12} {2} : {3}\".format(position, item, longest_pos, longest_len))\n",
        "\n",
        "    return longest_pos\n",
        "\n",
        "### END SOLUTION"
      ]
    },
    {
      "cell_type": "code",
      "source": [
        "def longest(strings):\n",
        "    \"\"\"(list) -> int\n",
        "    This function finds the longest string in the list of input strings\n",
        "    and returns the position number of that longest string.\n",
        "\n",
        "    >>> longest(['happy', 'birthday', 'to', 'me'])\n",
        "    1\n",
        "\n",
        "    >>> longest(['one', 'two', 'three', 'four'])\n",
        "    2\n",
        "\n",
        "    >>> longest(['a', 'ab', 'abc', 'abcd'])\n",
        "    3\n",
        "\n",
        "    >>> longest(['apple', 'banana', 'cherry', 'date'])\n",
        "    1\n",
        "    \"\"\"\n",
        "\n",
        "    if not strings:\n",
        "        return -1  # Return -1 for an empty list to indicate no position\n",
        "\n",
        "    longest_pos = 0\n",
        "    longest_len = len(strings[0])  # Initialize with the length of the first string\n",
        "\n",
        "    for position, item in enumerate(strings):\n",
        "        if len(item) > longest_len:\n",
        "            longest_pos = position\n",
        "            longest_len = len(item)\n",
        "\n",
        "    return longest_pos\n"
      ],
      "metadata": {
        "id": "2LRkHSoHqqE4"
      },
      "execution_count": 2,
      "outputs": []
    },
    {
      "cell_type": "code",
      "execution_count": 3,
      "metadata": {
        "id": "hFSSInQXqjPW"
      },
      "outputs": [],
      "source": [
        "def longest(my_list):\n",
        "    \"\"\"(list)->int\n",
        "    Find the longest item in a list of strings and return the index for that string.\n",
        "    If there are multiple strings with the same length, return the index of the first of those longest strings.\n",
        "\n",
        "    >>> longest(['happy', 'birthday', 'to', 'me'])\n",
        "    1\n",
        "\n",
        "    >>> longest(['abc','def','ghi'])\n",
        "    0\n",
        "    \"\"\"\n",
        "\n",
        "    if type(my_list) != list:\n",
        "        raise TypeError(\"That isn't a list!\")\n",
        "\n",
        "    if len(my_list) == 0:\n",
        "        raise ValueError(\"There were no items in that list!\")\n",
        "\n",
        "    max_length = -1\n",
        "    max_index = None\n",
        "\n",
        "    for num, item in enumerate(my_list):\n",
        "        try:\n",
        "            if len(item) > max_length:\n",
        "                max_length = len(item)\n",
        "                max_index = num\n",
        "        except:\n",
        "            pass\n",
        "\n",
        "    return max_index\n"
      ]
    },
    {
      "cell_type": "code",
      "source": [
        "def longest(my_list):\n",
        "    \"\"\"(list) -> int\n",
        "    Find the longest item in a list of strings and return the index for that string.\n",
        "    If there are multiple strings with the same length, return the index of the first of those longest strings.\n",
        "\n",
        "    >>> longest(['happy', 'birthday', 'to', 'me'])\n",
        "    1\n",
        "\n",
        "    >>> longest(['abc', 'def', 'ghi'])\n",
        "    0\n",
        "\n",
        "    >>> longest(['happy', 'birthday', 2, 'me'])\n",
        "    1  # Ignores the integer and returns the index of the longest string.\n",
        "\n",
        "    >>> longest([])\n",
        "    -1  # No strings in the list.\n",
        "    \"\"\"\n",
        "\n",
        "    if not isinstance(my_list, list):\n",
        "        return \"Input must be a list!\"  # Return a message instead of raising an error\n",
        "\n",
        "    max_length = -1\n",
        "    max_index = -1\n",
        "\n",
        "    for num, item in enumerate(my_list):\n",
        "        if isinstance(item, str):  # Only consider string items\n",
        "            if len(item) > max_length:\n",
        "                max_length = len(item)\n",
        "                max_index = num\n",
        "\n",
        "    return max_index  # Will return -1 if no strings are found\n"
      ],
      "metadata": {
        "id": "YJkj4YiZNNCv"
      },
      "execution_count": 4,
      "outputs": []
    },
    {
      "cell_type": "code",
      "execution_count": 5,
      "metadata": {
        "id": "T5p_W4eFqjPW",
        "outputId": "b911deb7-66d1-4ef4-d05a-c2d6e3b2f324",
        "colab": {
          "base_uri": "https://localhost:8080/"
        }
      },
      "outputs": [
        {
          "output_type": "execute_result",
          "data": {
            "text/plain": [
              "1"
            ]
          },
          "metadata": {},
          "execution_count": 5
        }
      ],
      "source": [
        "longest(['happy', 'birthday', 2, 'me'])"
      ]
    },
    {
      "cell_type": "code",
      "execution_count": 6,
      "metadata": {
        "id": "Kl5g8ClFqjPX",
        "outputId": "dd73170a-cf2a-4e60-d516-507ff3c3d322",
        "colab": {
          "base_uri": "https://localhost:8080/"
        }
      },
      "outputs": [
        {
          "output_type": "execute_result",
          "data": {
            "text/plain": [
              "1"
            ]
          },
          "metadata": {},
          "execution_count": 6
        }
      ],
      "source": [
        "longest(['happy', 'birthday', 'to', 'me'])"
      ]
    },
    {
      "cell_type": "code",
      "execution_count": 7,
      "metadata": {
        "nbgrader": {
          "grade": true,
          "grade_id": "longest-tests",
          "locked": true,
          "points": 10,
          "schema_version": 1,
          "solution": false
        },
        "id": "bqftQlZFqjPX"
      },
      "outputs": [],
      "source": [
        "assert longest(\"happy birthday to me\".split(\" \")) == 1\n",
        "assert longest(\"enjoy class\".split(\" \")) == 0\n",
        "assert longest(['when','what','where','how','who']) == 2"
      ]
    },
    {
      "cell_type": "code",
      "execution_count": 8,
      "metadata": {
        "id": "dTqh52R7qjPX",
        "outputId": "15050d30-7186-48be-843d-61078c581f2f",
        "colab": {
          "base_uri": "https://localhost:8080/"
        }
      },
      "outputs": [
        {
          "output_type": "stream",
          "name": "stderr",
          "text": [
            "\n",
            "PYDEV DEBUGGER WARNING:\n",
            "sys.settrace() should not be used when the debugger is being used.\n",
            "This may cause the debugger to stop working correctly.\n",
            "If this is needed, please check: \n",
            "http://pydev.blogspot.com/2007/06/why-cant-pydev-debugger-work-with.html\n",
            "to see how to restore the debug tracing back correctly.\n",
            "Call Location:\n",
            "  File \"/usr/lib/python3.10/doctest.py\", line 1501, in run\n",
            "    sys.settrace(save_trace)\n",
            "\n"
          ]
        },
        {
          "output_type": "stream",
          "name": "stdout",
          "text": [
            "Finding tests in NoName\n",
            "Trying:\n",
            "    longest(['happy', 'birthday', 'to', 'me'])\n",
            "Expecting:\n",
            "    1\n",
            "ok\n",
            "Trying:\n",
            "    longest(['abc', 'def', 'ghi'])\n",
            "Expecting:\n",
            "    0\n",
            "ok\n",
            "Trying:\n",
            "    longest(['happy', 'birthday', 2, 'me'])\n",
            "Expecting:\n",
            "    1  # Ignores the integer and returns the index of the longest string.\n",
            "**********************************************************************\n",
            "File \"__main__\", line 12, in NoName\n",
            "Failed example:\n",
            "    longest(['happy', 'birthday', 2, 'me'])\n",
            "Expected:\n",
            "    1  # Ignores the integer and returns the index of the longest string.\n",
            "Got:\n",
            "    1\n",
            "Trying:\n",
            "    longest([])\n",
            "Expecting:\n",
            "    -1  # No strings in the list.\n",
            "**********************************************************************\n",
            "File \"__main__\", line 15, in NoName\n",
            "Failed example:\n",
            "    longest([])\n",
            "Expected:\n",
            "    -1  # No strings in the list.\n",
            "Got:\n",
            "    -1\n"
          ]
        }
      ],
      "source": [
        "import doctest\n",
        "doctest.run_docstring_examples(longest, globals(), verbose=True)"
      ]
    },
    {
      "cell_type": "code",
      "source": [
        "### MY OWN TEST CASES  1.\n",
        "def custom_tests():\n",
        "\n",
        "    # Basic functionality test\n",
        "    result = longest(['happy', 'birthday', 'to', 'me'])\n",
        "    print(\"Test 1 - longest(['happy', 'birthday', 'to', 'me']):\", result)  # Expected: 1\n",
        "\n",
        "    # Test using split on a string\n",
        "    result = longest(\"happy birthday to me\".split(\" \"))\n",
        "    print(\"Test 2 - longest('happy birthday to me'.split()):\", result)  # Expected: 1\n",
        "\n",
        "    result = longest(\"enjoy class\".split(\" \"))\n",
        "    print(\"Test 3 - longest('enjoy class'.split()):\", result)  # Expected: 0\n",
        "\n",
        "    # More string comparisons\n",
        "    result = longest(['when', 'what', 'where', 'how', 'who'])\n",
        "    print(\"Test 4 - longest(['when', 'what', 'where', 'how', 'who']):\", result)  # Expected: 2\n",
        "\n",
        "    # Additional test cases\n",
        "    result = longest(['a', 'ab', 'abc', 'abcd'])\n",
        "    print(\"Test 5 - longest(['a', 'ab', 'abc', 'abcd']):\", result)  # Expected: 3\n",
        "\n",
        "    result = longest(['apple', 'banana', 'kiwi', 'mango'])\n",
        "    print(\"Test 6 - longest(['apple', 'banana', 'kiwi', 'mango']):\", result)  # Expected: 1\n",
        "\n",
        "    result = longest(['123', '4567', '89'])\n",
        "    print(\"Test 7 - longest(['123', '4567', '89']):\", result)  # Expected: 1\n",
        "\n",
        "    # Edge case with empty strings\n",
        "    result = longest(['', ''])\n",
        "    print(\"Test 8 - longest(['', '']):\", result)  # Expected: 0\n",
        "\n",
        "    print(\"All custom tests executed!\")\n",
        "\n",
        "# Run custom tests\n",
        "custom_tests()\n",
        "\n",
        "\n"
      ],
      "metadata": {
        "id": "RbLYZfYBtC69",
        "outputId": "b348bdba-5e89-4afc-b8ac-79ea0e2f4a05",
        "colab": {
          "base_uri": "https://localhost:8080/"
        }
      },
      "execution_count": 9,
      "outputs": [
        {
          "output_type": "stream",
          "name": "stdout",
          "text": [
            "Test 1 - longest(['happy', 'birthday', 'to', 'me']): 1\n",
            "Test 2 - longest('happy birthday to me'.split()): 1\n",
            "Test 3 - longest('enjoy class'.split()): 0\n",
            "Test 4 - longest(['when', 'what', 'where', 'how', 'who']): 2\n",
            "Test 5 - longest(['a', 'ab', 'abc', 'abcd']): 3\n",
            "Test 6 - longest(['apple', 'banana', 'kiwi', 'mango']): 1\n",
            "Test 7 - longest(['123', '4567', '89']): 1\n",
            "Test 8 - longest(['', '']): 0\n",
            "All custom tests executed!\n"
          ]
        }
      ]
    },
    {
      "cell_type": "code",
      "source": [
        "#  MY OWN TEST CASE for longest function 2.\n",
        "result = longest(['elephant', 'cat', 'giraffe', 'hippopotamus'])\n",
        "print(\"Test - longest(['elephant', 'cat', 'giraffe', 'hippopotamus']):\", result)  # Expected: 3\n"
      ],
      "metadata": {
        "id": "yxEFYSm4tv1b",
        "outputId": "2bad7b44-df4c-4193-8f34-024e7415df8e",
        "colab": {
          "base_uri": "https://localhost:8080/"
        }
      },
      "execution_count": 10,
      "outputs": [
        {
          "output_type": "stream",
          "name": "stdout",
          "text": [
            "Test - longest(['elephant', 'cat', 'giraffe', 'hippopotamus']): 3\n"
          ]
        }
      ]
    },
    {
      "cell_type": "markdown",
      "metadata": {
        "id": "fQX-zv2oqjPY"
      },
      "source": [
        "### 5.2 Celsius to Farenheit\n",
        "\n",
        "Write a function called f_to_c() that converts a given temperature in degrees Farenheit to degrees Celsius.  If you don't recall that conversion, it is:\n",
        "\n",
        "$ temp_c = \\frac{5}{9} \\times (temp_f - 32) $\n",
        "\n",
        "Make sure that you code is well documented using the DocString examples, and that your code includes tests for 212f, 32f, and 98.6f."
      ]
    },
    {
      "cell_type": "code",
      "execution_count": 11,
      "metadata": {
        "id": "ijhnhaNJqjPY"
      },
      "outputs": [],
      "source": [
        "### BEGIN SOLUTION\n",
        "\n",
        "\n",
        "### END SOLUTION"
      ]
    },
    {
      "cell_type": "code",
      "source": [
        "def f_to_c(tempf):\n",
        "    \"\"\"(float) -> float\n",
        "    Convert temperature from degrees Fahrenheit to degrees Celsius using the formula:\n",
        "\n",
        "    tempc = (5/9) * (tempf - 32)\n",
        "\n",
        "    >>> f_to_c(212)\n",
        "    100.0\n",
        "\n",
        "    >>> f_to_c(32)\n",
        "    0.0\n",
        "\n",
        "    >>> f_to_c(98.6)\n",
        "    37.0\n",
        "    \"\"\"\n",
        "    tempc = (5 / 9) * (tempf - 32)\n",
        "    return tempc\n",
        "\n",
        "# Running the tests\n",
        "if __name__ == \"__main__\":\n",
        "    import doctest\n",
        "    doctest.testmod()\n"
      ],
      "metadata": {
        "id": "WX35Utb6uOk_",
        "outputId": "292fb95e-1994-4d4a-adf3-0fb44df1d60c",
        "colab": {
          "base_uri": "https://localhost:8080/"
        }
      },
      "execution_count": 12,
      "outputs": [
        {
          "output_type": "stream",
          "name": "stdout",
          "text": [
            "**********************************************************************\n",
            "File \"__main__\", line 12, in __main__.longest\n",
            "Failed example:\n",
            "    longest(['happy', 'birthday', 2, 'me'])\n",
            "Expected:\n",
            "    1  # Ignores the integer and returns the index of the longest string.\n",
            "Got:\n",
            "    1\n",
            "**********************************************************************\n",
            "File \"__main__\", line 15, in __main__.longest\n",
            "Failed example:\n",
            "    longest([])\n",
            "Expected:\n",
            "    -1  # No strings in the list.\n",
            "Got:\n",
            "    -1\n",
            "**********************************************************************\n",
            "1 items had failures:\n",
            "   2 of   4 in __main__.longest\n",
            "***Test Failed*** 2 failures.\n"
          ]
        }
      ]
    },
    {
      "cell_type": "code",
      "execution_count": 13,
      "metadata": {
        "id": "jYJO79_ZqjPY"
      },
      "outputs": [],
      "source": [
        "assert f_to_c(212) == 100.0\n",
        "assert f_to_c(32) == 0.0\n",
        "assert f_to_c(98.6) == 37.0"
      ]
    },
    {
      "cell_type": "code",
      "execution_count": 14,
      "metadata": {
        "id": "l0IZyTxxqjPY",
        "outputId": "1028a62e-c117-4a86-e30b-357f852fc6b2",
        "colab": {
          "base_uri": "https://localhost:8080/"
        }
      },
      "outputs": [
        {
          "output_type": "execute_result",
          "data": {
            "text/plain": [
              "100.0"
            ]
          },
          "metadata": {},
          "execution_count": 14
        }
      ],
      "source": [
        "f_to_c(212)"
      ]
    },
    {
      "cell_type": "code",
      "execution_count": 15,
      "metadata": {
        "id": "NQo6iy-UqjPY",
        "outputId": "fde9bf65-f72f-4769-8196-ff5b8e1824ba",
        "colab": {
          "base_uri": "https://localhost:8080/"
        }
      },
      "outputs": [
        {
          "output_type": "stream",
          "name": "stdout",
          "text": [
            "Finding tests in NoName\n",
            "Trying:\n",
            "    f_to_c(212)\n",
            "Expecting:\n",
            "    100.0\n",
            "ok\n",
            "Trying:\n",
            "    f_to_c(32)\n",
            "Expecting:\n",
            "    0.0\n",
            "ok\n",
            "Trying:\n",
            "    f_to_c(98.6)\n",
            "Expecting:\n",
            "    37.0\n",
            "ok\n"
          ]
        }
      ],
      "source": [
        "import doctest\n",
        "doctest.run_docstring_examples(f_to_c, globals(), verbose=True)"
      ]
    },
    {
      "cell_type": "code",
      "source": [
        "### MY OWN TEST CASES 1. .\n",
        "def custom_tests():\n",
        "    # Test cases\n",
        "    test_cases = [\n",
        "        (212, 100.0),    # Boiling point of water\n",
        "        (32, 0.0),       # Freezing point of water\n",
        "        (98.6, 37.0),    # Average body temperature\n",
        "        (0, -17.7778),   # Below freezing\n",
        "        (-40, -40.0),    # Same in both scales\n",
        "        (100, 37.7778),  # Above freezing\n",
        "        (68, 20.0),      # Room temperature\n",
        "        (0, -17.7778)    # Freezing point\n",
        "    ]\n",
        "\n",
        "    for tempf, expected in test_cases:\n",
        "        result = f_to_c(tempf)\n",
        "        print(f\"f_to_c({tempf}) = {result:.4f}, Expected: {expected:.4f}\")\n",
        "\n",
        "# Run custom tests\n",
        "custom_tests()\n"
      ],
      "metadata": {
        "id": "W4sDWfzduhQt",
        "outputId": "84e7b389-29a8-4492-fd44-ab17dd6c5f90",
        "colab": {
          "base_uri": "https://localhost:8080/"
        }
      },
      "execution_count": 16,
      "outputs": [
        {
          "output_type": "stream",
          "name": "stdout",
          "text": [
            "f_to_c(212) = 100.0000, Expected: 100.0000\n",
            "f_to_c(32) = 0.0000, Expected: 0.0000\n",
            "f_to_c(98.6) = 37.0000, Expected: 37.0000\n",
            "f_to_c(0) = -17.7778, Expected: -17.7778\n",
            "f_to_c(-40) = -40.0000, Expected: -40.0000\n",
            "f_to_c(100) = 37.7778, Expected: 37.7778\n",
            "f_to_c(68) = 20.0000, Expected: 20.0000\n",
            "f_to_c(0) = -17.7778, Expected: -17.7778\n"
          ]
        }
      ]
    },
    {
      "cell_type": "code",
      "source": [
        "## MY OWN TEWST CASES 2.\n",
        "def additional_test_cases():\n",
        "    # Additional test case\n",
        "    tempf = 45\n",
        "    expected = (5 / 9) * (tempf - 32)  # Calculating expected value\n",
        "    result = f_to_c(tempf)\n",
        "    print(f\"f_to_c({tempf}) = {result:.4f}, Expected: {expected:.4f}\")\n",
        "\n",
        "# Run additional test case\n",
        "additional_test_cases()\n"
      ],
      "metadata": {
        "id": "kBbpG2pwusBm",
        "outputId": "498c5e4c-202e-4763-a19d-326e2dc3fdc4",
        "colab": {
          "base_uri": "https://localhost:8080/"
        }
      },
      "execution_count": 17,
      "outputs": [
        {
          "output_type": "stream",
          "name": "stdout",
          "text": [
            "f_to_c(45) = 7.2222, Expected: 7.2222\n"
          ]
        }
      ]
    },
    {
      "cell_type": "markdown",
      "metadata": {
        "id": "Go9f3UnWqjPZ"
      },
      "source": [
        "### 5.3 Computing Length of Stay\n",
        "\n",
        "For this problem, we have a collection of patient enounter data stored as a Python dictionary.  The `key` for the dictionary is the **encounter ID**, a code that starts with the letter `E` followed by four numbers.  The value associated with each encounter ID is another Python dictionary.  This \"inner\" dictionary holds three items: admit date, primary diagnosis, and discharge date.  See the example in the code below.\n",
        "\n",
        "You need to write a length of stay function that computes the length of stay, in whole days, between the admit date and discharge date.  However, if the diagnosis is \"Observation\" then the length of stay should always be returned as 0 regardless of the admit and discharge dates.\n",
        "\n",
        "You will find it handy to refer to this example here on how to calculate the number of days between two dates: https://stackoverflow.com/questions/151199/how-to-calculate-number-of-days-between-two-given-dates"
      ]
    },
    {
      "cell_type": "code",
      "execution_count": 18,
      "metadata": {
        "id": "NEB9F5zTqjPZ"
      },
      "outputs": [],
      "source": [
        "from datetime import date\n",
        "\n",
        "### BEGIN SOLUTION\n",
        "\n",
        "### END SOLUTION"
      ]
    },
    {
      "cell_type": "code",
      "source": [
        "from datetime import date\n",
        "\n",
        "def length_of_stay(encounters):\n",
        "    \"\"\"(dict) -> dict\n",
        "    Calculate the length of stay for each encounter in the provided dictionary.\n",
        "    If the primary diagnosis is \"Observation\", return 0 days for that encounter.\n",
        "\n",
        "    >>> encounters = {\n",
        "    ...     'E1234': {'admit date': date(2023, 1, 1), 'primary diagnosis': 'Flu', 'discharge date': date(2023, 1, 5)},\n",
        "    ...     'E1235': {'admit date': date(2023, 1, 2), 'primary diagnosis': 'Observation', 'discharge date': date(2023, 1, 3)},\n",
        "    ...     'E1236': {'admit date': date(2023, 1, 10), 'primary diagnosis': 'Covid', 'discharge date': date(2023, 1, 15)},\n",
        "    ... }\n",
        "    >>> length_of_stay(encounters)\n",
        "    {'E1234': 4, 'E1235': 0, 'E1236': 5}\n",
        "    \"\"\"\n",
        "\n",
        "    los = {}\n",
        "\n",
        "    for encounter_id, data in encounters.items():\n",
        "        # Ensure that necessary fields are present\n",
        "        if all(key in data for key in ['admit date', 'discharge date', 'primary diagnosis']):\n",
        "            admit_date = data['admit date']\n",
        "            discharge_date = data['discharge date']\n",
        "            diagnosis = data['primary diagnosis']\n",
        "\n",
        "            if diagnosis == \"Observation\":\n",
        "                los[encounter_id] = 0\n",
        "            else:\n",
        "                # Calculate length of stay\n",
        "                stay_length = (discharge_date - admit_date).days\n",
        "                los[encounter_id] = stay_length\n",
        "        else:\n",
        "            los[encounter_id] = \"Missing required data\"\n",
        "\n",
        "    return los\n"
      ],
      "metadata": {
        "id": "0X99Aou4Q0rn"
      },
      "execution_count": 19,
      "outputs": []
    },
    {
      "cell_type": "code",
      "source": [
        "from datetime import date\n",
        "\n",
        "def length_of_stay(encounters):\n",
        "    \"\"\"(dict) -> dict\n",
        "    Calculate the length of stay for each encounter in the provided dictionary.\n",
        "    If the primary diagnosis is \"Observation\", return 0 days for that encounter.\n",
        "\n",
        "    >>> encounters = {\n",
        "    ...     'E1234': {'admit date': date(2023, 1, 1), 'primary diagnosis': 'Flu', 'discharge date': date(2023, 1, 5)},\n",
        "    ...     'E1235': {'admit date': date(2023, 1, 2), 'primary diagnosis': 'Observation', 'discharge date': date(2023, 1, 3)},\n",
        "    ...     'E1236': {'admit date': date(2023, 1, 10), 'primary diagnosis': 'Covid', 'discharge date': date(2023, 1, 15)},\n",
        "    ... }\n",
        "    >>> length_of_stay(encounters)\n",
        "    {'E1234': 4, 'E1235': 0, 'E1236': 5}\n",
        "    \"\"\"\n",
        "\n",
        "    los = {}\n",
        "\n",
        "    for encounter_id, data in encounters.items():\n",
        "        # Ensure that necessary fields are present\n",
        "        if all(key in data for key in ['admit date', 'discharge date', 'primary diagnosis']):\n",
        "            admit_date = data['admit date']\n",
        "            discharge_date = data['discharge date']\n",
        "            diagnosis = data['primary diagnosis']\n",
        "\n",
        "            if diagnosis == \"Observation\":\n",
        "                los[encounter_id] = 0\n",
        "            else:\n",
        "                # Calculate length of stay\n",
        "                stay_length = (discharge_date - admit_date).days\n",
        "                los[encounter_id] = stay_length\n",
        "        else:\n",
        "            los[encounter_id] = \"Missing required data\"\n",
        "\n",
        "    return los\n",
        "\n",
        "# Example usage\n",
        "if __name__ == \"__main__\":\n",
        "    encounters = {\n",
        "        'E1234': {'admit date': date(2023, 1, 1), 'primary diagnosis': 'Flu', 'discharge date': date(2023, 1, 5)},\n",
        "        'E1235': {'admit date': date(2023, 1, 2), 'primary diagnosis': 'Observation', 'discharge date': date(2023, 1, 3)},\n",
        "        'E1236': {'admit date': date(2023, 1, 10), 'primary diagnosis': 'Covid', 'discharge date': date(2023, 1, 15)},\n",
        "    }\n",
        "\n",
        "    print(length_of_stay(encounters))\n"
      ],
      "metadata": {
        "id": "L7BU9tgfRMwA",
        "outputId": "2c93f724-6774-4d8c-9430-0075966cfa61",
        "colab": {
          "base_uri": "https://localhost:8080/"
        }
      },
      "execution_count": 20,
      "outputs": [
        {
          "output_type": "stream",
          "name": "stdout",
          "text": [
            "{'E1234': 4, 'E1235': 0, 'E1236': 5}\n"
          ]
        }
      ]
    },
    {
      "cell_type": "code",
      "source": [
        "# Example usage\n",
        "if __name__ == \"__main__\":\n",
        "    encounters = {\n",
        "        'E1234': {'admit date': date(2023, 1, 1), 'primary diagnosis': 'Flu', 'discharge date': date(2023, 1, 5)},\n",
        "        'E1235': {'admit date': date(2023, 1, 2), 'primary diagnosis': 'Observation', 'discharge date': date(2023, 1, 3)},\n",
        "        'E1236': {'admit date': date(2023, 1, 10), 'primary diagnosis': 'Covid', 'discharge date': date(2023, 1, 15)},\n",
        "    }\n",
        "\n",
        "    print(length_of_stay(encounters))"
      ],
      "metadata": {
        "id": "DFBKmvGcvEW2",
        "outputId": "8db539f8-fdbf-4767-b9e8-9fefe57d639d",
        "colab": {
          "base_uri": "https://localhost:8080/"
        }
      },
      "execution_count": 21,
      "outputs": [
        {
          "output_type": "stream",
          "name": "stdout",
          "text": [
            "{'E1234': 4, 'E1235': 0, 'E1236': 5}\n"
          ]
        }
      ]
    },
    {
      "cell_type": "code",
      "execution_count": 22,
      "metadata": {
        "id": "K--ZlPPJqjPZ",
        "outputId": "145e1512-9178-413c-cb0b-dbca66b00ebe",
        "colab": {
          "base_uri": "https://localhost:8080/"
        }
      },
      "outputs": [
        {
          "output_type": "stream",
          "name": "stdout",
          "text": [
            "Finding tests in NoName\n",
            "Trying:\n",
            "    encounters = {\n",
            "        'E1234': {'admit date': date(2023, 1, 1), 'primary diagnosis': 'Flu', 'discharge date': date(2023, 1, 5)},\n",
            "        'E1235': {'admit date': date(2023, 1, 2), 'primary diagnosis': 'Observation', 'discharge date': date(2023, 1, 3)},\n",
            "        'E1236': {'admit date': date(2023, 1, 10), 'primary diagnosis': 'Covid', 'discharge date': date(2023, 1, 15)},\n",
            "    }\n",
            "Expecting nothing\n",
            "ok\n",
            "Trying:\n",
            "    length_of_stay(encounters)\n",
            "Expecting:\n",
            "    {'E1234': 4, 'E1235': 0, 'E1236': 5}\n",
            "ok\n"
          ]
        }
      ],
      "source": [
        "import doctest\n",
        "doctest.run_docstring_examples(length_of_stay, globals(), verbose=True)"
      ]
    },
    {
      "cell_type": "code",
      "source": [
        "def length_of_stay(admit_date, discharge_date, diagnosis):\n",
        "    \"\"\"(date, date, str) -> int\n",
        "    Computes the length of stay in days.\n",
        "    If the diagnosis is \"Observation\", return 0.\n",
        "    \"\"\"\n",
        "    if diagnosis == \"Observation\":\n",
        "        return 0\n",
        "    return (discharge_date - admit_date).days"
      ],
      "metadata": {
        "id": "U15PiXM6O2v1"
      },
      "execution_count": 23,
      "outputs": []
    },
    {
      "cell_type": "code",
      "execution_count": 24,
      "metadata": {
        "id": "ggP6tRWcqjPZ",
        "outputId": "3cf99877-665f-47ac-8bc4-b3c05ed54b5a",
        "colab": {
          "base_uri": "https://localhost:8080/"
        }
      },
      "outputs": [
        {
          "output_type": "stream",
          "name": "stdout",
          "text": [
            "Encounter E1234: Length of Stay = 5 days\n",
            "Encounter E8342: Length of Stay = 4 days\n",
            "Encounter E9231: Length of Stay = 1 days\n",
            "Encounter E8333: Length of Stay = 0 days\n",
            "Encounter E3342: Length of Stay = 0 days\n"
          ]
        }
      ],
      "source": [
        "encounters = {\n",
        "    \"E1234\": { \"admit\": date(2019,1,3), \"diagnosis\": \"COPD\", \"discharge\": date(2019,1,8) },\n",
        "    \"E8342\": { \"admit\": date(2019,1,5), \"diagnosis\": \"Hypertension\", \"discharge\": date(2019,1,9) },\n",
        "    \"E9231\": { \"admit\": date(2019,1,12), \"diagnosis\": \"Anxiety\", \"discharge\": date(2019,1,13) },\n",
        "    \"E8333\": { \"admit\": date(2019,1,15), \"diagnosis\": \"Observation\", \"discharge\": date(2019,1,16) },\n",
        "    \"E3342\": { \"admit\": date(2019,1,4), \"diagnosis\": \"Anxiety\", \"discharge\": date(2019,1,4)}\n",
        "}\n",
        "# Loop through encounters and call the function with the correct arguments\n",
        "for e, v in encounters.items():\n",
        "    print(f\"Encounter {e}: Length of Stay = {length_of_stay(v['admit'], v['discharge'], v['diagnosis'])} days\")"
      ]
    },
    {
      "cell_type": "code",
      "source": [
        "### MY OWN TEST CASES 1.\n",
        "from datetime import date\n",
        "\n",
        "# Custom test cases\n",
        "def custom_length_of_stay_tests():\n",
        "    test_cases = {\n",
        "        \"Test Case 1\": {  # Regular encounter\n",
        "            \"admit\": date(2021, 6, 1),\n",
        "            \"discharge\": date(2021, 6, 5),\n",
        "            \"diagnosis\": \"Pneumonia\"\n",
        "        },\n",
        "        \"Test Case 2\": {  # Encounter with observation diagnosis\n",
        "            \"admit\": date(2021, 6, 2),\n",
        "            \"discharge\": date(2021, 6, 3),\n",
        "            \"diagnosis\": \"Observation\"\n",
        "        },\n",
        "        \"Test Case 3\": {  # Same day admit and discharge\n",
        "            \"admit\": date(2021, 6, 10),\n",
        "            \"discharge\": date(2021, 6, 10),\n",
        "            \"diagnosis\": \"Flu\"\n",
        "        },\n",
        "        \"Test Case 4\": {  # Longer stay\n",
        "            \"admit\": date(2021, 5, 20),\n",
        "            \"discharge\": date(2021, 6, 5),\n",
        "            \"diagnosis\": \"Surgery\"\n",
        "        },\n",
        "        \"Test Case 5\": {  # Short stay with zero LOS\n",
        "            \"admit\": date(2021, 7, 1),\n",
        "            \"discharge\": date(2021, 7, 1),\n",
        "            \"diagnosis\": \"Check-up\"\n",
        "        }\n",
        "    }\n",
        "\n",
        "    for name, data in test_cases.items():\n",
        "        los = length_of_stay(data['admit'], data['discharge'], data['diagnosis'])\n",
        "        print(f\"{name}: Length of Stay = {los} days\")\n",
        "\n",
        "# Run custom test cases\n",
        "custom_length_of_stay_tests()\n"
      ],
      "metadata": {
        "id": "Ucs2G-dt4ySG",
        "outputId": "f0f60908-e680-4673-fa50-8b9999820200",
        "colab": {
          "base_uri": "https://localhost:8080/"
        }
      },
      "execution_count": 25,
      "outputs": [
        {
          "output_type": "stream",
          "name": "stdout",
          "text": [
            "Test Case 1: Length of Stay = 4 days\n",
            "Test Case 2: Length of Stay = 0 days\n",
            "Test Case 3: Length of Stay = 0 days\n",
            "Test Case 4: Length of Stay = 16 days\n",
            "Test Case 5: Length of Stay = 0 days\n"
          ]
        }
      ]
    },
    {
      "cell_type": "code",
      "source": [
        "### MY OWN TEST CASES 2.\n",
        "from datetime import date\n",
        "\n",
        "def additional_length_of_stay_tests():\n",
        "    test_cases = {\n",
        "        \"Test Case 1\": {  # Regular encounter with a weekend\n",
        "            \"admit\": date(2022, 2, 25),  # Friday\n",
        "            \"discharge\": date(2022, 2, 27),  # Sunday\n",
        "            \"diagnosis\": \"Bronchitis\"\n",
        "        },\n",
        "        \"Test Case 2\": {  # Extended stay for recovery\n",
        "            \"admit\": date(2022, 1, 15),\n",
        "            \"discharge\": date(2022, 2, 1),\n",
        "            \"diagnosis\": \"Recovery\"\n",
        "        },\n",
        "        \"Test Case 3\": {  # No stay due to observation\n",
        "            \"admit\": date(2022, 3, 10),\n",
        "            \"discharge\": date(2022, 3, 10),\n",
        "            \"diagnosis\": \"Observation\"\n",
        "        },\n",
        "        \"Test Case 4\": {  # Long-term stay\n",
        "            \"admit\": date(2022, 5, 1),\n",
        "            \"discharge\": date(2022, 6, 15),\n",
        "            \"diagnosis\": \"Heart Surgery\"\n",
        "        },\n",
        "        \"Test Case 5\": {  # Stay with a holiday\n",
        "            \"admit\": date(2022, 12, 24),  # Christmas Eve\n",
        "            \"discharge\": date(2022, 12, 26),  # Christmas Day\n",
        "            \"diagnosis\": \"Holiday Check\"\n",
        "        }\n",
        "    }\n",
        "\n",
        "    for name, data in test_cases.items():\n",
        "        los = length_of_stay(data['admit'], data['discharge'], data['diagnosis'])\n",
        "        print(f\"{name}: Length of Stay = {los} days\")\n",
        "\n",
        "# Run additional test cases\n",
        "additional_length_of_stay_tests()\n"
      ],
      "metadata": {
        "id": "wr8y0SU55DGw",
        "outputId": "2d9ebb0b-ffa4-4924-e462-a9a1b15e5241",
        "colab": {
          "base_uri": "https://localhost:8080/"
        }
      },
      "execution_count": 26,
      "outputs": [
        {
          "output_type": "stream",
          "name": "stdout",
          "text": [
            "Test Case 1: Length of Stay = 2 days\n",
            "Test Case 2: Length of Stay = 17 days\n",
            "Test Case 3: Length of Stay = 0 days\n",
            "Test Case 4: Length of Stay = 45 days\n",
            "Test Case 5: Length of Stay = 2 days\n"
          ]
        }
      ]
    },
    {
      "cell_type": "markdown",
      "metadata": {
        "id": "GRpj_kpjqjPZ"
      },
      "source": [
        "---\n",
        "---\n",
        "\n",
        "### 5.4 Average Length of Stay\n",
        "\n",
        "Create a function called `average_los` that returns the average of the LOS for the encounters in the provided dictionary. The encounters must be a dictionary that contains dictionaries that each contain at least an admit date and a discharge date.\n",
        "    \n",
        "If the length of stay of any individual encounter is 0, then it will not be counted toward the average."
      ]
    },
    {
      "cell_type": "code",
      "execution_count": 27,
      "metadata": {
        "id": "2DjU7K-QqjPZ",
        "outputId": "3088f879-421f-4964-a6ee-e20d4ac816e3",
        "colab": {
          "base_uri": "https://localhost:8080/",
          "height": 35
        }
      },
      "outputs": [
        {
          "output_type": "execute_result",
          "data": {
            "text/plain": [
              "'\\n>>> average_los(test1)\\n5\\n'"
            ],
            "application/vnd.google.colaboratory.intrinsic+json": {
              "type": "string"
            }
          },
          "metadata": {},
          "execution_count": 27
        }
      ],
      "source": [
        "test1 = {\n",
        "        \"E1234\": { \"admit\": date(2019,1,3), \"diagnosis\": \"COPD\", \"discharge\": date(2019,1,8) }\n",
        "}\n",
        "\n",
        "test2 = {\n",
        "        \"E1234\": { \"admit\": date(2019,1,3), \"diagnosis\": \"COPD\", \"discharge\": date(2019,1,8) }\n",
        "}\n",
        "\n",
        "### BEGIN SOLUTION\n",
        "\n",
        "\"\"\"\n",
        ">>> average_los(test1)\n",
        "5\n",
        "\"\"\"\n",
        "\n",
        "\n",
        "### END SOLUTION"
      ]
    },
    {
      "cell_type": "code",
      "source": [
        "from datetime import date\n",
        "\n",
        "def length_of_stay(admit_date, discharge_date):\n",
        "    \"\"\"(date, date) -> int\n",
        "    Computes the length of stay in days.\n",
        "    \"\"\"\n",
        "    return (discharge_date - admit_date).days\n",
        "\n",
        "def average_los(encounters):\n",
        "    \"\"\"(dict) -> float\n",
        "    Computes the average length of stay (LOS) for the encounters.\n",
        "    If the LOS for any encounter is 0, it is not counted in the average.\n",
        "\n",
        "    >>> test1 = {\n",
        "    ...     \"E1234\": {\"admit\": date(2019, 1, 3), \"diagnosis\": \"COPD\", \"discharge\": date(2019, 1, 8)},\n",
        "    ... }\n",
        "    >>> average_los(test1)\n",
        "    5.0\n",
        "\n",
        "    >>> test2 = {\n",
        "    ...     \"E1234\": {\"admit\": date(2019, 1, 3), \"diagnosis\": \"COPD\", \"discharge\": date(2019, 1, 3)},\n",
        "    ...     \"E1235\": {\"admit\": date(2019, 1, 4), \"diagnosis\": \"Hypertension\", \"discharge\": date(2019, 1, 8)},\n",
        "    ... }\n",
        "    >>> average_los(test2)\n",
        "    4.0\n",
        "    \"\"\"\n",
        "    total_los = 0\n",
        "    count = 0\n",
        "\n",
        "    for encounter in encounters.values():\n",
        "        admit_date = encounter[\"admit\"]\n",
        "        discharge_date = encounter[\"discharge\"]\n",
        "\n",
        "        los = length_of_stay(admit_date, discharge_date)\n",
        "\n",
        "        if los > 0:  # Only count non-zero lengths of stay\n",
        "            total_los += los\n",
        "            count += 1\n",
        "\n",
        "    return total_los / count if count > 0 else 0.0"
      ],
      "metadata": {
        "id": "9qEyjH_oy_mZ"
      },
      "execution_count": 28,
      "outputs": []
    },
    {
      "cell_type": "code",
      "source": [
        "# Example usage and doctest\n",
        "if __name__ == \"__main__\":\n",
        "    import doctest\n",
        "    doctest.run_docstring_examples(average_los, globals(), verbose=True)\n",
        "\n",
        "    # Additional test case\n",
        "    test3 = {\n",
        "        \"E1236\": {\"admit\": date(2019, 1, 10), \"diagnosis\": \"Covid\", \"discharge\": date(2019, 1, 15)},\n",
        "        \"E1237\": {\"admit\": date(2019, 1, 12), \"diagnosis\": \"Observation\", \"discharge\": date(2019, 1, 12)},\n",
        "    }\n",
        "    print(average_los(test3))  # Expected: 5."
      ],
      "metadata": {
        "id": "svcOHbKCzHSV",
        "outputId": "8978132d-fe28-4022-c2d7-3094f4ee9186",
        "colab": {
          "base_uri": "https://localhost:8080/"
        }
      },
      "execution_count": 29,
      "outputs": [
        {
          "output_type": "stream",
          "name": "stdout",
          "text": [
            "Finding tests in NoName\n",
            "Trying:\n",
            "    test1 = {\n",
            "        \"E1234\": {\"admit\": date(2019, 1, 3), \"diagnosis\": \"COPD\", \"discharge\": date(2019, 1, 8)},\n",
            "    }\n",
            "Expecting nothing\n",
            "ok\n",
            "Trying:\n",
            "    average_los(test1)\n",
            "Expecting:\n",
            "    5.0\n",
            "ok\n",
            "Trying:\n",
            "    test2 = {\n",
            "        \"E1234\": {\"admit\": date(2019, 1, 3), \"diagnosis\": \"COPD\", \"discharge\": date(2019, 1, 3)},\n",
            "        \"E1235\": {\"admit\": date(2019, 1, 4), \"diagnosis\": \"Hypertension\", \"discharge\": date(2019, 1, 8)},\n",
            "    }\n",
            "Expecting nothing\n",
            "ok\n",
            "Trying:\n",
            "    average_los(test2)\n",
            "Expecting:\n",
            "    4.0\n",
            "ok\n",
            "5.0\n"
          ]
        }
      ]
    },
    {
      "cell_type": "code",
      "execution_count": 30,
      "metadata": {
        "id": "QcdusFsrqjPa"
      },
      "outputs": [],
      "source": [
        "from datetime import date\n",
        "encounters = {\n",
        "    \"E1234\": { \"admit\": date(2019,1,3), \"diagnosis\": \"COPD\", \"discharge\": date(2019,1,8) },\n",
        "    \"E8342\": { \"admit\": date(2019,1,5), \"diagnosis\": \"Hypertension\", \"discharge\": date(2019,1,9) },\n",
        "    \"E9231\": { \"admit\": date(2019,1,12), \"diagnosis\": \"Anxiety\", \"discharge\": date(2019,1,13) },\n",
        "    \"E8333\": { \"admit\": date(2019,1,15), \"diagnosis\": \"Observation\", \"discharge\": date(2019,1,16) },\n",
        "    \"E3342\": { \"admit\": date(2019,1,4), \"diagnosis\": \"Anxiety\", \"discharge\": date(2019,1,4)}\n",
        "}\n",
        "\n",
        "assert(average_los(encounters)) == 2.75"
      ]
    },
    {
      "cell_type": "code",
      "execution_count": 31,
      "metadata": {
        "id": "hX13KuSDqjPa",
        "outputId": "628936ec-58ab-40d3-af80-a9ea643e57ab",
        "colab": {
          "base_uri": "https://localhost:8080/"
        }
      },
      "outputs": [
        {
          "output_type": "stream",
          "name": "stdout",
          "text": [
            "Finding tests in NoName\n",
            "Trying:\n",
            "    test1 = {\n",
            "        \"E1234\": {\"admit\": date(2019, 1, 3), \"diagnosis\": \"COPD\", \"discharge\": date(2019, 1, 8)},\n",
            "    }\n",
            "Expecting nothing\n",
            "ok\n",
            "Trying:\n",
            "    average_los(test1)\n",
            "Expecting:\n",
            "    5.0\n",
            "ok\n",
            "Trying:\n",
            "    test2 = {\n",
            "        \"E1234\": {\"admit\": date(2019, 1, 3), \"diagnosis\": \"COPD\", \"discharge\": date(2019, 1, 3)},\n",
            "        \"E1235\": {\"admit\": date(2019, 1, 4), \"diagnosis\": \"Hypertension\", \"discharge\": date(2019, 1, 8)},\n",
            "    }\n",
            "Expecting nothing\n",
            "ok\n",
            "Trying:\n",
            "    average_los(test2)\n",
            "Expecting:\n",
            "    4.0\n",
            "ok\n"
          ]
        }
      ],
      "source": [
        "import doctest\n",
        "doctest.run_docstring_examples(average_los, globals(), verbose=True)"
      ]
    },
    {
      "cell_type": "code",
      "source": [
        "## MY OWN TEST CASES 1.\n",
        "from datetime import date\n",
        "\n",
        "# Define custom test cases\n",
        "def custom_average_los_tests():\n",
        "    test_cases = {\n",
        "        \"Test Case 1\": {  # Regular case with valid LOS\n",
        "            \"E1234\": {\"admit\": date(2019, 1, 3), \"diagnosis\": \"COPD\", \"discharge\": date(2019, 1, 8)},\n",
        "            \"E1235\": {\"admit\": date(2019, 1, 4), \"diagnosis\": \"Hypertension\", \"discharge\": date(2019, 1, 9)},\n",
        "        },\n",
        "        \"Test Case 2\": {  # Case with zero LOS\n",
        "            \"E1236\": {\"admit\": date(2019, 1, 10), \"diagnosis\": \"Flu\", \"discharge\": date(2019, 1, 10)},\n",
        "            \"E1237\": {\"admit\": date(2019, 1, 11), \"diagnosis\": \"Cold\", \"discharge\": date(2019, 1, 13)},\n",
        "        },\n",
        "        \"Test Case 3\": {  # Mixed valid and zero LOS\n",
        "            \"E1238\": {\"admit\": date(2019, 1, 1), \"diagnosis\": \"Pneumonia\", \"discharge\": date(2019, 1, 5)},\n",
        "            \"E1239\": {\"admit\": date(2019, 1, 6), \"diagnosis\": \"Observation\", \"discharge\": date(2019, 1, 7)},\n",
        "        },\n",
        "        \"Test Case 4\": {  # No valid LOS\n",
        "            \"E1240\": {\"admit\": date(2019, 1, 10), \"diagnosis\": \"Observation\", \"discharge\": date(2019, 1, 10)},\n",
        "        },\n",
        "    }\n",
        "\n",
        "    for name, encounters in test_cases.items():\n",
        "        result = average_los(encounters)\n",
        "        print(f\"{name}: Average LOS = {result:.1f}\")\n",
        "\n",
        "# Run custom test cases\n",
        "custom_average_los_tests()\n"
      ],
      "metadata": {
        "id": "p6Z13DYdzcvd",
        "outputId": "26377290-f9d2-4626-f2f6-c59efd7f37aa",
        "colab": {
          "base_uri": "https://localhost:8080/"
        }
      },
      "execution_count": 32,
      "outputs": [
        {
          "output_type": "stream",
          "name": "stdout",
          "text": [
            "Test Case 1: Average LOS = 5.0\n",
            "Test Case 2: Average LOS = 2.0\n",
            "Test Case 3: Average LOS = 2.5\n",
            "Test Case 4: Average LOS = 0.0\n"
          ]
        }
      ]
    },
    {
      "cell_type": "code",
      "source": [
        "### MY OWN TEST CASES 2.\n",
        "from datetime import date\n",
        "\n",
        "# Define another set of custom test cases\n",
        "def additional_average_los_tests():\n",
        "    additional_cases = {\n",
        "        \"Test Case 1\": {  # All valid encounters\n",
        "            \"E1250\": {\"admit\": date(2020, 2, 1), \"diagnosis\": \"Flu\", \"discharge\": date(2020, 2, 5)},\n",
        "            \"E1251\": {\"admit\": date(2020, 2, 3), \"diagnosis\": \"Covid\", \"discharge\": date(2020, 2, 7)},\n",
        "            \"E1252\": {\"admit\": date(2020, 2, 5), \"diagnosis\": \"Asthma\", \"discharge\": date(2020, 2, 8)},\n",
        "        },\n",
        "        \"Test Case 2\": {  # All encounters with zero LOS\n",
        "            \"E1253\": {\"admit\": date(2020, 3, 1), \"diagnosis\": \"Observation\", \"discharge\": date(2020, 3, 1)},\n",
        "            \"E1254\": {\"admit\": date(2020, 3, 2), \"diagnosis\": \"Observation\", \"discharge\": date(2020, 3, 2)},\n",
        "        },\n",
        "        \"Test Case 3\": {  # Mixed valid LOS and zero LOS\n",
        "            \"E1255\": {\"admit\": date(2020, 4, 1), \"diagnosis\": \"Diabetes\", \"discharge\": date(2020, 4, 4)},\n",
        "            \"E1256\": {\"admit\": date(2020, 4, 5), \"diagnosis\": \"Observation\", \"discharge\": date(2020, 4, 5)},\n",
        "            \"E1257\": {\"admit\": date(2020, 4, 6), \"diagnosis\": \"Heart Disease\", \"discharge\": date(2020, 4, 10)},\n",
        "        },\n",
        "        \"Test Case 4\": {  # Average with one encounter\n",
        "            \"E1258\": {\"admit\": date(2020, 5, 1), \"diagnosis\": \"Migraine\", \"discharge\": date(2020, 5, 3)},\n",
        "        },\n",
        "    }\n",
        "\n",
        "    for name, encounters in additional_cases.items():\n",
        "        result = average_los(encounters)\n",
        "        print(f\"{name}: Average LOS = {result:.1f}\")\n",
        "\n",
        "# Run additional test cases\n",
        "additional_average_los_tests()\n"
      ],
      "metadata": {
        "id": "H9OSVMi3zvDT",
        "outputId": "f718b950-7286-4365-cb0e-c8b7d2a33193",
        "colab": {
          "base_uri": "https://localhost:8080/"
        }
      },
      "execution_count": 33,
      "outputs": [
        {
          "output_type": "stream",
          "name": "stdout",
          "text": [
            "Test Case 1: Average LOS = 3.7\n",
            "Test Case 2: Average LOS = 0.0\n",
            "Test Case 3: Average LOS = 3.5\n",
            "Test Case 4: Average LOS = 2.0\n"
          ]
        }
      ]
    },
    {
      "cell_type": "markdown",
      "metadata": {
        "id": "mzcH0MEgqjPa"
      },
      "source": [
        "---\n",
        "\n",
        "### 5.5 Celsius to Farenheit\n",
        "\n",
        "Write your own function called `c_to_f` that converts degrees Celsius to degrees Farenheit.  Include in your solution a series of doc tests that can verify the conversion using inputs of 100, 0, and 37 degrees Celsius"
      ]
    },
    {
      "cell_type": "code",
      "execution_count": 34,
      "metadata": {
        "id": "cJb2xziQqjPa"
      },
      "outputs": [],
      "source": [
        "### BEGIN SOLUTION\n",
        "\n",
        "### END SOLUTION"
      ]
    },
    {
      "cell_type": "code",
      "source": [
        "def c_to_f(celsius):\n",
        "    \"\"\"(float) -> float\n",
        "    Converts degrees Celsius to degrees Fahrenheit.\n",
        "\n",
        "    The formula for conversion is:\n",
        "    temp_f = (temp_c * 9/5) + 32\n",
        "\n",
        "    >>> c_to_f(100)\n",
        "    212.0\n",
        "    >>> c_to_f(0)\n",
        "    32.0\n",
        "    >>> c_to_f(37)\n",
        "    98.6\n",
        "    \"\"\"\n",
        "    return (celsius * 9/5) + 32\n",
        "\n",
        "\n"
      ],
      "metadata": {
        "id": "68ksH3Rfz_bO"
      },
      "execution_count": 35,
      "outputs": []
    },
    {
      "cell_type": "code",
      "execution_count": 36,
      "metadata": {
        "id": "F0-M6HVQqjPa",
        "outputId": "87d478ee-2148-4b3d-9da4-dbad458ca34c",
        "colab": {
          "base_uri": "https://localhost:8080/"
        }
      },
      "outputs": [
        {
          "output_type": "stream",
          "name": "stdout",
          "text": [
            "Finding tests in NoName\n",
            "Trying:\n",
            "    c_to_f(100)\n",
            "Expecting:\n",
            "    212.0\n",
            "ok\n",
            "Trying:\n",
            "    c_to_f(0)\n",
            "Expecting:\n",
            "    32.0\n",
            "ok\n",
            "Trying:\n",
            "    c_to_f(37)\n",
            "Expecting:\n",
            "    98.6\n",
            "ok\n"
          ]
        }
      ],
      "source": [
        "import doctest\n",
        "doctest.run_docstring_examples(c_to_f, globals(), verbose=True)"
      ]
    },
    {
      "cell_type": "code",
      "execution_count": 37,
      "metadata": {
        "id": "lae4cc3gqjPa",
        "outputId": "8c87a2dd-d5f7-4dc9-e229-56948e55ac82",
        "colab": {
          "base_uri": "https://localhost:8080/"
        }
      },
      "outputs": [
        {
          "output_type": "stream",
          "name": "stdout",
          "text": [
            "Test Case 1: 100°C = 212.0°F\n",
            "Test Case 2: 0°C = 32.0°F\n",
            "Test Case 3: 37°C = 98.6°F\n",
            "Test Case 4: -40°C = -40.0°F\n",
            "Test Case 5: 20°C = 68.0°F\n",
            "Test Case 6: 25°C = 77.0°F\n"
          ]
        }
      ],
      "source": [
        "### MY OWN TEST CASES 1.\n",
        "def custom_c_to_f_tests():\n",
        "    test_cases = {\n",
        "        \"Test Case 1\": 100,     # Boiling point of water\n",
        "        \"Test Case 2\": 0,       # Freezing point of water\n",
        "        \"Test Case 3\": 37,      # Average human body temperature\n",
        "        \"Test Case 4\": -40,     # Where Celsius and Fahrenheit are equal\n",
        "        \"Test Case 5\": 20,      # Room temperature\n",
        "        \"Test Case 6\": 25,      # Typical warm day\n",
        "    }\n",
        "\n",
        "    for name, celsius in test_cases.items():\n",
        "        fahrenheit = c_to_f(celsius)\n",
        "        print(f\"{name}: {celsius}°C = {fahrenheit:.1f}°F\")\n",
        "\n",
        "# Run custom test cases\n",
        "custom_c_to_f_tests()\n"
      ]
    },
    {
      "cell_type": "code",
      "source": [
        "### MY OWN TESR CASES 2.\n",
        "def additional_c_to_f_tests():\n",
        "    test_cases = {\n",
        "        \"Test Case 1\": 15,      # A cool day\n",
        "        \"Test Case 2\": -10,     # Below freezing\n",
        "        \"Test Case 3\": 50,      # Warm day\n",
        "        \"Test Case 4\": 90,      # Hot day\n",
        "        \"Test Case 5\": 37.5,    # Slightly above average body temperature\n",
        "        \"Test Case 6\": -273.15,  # Absolute zero\n",
        "    }\n",
        "\n",
        "    for name, celsius in test_cases.items():\n",
        "        fahrenheit = c_to_f(celsius)\n",
        "        print(f\"{name}: {celsius}°C = {fahrenheit:.1f}°F\")\n",
        "\n",
        "# Run additional test cases\n",
        "additional_c_to_f_tests()\n"
      ],
      "metadata": {
        "id": "FTWiwJgJ0da7",
        "outputId": "55650538-c204-4e5c-9cd9-23367aa1d954",
        "colab": {
          "base_uri": "https://localhost:8080/"
        }
      },
      "execution_count": 38,
      "outputs": [
        {
          "output_type": "stream",
          "name": "stdout",
          "text": [
            "Test Case 1: 15°C = 59.0°F\n",
            "Test Case 2: -10°C = 14.0°F\n",
            "Test Case 3: 50°C = 122.0°F\n",
            "Test Case 4: 90°C = 194.0°F\n",
            "Test Case 5: 37.5°C = 99.5°F\n",
            "Test Case 6: -273.15°C = -459.7°F\n"
          ]
        }
      ]
    },
    {
      "cell_type": "markdown",
      "metadata": {
        "id": "DYOr8ENcqjPa"
      },
      "source": [
        "---\n",
        "\n",
        "## Check your work above\n",
        "\n",
        "If you didn't get them all correct, take a few minutes to think through those that aren't correct.\n",
        "\n",
        "\n",
        "## Submitting Your Work\n",
        "\n",
        "In order to submit your work, you'll need to use the `git` command line program to **add** your homework file (this file) to your local repository, **commit** your changes to your local repository, and then **push** those changes up to github.com.  From there, I'll be able to **pull** the changes down and do my grading.  I'll provide some feedback, **commit** and **push** my comments back to you.  Next week, I'll show you how to **pull** down my comments.\n",
        "\n",
        "First run through everything one last time and submit your work:\n",
        "1. Use the `Kernel` -> `Restart Kernel and Run All Cells` menu option to run everything from top to bottom and stop here.\n",
        "2. Then open a new command line by clicking the `+` icon above the file list and chosing `Terminal`\n",
        "3. At the command line in the new Terminal, follow these steps:\n",
        "  1. Change directories to your project folder and the week03 subfolder (`cd <folder name>`)\n",
        "  2. Make sure your project folders are up to date with github.com (`git pull`)\n",
        "  3. Add the homework files for this week (`git add <file name>`)\n",
        "  4. Commit your changes (`git commit -a -m \"message\"`)\n",
        "  5. Push your changes (`git push`)\n",
        "  \n",
        "If anything fails along the way with this submission part of the process, let me know.  I'll help you troubleshoort."
      ]
    }
  ],
  "metadata": {
    "celltoolbar": "Create Assignment",
    "kernelspec": {
      "display_name": "Python 3",
      "language": "python",
      "name": "python3"
    },
    "language_info": {
      "codemirror_mode": {
        "name": "ipython",
        "version": 3
      },
      "file_extension": ".py",
      "mimetype": "text/x-python",
      "name": "python",
      "nbconvert_exporter": "python",
      "pygments_lexer": "ipython3",
      "version": "3.6.7"
    },
    "colab": {
      "provenance": [],
      "toc_visible": true,
      "include_colab_link": true
    }
  },
  "nbformat": 4,
  "nbformat_minor": 0
}