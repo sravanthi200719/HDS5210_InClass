{
  "cells": [
    {
      "cell_type": "markdown",
      "metadata": {
        "id": "view-in-github",
        "colab_type": "text"
      },
      "source": [
        "<a href=\"https://colab.research.google.com/github/sravanthi200719/HDS5210_InClass/blob/master/Copy_of_midterm.ipynb\" target=\"_parent\"><img src=\"https://colab.research.google.com/assets/colab-badge.svg\" alt=\"Open In Colab\"/></a>"
      ]
    },
    {
      "cell_type": "markdown",
      "source": [],
      "metadata": {
        "id": "iGeTKCk7ygGA"
      }
    },
    {
      "cell_type": "markdown",
      "source": [
        "Mid-term for HDS5210\n",
        "Your supervisor is concerned about 4-year survival risks for COPD. She has asked for you to do some analysis using a new metric, BODE. BODE is an improvement on a previous metric and promises to provide insight on survival risks.\n",
        "\n",
        "BODE is defined here. https://www.mdcalc.com/calc/3916/bode-index-copd-survival#evidence\n",
        "\n",
        "Your assignment is to create a BODE calculation, use it to calculate BODE scores and BODE survival rates for a group of patients. Then we want to evaluate the average BODE scores and BODE survival rates for each area hospital.\n",
        "\n",
        "Your patient input file will have the following columns: NAME,SSN,LANGUAGE,JOB,HEIGHT_M,WEIGHT_KG,fev_pct,dyspnea_description,distance_in_meters,hospital\n",
        "\n",
        "BODE calculations require a BMI value, so you will have to create a function for it.\n",
        "\n",
        "Your output should be in the form of two CSV files, patient_output.csv and hospital_output.csv.\n",
        "\n",
        "Patient_output will have the following columns: NAME,BODE_SCORE,BODE_RISK,HOSPITAL\n",
        "\n",
        "Hospital output will have the following columns: HOSPITAL_NAME, COPD_COUNT, PCT_OF_COPD_CASES_OVER_BEDS, AVG_SCORE, AVG_RISK\n",
        "\n",
        "Each function you create should have documentation and a suitable number of test cases. If the input data could be wrong, make sure to raise a Value Error.\n",
        "\n",
        "For this assignment, use the doctest, json, and csv libraries. Pandas is not allowed for this assignment."
      ],
      "metadata": {
        "id": "hpAqs1-gzdEU"
      }
    },
    {
      "cell_type": "code",
      "source": [],
      "metadata": {
        "id": "IC2NLzbLzcb4"
      },
      "execution_count": null,
      "outputs": []
    },
    {
      "cell_type": "code",
      "execution_count": 1,
      "metadata": {
        "id": "H_RGRc5t4xRh"
      },
      "outputs": [],
      "source": [
        "import doctest\n",
        "import json\n",
        "import csv"
      ]
    },
    {
      "cell_type": "markdown",
      "source": [
        "# Step 1: Calculate BMI"
      ],
      "metadata": {
        "id": "bU4FlWfHzp4J"
      }
    },
    {
      "cell_type": "code",
      "source": [
        "import doctest\n",
        "\n",
        "def calculate_bmi(weight_kg, height_m):\n",
        "    \"\"\"\n",
        "    Calculate the Body Mass Index (BMI) given the weight and height.\n",
        "\n",
        "    Parameters:\n",
        "    weight_kg (float): The weight in kilograms.\n",
        "    height_m (float): The height in meters.\n",
        "\n",
        "    Returns:\n",
        "    float: The calculated BMI rounded to one decimal place.\n",
        "    \"\"\"\n",
        "    bmi = weight_kg / (height_m ** 2)\n",
        "    return round(bmi, 1)"
      ],
      "metadata": {
        "id": "lQQK-hdA7Atn"
      },
      "execution_count": 2,
      "outputs": []
    },
    {
      "cell_type": "code",
      "source": [
        "def interpret_bmi(bmi):\n",
        "    \"\"\"\n",
        "    Interpret the BMI value and categorize it based on standard weight status categories.\n",
        "\n",
        "    Parameters:\n",
        "    bmi (float): The BMI value to interpret.\n",
        "\n",
        "    Returns:\n",
        "    str: The category of the BMI, which can be one of the following:\n",
        "         - \"Underweight\" if BMI is less than 18.5.\n",
        "         - \"Normal weight\" if BMI is between 18.5 and 24.9.\n",
        "         - \"Overweight\" if BMI is between 25 and 29.9.\n",
        "         - \"Obese\" if BMI is 30 or above.\n",
        "    \"\"\"\n",
        "    if bmi < 18.5:\n",
        "        return \"Underweight\"\n",
        "    elif 18.5 <= bmi < 25:\n",
        "        return \"Normal weight\"\n",
        "    elif 25 <= bmi < 30:\n",
        "        return \"Overweight\"\n",
        "    else:\n",
        "        return \"Obese\"\n",
        "\n",
        "def display_bmi_result(weight, height, bmi, category):\n",
        "    \"\"\"\n",
        "    Display the BMI calculation results in a formatted and readable manner.\n",
        "\n",
        "    Parameters:\n",
        "    weight (float): The weight of the person in kilograms.\n",
        "    height (float): The height of the person in meters.\n",
        "    bmi (float): The calculated BMI value.\n",
        "    category (str): The BMI category based on the BMI interpretation.\n",
        "\n",
        "    Returns:\n",
        "    None: This function only prints the formatted BMI result.\n",
        "    \"\"\"\n",
        "    print(\"\\nBMI Calculation Results\")\n",
        "    print(\"-----------------------\")\n",
        "    print(f\"Weight: {weight:.1f} kg\")\n",
        "    print(f\"Height: {height:.2f} m\")\n",
        "    print(f\"BMI: {bmi:.1f}\")\n",
        "    print(f\"Category: {category}\")\n",
        "    print(\"-----------------------\")\n"
      ],
      "metadata": {
        "id": "28Z8CA2_7LyL"
      },
      "execution_count": 3,
      "outputs": []
    },
    {
      "cell_type": "code",
      "source": [
        "### # Test Case 1: Normal weight\n",
        "print(\"Test Case 1: Normal weight\")\n",
        "weight1, height1 = 70, 1.75\n",
        "bmi1 = calculate_bmi(weight1, height1)\n",
        "category1 = interpret_bmi(bmi1)\n",
        "display_bmi_result(weight1, height1, bmi1, category1)"
      ],
      "metadata": {
        "colab": {
          "base_uri": "https://localhost:8080/"
        },
        "id": "imFo5N0t2GpZ",
        "outputId": "922a4467-2fe7-4d59-ad09-d5e6b6d5c3d1"
      },
      "execution_count": 4,
      "outputs": [
        {
          "output_type": "stream",
          "name": "stdout",
          "text": [
            "Test Case 1: Normal weight\n",
            "\n",
            "BMI Calculation Results\n",
            "-----------------------\n",
            "Weight: 70.0 kg\n",
            "Height: 1.75 m\n",
            "BMI: 22.9\n",
            "Category: Normal weight\n",
            "-----------------------\n"
          ]
        }
      ]
    },
    {
      "cell_type": "code",
      "source": [
        "### # Test Case 2: Overweight\n",
        "print(\"\\nTest Case 2: Overweight\")\n",
        "weight2, height2 = 90, 1.80\n",
        "bmi2 = calculate_bmi(weight2, height2)\n",
        "category2 = interpret_bmi(bmi2)\n",
        "display_bmi_result(weight2, height2, bmi2, category2)"
      ],
      "metadata": {
        "colab": {
          "base_uri": "https://localhost:8080/"
        },
        "id": "EWSib-6a2BbJ",
        "outputId": "1bdbc2cd-3f80-4825-c6c6-a211c14e4dec"
      },
      "execution_count": 5,
      "outputs": [
        {
          "output_type": "stream",
          "name": "stdout",
          "text": [
            "\n",
            "Test Case 2: Overweight\n",
            "\n",
            "BMI Calculation Results\n",
            "-----------------------\n",
            "Weight: 90.0 kg\n",
            "Height: 1.80 m\n",
            "BMI: 27.8\n",
            "Category: Overweight\n",
            "-----------------------\n"
          ]
        }
      ]
    },
    {
      "cell_type": "code",
      "source": [
        "#### # Test Case 3: Underweight\n",
        "print(\"\\nTest Case 3: Underweight\")\n",
        "weight3, height3 = 50, 1.70\n",
        "bmi3 = calculate_bmi(weight3, height3)\n",
        "category3 = interpret_bmi(bmi3)\n",
        "display_bmi_result(weight3, height3, bmi3, category3)\n"
      ],
      "metadata": {
        "colab": {
          "base_uri": "https://localhost:8080/"
        },
        "id": "4MBOdVea23nf",
        "outputId": "2a0da3cb-7a50-44ab-e741-bb74d9a734c3"
      },
      "execution_count": 6,
      "outputs": [
        {
          "output_type": "stream",
          "name": "stdout",
          "text": [
            "\n",
            "Test Case 3: Underweight\n",
            "\n",
            "BMI Calculation Results\n",
            "-----------------------\n",
            "Weight: 50.0 kg\n",
            "Height: 1.70 m\n",
            "BMI: 17.3\n",
            "Category: Underweight\n",
            "-----------------------\n"
          ]
        }
      ]
    },
    {
      "cell_type": "markdown",
      "metadata": {
        "id": "Z1EKFGZ14xRi"
      },
      "source": [
        "### Step 2: Calculate BODE Score"
      ]
    },
    {
      "cell_type": "code",
      "source": [
        "def normalize_dyspnea_description(description):\n",
        "    \"\"\"\n",
        "    These are used because the dataset contains these values in the dyspnea_description\n",
        "\n",
        "    Normalize variations of dyspnea descriptions to fit known categories.\n",
        "\n",
        "    >>> normalize_dyspnea_description(\"STOPS AFTER A FEW MINUTES\")\n",
        "    'Severe breathlessness'\n",
        "\n",
        "    >>> normalize_dyspnea_description(\"WHEN HURRYING\")\n",
        "    'Moderate breathlessness'\n",
        "    \"\"\"\n",
        "    description = description.upper().strip()\n",
        "    if \"STOPS AFTER A FEW MINUTES\" in description:\n",
        "        return \"Severe breathlessness\"\n",
        "    elif \"WHEN HURRYING\" in description:\n",
        "        return \"Moderate breathlessness\"\n",
        "    elif \"UNABLE TO LEAVE HOME\" in description:\n",
        "        return \"Severe breathlessness\"\n",
        "    elif \"SLOWER THAN PEERS\" in description:\n",
        "        return \"Moderate breathlessness\"\n",
        "    elif \"WALKING UPHILL\" in description:\n",
        "        return \"Moderate breathlessness\"\n",
        "    elif \"ONLY STRENUOUS EXERCISE\" in description:\n",
        "        return \"Mild breathlessness\"\n",
        "    elif \"BREATHLESS WHEN DRESSING\" in description:\n",
        "        return \"Severe breathlessness\"\n",
        "    elif \"STOPS WHEN WALKING AT PACE\" in description:\n",
        "        return \"Severe breathlessness\"\n",
        "    elif \"STOPS AFTER 100 YARDS\" in description:\n",
        "        return \"Severe breathlessness\"\n",
        "    return description\n",
        "\n",
        "def cal_bode_score(bmi, fev_pct, dyspnea_description, distance_in_meters):\n",
        "    \"\"\"\n",
        "    Calculate the BODE score based on BMI, FEV1 percentage, dyspnea description, and distance in meters.\n",
        "\n",
        "    >>> cal_bode_score(22, 70, 'ONLY STRENUOUS EXERCISE', 400)\n",
        "    1\n",
        "    >>> cal_bode_score(18, 40, 'STOPS WHEN WALKING AT PACE', 200)\n",
        "    8\n",
        "    >>> assert cal_bode_score(21, 36, 'STOPS WHEN WALKING AT PACE', 250) == 7\n",
        "    >>> cal_bode_score(15, 37, 'SLOWER THAN PEERS', 350)\n",
        "    6\n",
        "\n",
        "Parameters:\n",
        "    - bmi (float): Patient'sBMI value.\n",
        "    - fev_pct (float): FEV1 percentage of patient.\n",
        "    - dyspnea_description (str): Dyspnea description of a patient.\n",
        "    - distance_in_meters (float): Distance in meters.\n",
        "    \"\"\"\n",
        "    bode_score = 0\n",
        "    if bmi > 21:\n",
        "        bode_score += 0\n",
        "    else:\n",
        "        bode_score += 1\n",
        "    if fev_pct >= 65:\n",
        "        bode_score += 0\n",
        "    elif 50 <= fev_pct < 65:\n",
        "       bode_score += 1\n",
        "    elif 36 <= fev_pct < 50:\n",
        "        bode_score += 2\n",
        "    else:\n",
        "        bode_score += 3\n",
        "\n",
        "    dyspnea_description = normalize_dyspnea_description(dyspnea_description)\n",
        "    dyspnea_mapping = {\n",
        "        \"No breathlessness\": 0,\n",
        "        \"Mild breathlessness\": 1,\n",
        "        \"Moderate breathlessness\": 2,\n",
        "        \"Severe breathlessness\": 3,\n",
        "    }\n",
        "\n",
        "    dyspnea_score = dyspnea_mapping.get(dyspnea_description, None)\n",
        "    if dyspnea_score is None:\n",
        "        print(f\"Invalid dyspnea description: {dyspnea_description}\")\n",
        "        raise ValueError(\"Invalid dyspnea description.\")\n",
        "    bode_score += dyspnea_score\n",
        "    if distance_in_meters > 350:\n",
        "        bode_score += 0\n",
        "    elif 250 <= distance_in_meters <= 350:\n",
        "        bode_score += 1\n",
        "    elif 150 <= distance_in_meters < 250:\n",
        "        bode_score += 2\n",
        "    else:\n",
        "        bode_score += 3\n",
        "\n",
        "    return bode_score\n",
        "\n",
        "def run_doctests():\n",
        "    \"\"\"\n",
        "    Run all doctests in the module.\n",
        "    \"\"\"\n",
        "    doctest.testmod()\n",
        "\n",
        "if __name__ == \"__main__\":\n",
        "    # Run the doctests\n",
        "    run_doctests()\n"
      ],
      "metadata": {
        "id": "75HCtGlxApa0"
      },
      "execution_count": 15,
      "outputs": []
    },
    {
      "cell_type": "code",
      "source": [],
      "metadata": {
        "id": "cv-j4lIOPIVo"
      },
      "execution_count": null,
      "outputs": []
    },
    {
      "cell_type": "markdown",
      "metadata": {
        "id": "gxYDESdw4xRi"
      },
      "source": [
        "### Step 3: Calculate BODE Risk"
      ]
    },
    {
      "cell_type": "code",
      "source": [
        "def calculate_bode_risk(bode_score):\n",
        "    \"\"\"\n",
        "    Classify the BODE score into a corresponding risk category for patients with chronic obstructive pulmonary disease (COPD).\n",
        "\n",
        "    Parameters:\n",
        "    bode_score (int): The calculated BODE score (a sum of component scores that assess disease severity).\n",
        "\n",
        "    Returns:\n",
        "    str: The risk category based on the BODE score, which can be one of the following:\n",
        "         - \"Low\" for scores of 0 to 2.\n",
        "         - \"Moderate\" for scores of 3 to 4.\n",
        "         - \"High\" for scores of 5 to 6.\n",
        "         - \"Very High\" for scores of 7 or above.\n",
        "    >>> calculate_bode_risk(3)\n",
        "    'Moderate'\n",
        "    >>> calculate_bode_risk(6)\n",
        "    'High'\n",
        "    >>> calculate_bode_risk(8)\n",
        "    'Very High'\n",
        "    \"\"\"\n",
        "    if bode_score <= 2:\n",
        "        return \"Low\"\n",
        "    elif bode_score <= 4:\n",
        "        return \"Moderate\"\n",
        "    elif bode_score <= 6:\n",
        "        return \"High\"\n",
        "    else:\n",
        "        return \"Very High\"\n",
        "def run_doctests():\n",
        "    \"\"\"\n",
        "    Run all doctests in the module.\n",
        "    \"\"\"\n",
        "    doctest.testmod()\n",
        "\n",
        "if __name__ == \"__main__\":\n",
        "    # Run the doctests\n",
        "    run_doctests()\n"
      ],
      "metadata": {
        "id": "lB7Jm8sr8uko"
      },
      "execution_count": 18,
      "outputs": []
    },
    {
      "cell_type": "code",
      "source": [
        "calculate_bode_risk(8)"
      ],
      "metadata": {
        "colab": {
          "base_uri": "https://localhost:8080/",
          "height": 35
        },
        "id": "tJfbVIMRQFn2",
        "outputId": "16adac9f-d4bd-4ad9-e578-2526ba3aee58"
      },
      "execution_count": 17,
      "outputs": [
        {
          "output_type": "execute_result",
          "data": {
            "text/plain": [
              "'Very High'"
            ],
            "application/vnd.google.colaboratory.intrinsic+json": {
              "type": "string"
            }
          },
          "metadata": {},
          "execution_count": 17
        }
      ]
    },
    {
      "cell_type": "code",
      "source": [
        "calculate_bode_risk(6)"
      ],
      "metadata": {
        "colab": {
          "base_uri": "https://localhost:8080/",
          "height": 35
        },
        "id": "5gvC3lsHQPVK",
        "outputId": "1406a14e-11f8-4757-9989-8d5255c4d325"
      },
      "execution_count": 19,
      "outputs": [
        {
          "output_type": "execute_result",
          "data": {
            "text/plain": [
              "'High'"
            ],
            "application/vnd.google.colaboratory.intrinsic+json": {
              "type": "string"
            }
          },
          "metadata": {},
          "execution_count": 19
        }
      ]
    },
    {
      "cell_type": "code",
      "source": [
        "calculate_bode_risk(3)"
      ],
      "metadata": {
        "colab": {
          "base_uri": "https://localhost:8080/",
          "height": 35
        },
        "id": "-2T22nnyQPCl",
        "outputId": "f0349953-3e16-4c52-fa4b-779cc89df927"
      },
      "execution_count": 20,
      "outputs": [
        {
          "output_type": "execute_result",
          "data": {
            "text/plain": [
              "'Moderate'"
            ],
            "application/vnd.google.colaboratory.intrinsic+json": {
              "type": "string"
            }
          },
          "metadata": {},
          "execution_count": 20
        }
      ]
    },
    {
      "cell_type": "markdown",
      "metadata": {
        "id": "3i-OsQQ24xRi"
      },
      "source": [
        "### Step 4: Load Hospital Data"
      ]
    },
    {
      "cell_type": "code",
      "source": [
        "import json\n",
        "\n",
        "def load_hospital_data(file_path):\n",
        "    \"\"\"\n",
        "    Load hospital data from a JSON file.\n",
        "\n",
        "    Parameters:\n",
        "    file_path (str): The path to the JSON file containing hospital data.\n",
        "\n",
        "    Returns:\n",
        "    dict or list: The data loaded from the JSON file, which can be a list of dictionaries or a single dictionary,\n",
        "    depending on the structure of the JSON file.\n",
        "\n",
        "    Raises:\n",
        "    FileNotFoundError: If the file specified by file_path is not found.\n",
        "    JSONDecodeError: If the file is not a valid JSON format.\n",
        "    \"\"\"\n",
        "    with open(file_path, 'r') as file:\n",
        "        hospital_data = json.load(file)\n"
      ],
      "metadata": {
        "id": "1eJ2isHF9oLW"
      },
      "execution_count": 21,
      "outputs": []
    },
    {
      "cell_type": "code",
      "source": [
        "import json\n",
        "\n",
        "def load_hospital_data(file_path):\n",
        "    \"\"\"\n",
        "    Load hospital data from a JSON file.\n",
        "\n",
        "    Parameters:\n",
        "    file_path (str): The path to the JSON file containing hospital data.\n",
        "\n",
        "    Returns:\n",
        "    dict or list: The data loaded from the JSON file, which can be a list of dictionaries or a single dictionary,\n",
        "    depending on the structure of the JSON file.\n",
        "\n",
        "    Raises:\n",
        "    FileNotFoundError: If the file specified by file_path is not found.\n",
        "    JSONDecodeError: If the file is not a valid JSON format.\n",
        "    \"\"\"\n",
        "    try:\n",
        "        with open(file_path, 'r') as file:\n",
        "            hospital_data = json.load(file)\n",
        "        return hospital_data\n",
        "    except FileNotFoundError as e:\n",
        "        raise FileNotFoundError(f\"Error: The file {file_path} was not found.\") from e\n",
        "    except json.JSONDecodeError as e:\n",
        "        raise json.JSONDecodeError(f\"Error: The file {file_path} contains invalid JSON.\") from e\n"
      ],
      "metadata": {
        "id": "qgzfSZXw43X8"
      },
      "execution_count": 22,
      "outputs": []
    },
    {
      "cell_type": "code",
      "source": [
        "import json\n",
        "\n",
        "def load_hospital_data(file_path):                #load hospital data\n",
        "    with open(file_path, 'r') as file:\n",
        "        hospital_data = json.load(file)\n",
        "    return hospital_data\n",
        "\n",
        "hospital_data = load_hospital_data('hospitals (1).json')\n",
        "print(json.dumps(hospital_data, indent=2))"
      ],
      "metadata": {
        "colab": {
          "base_uri": "https://localhost:8080/"
        },
        "id": "X6ymTozk7PSR",
        "outputId": "c12db9f0-eb26-4f81-8f66-c8fcb5924856"
      },
      "execution_count": 34,
      "outputs": [
        {
          "output_type": "stream",
          "name": "stdout",
          "text": [
            "[\n",
            "  {\n",
            "    \"system\": \"BJC\",\n",
            "    \"hospitals\": [\n",
            "      {\n",
            "        \"name\": \"BJC\",\n",
            "        \"beds\": 2000\n",
            "      },\n",
            "      {\n",
            "        \"name\": \"BJC WEST COUNTY\",\n",
            "        \"beds\": 1000\n",
            "      },\n",
            "      {\n",
            "        \"name\": \"MISSOURI BAPTIST\",\n",
            "        \"beds\": 800\n",
            "      }\n",
            "    ]\n",
            "  },\n",
            "  {\n",
            "    \"system\": \"SSM\",\n",
            "    \"hospitals\": [\n",
            "      {\n",
            "        \"name\": \"SAINT LOUIS UNIVERSITY\",\n",
            "        \"beds\": 1000\n",
            "      },\n",
            "      {\n",
            "        \"name\": \"ST.MARY'S\",\n",
            "        \"beds\": 500\n",
            "      }\n",
            "    ]\n",
            "  },\n",
            "  {\n",
            "    \"system\": \"ST.LUKE'S\",\n",
            "    \"hospitals\": [\n",
            "      {\n",
            "        \"name\": \"ST.LUKE'S\",\n",
            "        \"beds\": 800\n",
            "      }\n",
            "    ]\n",
            "  }\n",
            "]\n"
          ]
        }
      ]
    },
    {
      "cell_type": "markdown",
      "metadata": {
        "id": "pWVWwiLw4xRj"
      },
      "source": [
        "### Step 5: Main business logic\n",
        "\n",
        "Call BODE Score, BODE Risk functions for each patient.\n",
        "\n",
        "For each hospital, calculate Avg BODE score and Avg BODE risk and count the number of cases for each hospital."
      ]
    },
    {
      "cell_type": "code",
      "source": [
        "import csv\n",
        "import json\n",
        "patient_csv_path = '/content/patient.csv'\n",
        "def load_patient_data(csv_path):\n",
        "    \"\"\"\n",
        "    Load patient data from a CSV file.\n",
        "    Parameters:\n",
        "    -csv_path (str): Path to the CSV file.\n",
        "    Returns:\n",
        "    -List: List of dictionaries containing patient information which contains keynames as 'NAME', 'HEIGHT_M', 'WEIGHT_KG', 'fev_pct', 'dyspnea_description', 'distance_in_meters', 'hospital'.\n",
        "    Exceptions:\n",
        "    -ValueError: If the CSV file is missing required columns or contains invalid data.\n",
        "    \"\"\"\n",
        "    required_columns = {'NAME', 'HEIGHT_M', 'WEIGHT_KG', 'fev_pct', 'dyspnea_description', 'distance_in_meters', 'hospital'}\n",
        "    patient_data = []\n",
        "\n",
        "    with open(csv_path, mode='r') as f:\n",
        "        reader = csv.DictReader(f)\n",
        "\n",
        "        missing_cols = required_columns - set(reader.fieldnames)\n",
        "        if missing_cols:\n",
        "            raise ValueError(f\"Missing columns: {missing_cols}\")\n",
        "        for row in reader:\n",
        "            try:\n",
        "                patient_data.append({\n",
        "                    'NAME': row['NAME'],\n",
        "                    'HEIGHT_M': float(row['HEIGHT_M']),\n",
        "                    'WEIGHT_KG': float(row['WEIGHT_KG']),\n",
        "                    'fev_pct': float(row['fev_pct']),\n",
        "                    'dyspnea_description': row['dyspnea_description'],\n",
        "                    'distance_in_meters': float(row['distance_in_meters']),\n",
        "                    'hospital': row['hospital']\n",
        "                })\n",
        "            except (ValueError, KeyError) as e:\n",
        "                name = row.get('NAME', 'Unknown')\n",
        "                print(f\"Skipping {name} due to error: {e}\")\n",
        "\n",
        "    return patient_data\n",
        "try:\n",
        "    patients = load_patient_data(patient_csv_path)\n",
        "    print(f\"Loaded {len(patients)} patients from '{patient_csv_path}'.\")\n",
        "except ValueError as e:\n",
        "    print(f\"Error loading patient data: {e}\")\n",
        "\n",
        "patient_csv = \"patient.csv\"\n",
        "hospital_json = \"hospitals.json\"\n",
        "\n",
        "patient_output_file = \"patient_output.csv\"\n",
        "hospital_output_file = \"hospital_output.csv\"\n",
        "\n",
        "import json\n",
        "\n",
        "def load_hospital_data(file_path):\n",
        "    with open(file_path, 'r') as file:\n",
        "        hospital_data = json.load(file)\n",
        "    return hospital_data\n",
        "\n",
        "hospital_data = load_hospital_data('hospitals (1).json')\n",
        "\n",
        "hospital_metrics = {}\n",
        "for entry in hospital_data:\n",
        "    for hospital in entry['hospitals']:\n",
        "        hospital_metrics[hospital['name']] = {\n",
        "            'total_bode_score': 0,\n",
        "            'total_risk': 0,\n",
        "            'copd_count': 0,\n",
        "            'beds': hospital['beds']\n",
        "        }\n",
        "\n",
        "def calculate_bmi(weight_kg, height_m):\n",
        "    return weight_kg / (height_m ** 2) if height_m > 0 else 0\n",
        "\n",
        "def normalize_dyspnea_description(description):\n",
        "    \"\"\"\n",
        "    These are used because the dataset contains these values in the dyspnea_description\n",
        "\n",
        "    Normalize variations of dyspnea descriptions to fit known categories.\n",
        "\n",
        "    >>> normalize_dyspnea_description(\"STOPS AFTER A FEW MINUTES\")\n",
        "    'Severe breathlessness'\n",
        "\n",
        "    >>> normalize_dyspnea_description(\"WHEN HURRYING\")\n",
        "    'Moderate breathlessness'\n",
        "    \"\"\"\n",
        "    description = description.upper().strip()\n",
        "    if \"STOPS AFTER A FEW MINUTES\" in description:\n",
        "        return \"Severe breathlessness\"\n",
        "    elif \"WHEN HURRYING\" in description:\n",
        "        return \"Moderate breathlessness\"\n",
        "    elif \"UNABLE TO LEAVE HOME\" in description:\n",
        "        return \"Severe breathlessness\"\n",
        "    elif \"SLOWER THAN PEERS\" in description:\n",
        "        return \"Moderate breathlessness\"\n",
        "    elif \"WALKING UPHILL\" in description:\n",
        "        return \"Moderate breathlessness\"\n",
        "    elif \"ONLY STRENUOUS EXERCISE\" in description:\n",
        "        return \"Mild breathlessness\"\n",
        "    elif \"BREATHLESS WHEN DRESSING\" in description:\n",
        "        return \"Severe breathlessness\"\n",
        "    elif \"STOPS WHEN WALKING AT PACE\" in description:\n",
        "        return \"Severe breathlessness\"\n",
        "    elif \"STOPS AFTER 100 YARDS\" in description:\n",
        "        return \"Severe breathlessness\"\n",
        "    return description\n",
        "\n",
        "def calculate_bode_score(bmi, fev_pct, dyspnea_description, distance_in_meters):\n",
        "    bode_score = 0\n",
        "    if bmi > 21:\n",
        "        bode_score += 0\n",
        "    else:\n",
        "        bode_score += 1\n",
        "    if fev_pct >= 65:\n",
        "        bode_score += 0\n",
        "    elif 50 <= fev_pct < 65:\n",
        "       bode_score += 1\n",
        "    elif 36 <= fev_pct < 50:\n",
        "        bode_score += 2\n",
        "    else:\n",
        "        bode_score += 3\n",
        "\n",
        "    dyspnea_description = normalize_dyspnea_description(dyspnea_description)\n",
        "    dyspnea_mapping = {\n",
        "        \"No breathlessness\": 0,\n",
        "        \"Mild breathlessness\": 1,\n",
        "        \"Moderate breathlessness\": 2,\n",
        "        \"Severe breathlessness\": 3,\n",
        "    }\n",
        "    dyspnea_score = dyspnea_mapping.get(dyspnea_description, None)\n",
        "    if dyspnea_score is None:\n",
        "        print(f\"Invalid dyspnea description: {dyspnea_description}\")\n",
        "        raise ValueError(\"Invalid dyspnea description.\")\n",
        "    bode_score += dyspnea_score\n",
        "    if distance_in_meters > 350:\n",
        "        bode_score += 0\n",
        "    elif 250 <= distance_in_meters <= 350:\n",
        "        bode_score += 1\n",
        "    elif 150 <= distance_in_meters < 250:\n",
        "        bode_score += 2\n",
        "    else:\n",
        "        bode_score += 3\n",
        "\n",
        "    return bode_score\n",
        "\n",
        "def calculate_bode_risk(bode_score):\n",
        "    if 0 <= bode_score <= 2:\n",
        "        return 0.80\n",
        "    elif 3 <= bode_score <= 4:\n",
        "        return 0.67\n",
        "    elif 5 <= bode_score <= 6:\n",
        "        return 0.57\n",
        "    elif 7 <= bode_score <= 10:\n",
        "        return 0.18\n",
        "    else:\n",
        "        raise ValueError(\"BODE score must be between 0 and 10.\")\n",
        "patient_results = []\n",
        "with open(patient_csv, 'r', encoding='utf-8-sig') as csvf:\n",
        "    reader = csv.DictReader(csvf)\n",
        "    header_names = reader.fieldnames\n",
        "    name_column = next((col for col in header_names if col.lower() == 'name'), None)\n",
        "    if name_column is None:\n",
        "        raise ValueError(\"Name column not found in the CSV file.\")\n",
        "\n",
        "    for row in reader:\n",
        "        name = row['NAME']\n",
        "        ssn = row['SSN']\n",
        "        language = row['LANGUAGE']\n",
        "        job = row['JOB']\n",
        "        try:\n",
        "            height_m = float(row['HEIGHT_M'])\n",
        "            weight_kg = float(row['WEIGHT_KG'])\n",
        "            fev_pct = float(row['fev_pct'])\n",
        "            dyspnea_description = row['dyspnea_description']\n",
        "            distance_in_meters = float(row['distance_in_meters'])\n",
        "            hospital_name = row['hospital']\n",
        "        except ValueError as e:\n",
        "            print(f\"Skipping {name} due to invalid data: {e}\")\n",
        "            continue\n",
        "        bmi = calculate_bmi(weight_kg, height_m)\n",
        "        BODE_SCORE = calculate_bode_score(bmi, fev_pct, dyspnea_description, distance_in_meters)\n",
        "        BODE_RISK = calculate_bode_risk(BODE_SCORE)\n",
        "\n",
        "        patient_results.append([name, BODE_SCORE, BODE_RISK, hospital_name])\n",
        "        if hospital_name in hospital_metrics:\n",
        "              hospital_metrics[hospital_name]['total_bode_score'] += BODE_SCORE\n",
        "              hospital_metrics[hospital_name]['total_risk'] += BODE_RISK\n",
        "              hospital_metrics[hospital_name]['copd_count'] += 1\n",
        "\n",
        "hospital_output_list = []\n",
        "for hospital_name, metrics in hospital_metrics.items():\n",
        "    copd_count = metrics['copd_count']\n",
        "    if copd_count > 0:\n",
        "        avg_bode_score = metrics['total_bode_score'] / copd_count\n",
        "        avg_bode_risk = metrics['total_risk'] / copd_count\n",
        "    else:\n",
        "        avg_bode_score = 0\n",
        "        avg_bode_risk = 0\n",
        "    pct_of_copd_cases = (copd_count / metrics['beds']) * 100 if metrics['beds'] > 0 else 0\n",
        "    hospital_output_list.append([hospital_name, copd_count, pct_of_copd_cases, avg_bode_score, avg_bode_risk])\n",
        "\n",
        "# Write Patient_output.csv\n",
        "with open(patient_output_file, 'w', newline='') as csvf:\n",
        "    writer = csv.writer(csvf)\n",
        "    writer.writerow(['NAME', 'BODE_SCORE', 'BODE_RISK', 'HOSPITAL'])\n",
        "    writer.writerows(patient_results)\n",
        "\n",
        "# Write Hospital_output.csv\n",
        "with open(hospital_output_file, 'w', newline='') as csvf:\n",
        "    writer = csv.writer(csvf)\n",
        "    writer.writerow(['HOSPITAL_NAME', 'COPD_COUNT', 'PCT_OF_COPD_CASES_OVER_BEDS', 'AVG_SCORE', 'AVG_RISK'])\n",
        "    writer.writerows(hospital_output_list)\n",
        "\n",
        "\n"
      ],
      "metadata": {
        "colab": {
          "base_uri": "https://localhost:8080/"
        },
        "id": "hekJ4b0sTQS4",
        "outputId": "605f7bf0-3208-4acb-ff37-1b3ea9b128e4"
      },
      "execution_count": 46,
      "outputs": [
        {
          "output_type": "stream",
          "name": "stdout",
          "text": [
            "Loaded 1000 patients from '/content/patient.csv'.\n"
          ]
        }
      ]
    }
  ],
  "metadata": {
    "language_info": {
      "name": "python"
    },
    "colab": {
      "provenance": [],
      "include_colab_link": true
    },
    "kernelspec": {
      "name": "python3",
      "display_name": "Python 3"
    }
  },
  "nbformat": 4,
  "nbformat_minor": 0
}